{
 "cells": [
  {
   "cell_type": "markdown",
   "metadata": {},
   "source": [
    "# Road Accident Severity Prediction\n",
    "This notebook demonstrates how to predict accident severity using XGBoost based on weather, lighting, and road conditions."
   ]
  },
  {
   "cell_type": "code",
   "execution_count": 3,
   "metadata": {},
   "outputs": [],
   "source": [
    "import pandas as pd\n",
    "import numpy as np\n",
    "from sklearn.model_selection import train_test_split\n",
    "from xgboost import XGBClassifier\n",
    "from sklearn.metrics import classification_report, confusion_matrix\n",
    "import seaborn as sns\n",
    "import matplotlib.pyplot as plt"
   ]
  },
  {
   "cell_type": "markdown",
   "metadata": {},
   "source": [
    "## Category Mappings\n",
    "These dictionaries define the meaning of encoded categorical variables."
   ]
  },
  {
   "cell_type": "code",
   "execution_count": 4,
   "metadata": {},
   "outputs": [],
   "source": [
    "WEATHER_CONDITIONS = {\n",
    "    1: 'Fine no high winds',\n",
    "    2: 'Raining no high winds',\n",
    "    3: 'Snowing no high winds',\n",
    "    4: 'Fine + high winds',\n",
    "    5: 'Raining + high winds',\n",
    "    6: 'Snowing + high winds',\n",
    "    7: 'Fog or mist',\n",
    "    8: 'Other',\n",
    "    9: 'Unknown'\n",
    "}\n",
    "\n",
    "LIGHT_CONDITIONS = {\n",
    "    1: 'Daylight',\n",
    "    2: 'Darkness - lights lit',\n",
    "    3: 'Darkness - lights unlit',\n",
    "    4: 'Darkness - no lighting',\n",
    "    5: 'Darkness - lighting unknown',\n",
    "    6: 'Unknown'\n",
    "}\n",
    "\n",
    "ROAD_SURFACE = {\n",
    "    1: 'Dry',\n",
    "    2: 'Wet/Damp',\n",
    "    3: 'Snow',\n",
    "    4: 'Frost/Ice',\n",
    "    5: 'Flood',\n",
    "    6: 'Oil/Diesel',\n",
    "    7: 'Mud'\n",
    "}"
   ]
  },
  {
   "cell_type": "markdown",
   "metadata": {},
   "source": [
    "## Load and Explore Data"
   ]
  },
  {
   "cell_type": "code",
   "execution_count": 5,
   "metadata": {},
   "outputs": [
    {
     "name": "stdout",
     "output_type": "stream",
     "text": [
      "Dataset Shape: (2806, 49)\n",
      "\n",
      "Feature Info:\n",
      "<class 'pandas.core.frame.DataFrame'>\n",
      "RangeIndex: 2806 entries, 0 to 2805\n",
      "Data columns (total 49 columns):\n",
      " #   Column                                       Non-Null Count  Dtype  \n",
      "---  ------                                       --------------  -----  \n",
      " 0   accident_index                               2806 non-null   float64\n",
      " 1   accident_year                                2806 non-null   int64  \n",
      " 2   accident_reference                           2806 non-null   int64  \n",
      " 3   location_easting_osgr                        2806 non-null   int64  \n",
      " 4   location_northing_osgr                       2806 non-null   int64  \n",
      " 5   longitude                                    2806 non-null   float64\n",
      " 6   latitude                                     2806 non-null   float64\n",
      " 7   police_force                                 2806 non-null   int64  \n",
      " 8   accident_severity                            2806 non-null   int64  \n",
      " 9   number_of_vehicles                           2806 non-null   int64  \n",
      " 10  number_of_casualties                         2806 non-null   int64  \n",
      " 11  date                                         2806 non-null   object \n",
      " 12  day_of_week                                  2806 non-null   int64  \n",
      " 13  time                                         2806 non-null   object \n",
      " 14  local_authority_district                     2806 non-null   int64  \n",
      " 15  local_authority_ons_district                 2806 non-null   object \n",
      " 16  local_authority_highway                      2806 non-null   object \n",
      " 17  first_road_class                             2806 non-null   int64  \n",
      " 18  first_road_number                            2806 non-null   int64  \n",
      " 19  road_type                                    2806 non-null   int64  \n",
      " 20  speed_limit                                  2806 non-null   int64  \n",
      " 21  junction_detail                              2806 non-null   int64  \n",
      " 22  junction_control                             2806 non-null   int64  \n",
      " 23  second_road_class                            2806 non-null   int64  \n",
      " 24  second_road_number                           2806 non-null   int64  \n",
      " 25  pedestrian_crossing_human_control            2806 non-null   int64  \n",
      " 26  pedestrian_crossing_physical_facilities      2806 non-null   int64  \n",
      " 27  light_conditions                             2806 non-null   int64  \n",
      " 28  weather_conditions                           2806 non-null   int64  \n",
      " 29  road_surface_conditions                      2806 non-null   int64  \n",
      " 30  special_conditions_at_site                   2806 non-null   int64  \n",
      " 31  carriageway_hazards                          2806 non-null   int64  \n",
      " 32  urban_or_rural_area                          2806 non-null   int64  \n",
      " 33  did_police_officer_attend_scene_of_accident  2806 non-null   int64  \n",
      " 34  trunk_road_flag                              2806 non-null   int64  \n",
      " 35  lsoa_of_accident_location                    2806 non-null   object \n",
      " 36  enhanced_severity_collision                  2806 non-null   int64  \n",
      " 37  Cluster                                      2806 non-null   int64  \n",
      " 38  PC1                                          2806 non-null   float64\n",
      " 39  PC2                                          2806 non-null   float64\n",
      " 40  PC3                                          2806 non-null   float64\n",
      " 41  PC4                                          2806 non-null   float64\n",
      " 42  PC5                                          2806 non-null   float64\n",
      " 43  Factor 1                                     2806 non-null   float64\n",
      " 44  Factor 2                                     2806 non-null   float64\n",
      " 45  Factor 3                                     2806 non-null   float64\n",
      " 46  Factor 4                                     2806 non-null   float64\n",
      " 47  Factor 5                                     2806 non-null   float64\n",
      " 48  Classification_Label                         2806 non-null   int64  \n",
      "dtypes: float64(13), int64(31), object(5)\n",
      "memory usage: 1.0+ MB\n"
     ]
    }
   ],
   "source": [
    "# Load the data\n",
    "df = pd.read_csv('accident_analysis_export.csv')\n",
    "\n",
    "# Display basic information\n",
    "print(\"Dataset Shape:\", df.shape)\n",
    "print(\"\\nFeature Info:\")\n",
    "df.info()"
   ]
  },
  {
   "cell_type": "markdown",
   "metadata": {},
   "source": [
    "## Data Preprocessing"
   ]
  },
  {
   "cell_type": "code",
   "execution_count": 6,
   "metadata": {},
   "outputs": [
    {
     "name": "stdout",
     "output_type": "stream",
     "text": [
      "Processed features:\n",
      "\n",
      "   light_conditions  weather_conditions  road_surface_conditions  road_type  \\\n",
      "0                 1                   1                        2          6   \n",
      "1                 1                   4                        2          6   \n",
      "2                 1                   5                        2          6   \n",
      "3                 4                   5                        2          1   \n",
      "4                 1                   2                        2          3   \n",
      "\n",
      "   speed_limit  urban_or_rural_area  junction_detail  number_of_vehicles  \\\n",
      "0           30                    2                3                   2   \n",
      "1           60                    2                0                   2   \n",
      "2           30                    1                3                   2   \n",
      "3           30                    1                0                   2   \n",
      "4           30                    1                1                   2   \n",
      "\n",
      "   number_of_casualties  accident_severity  \n",
      "0                     1                  2  \n",
      "1                     3                  3  \n",
      "2                     2                  3  \n",
      "3                     1                  3  \n",
      "4                     1                  3  \n"
     ]
    }
   ],
   "source": [
    "def preprocess_data(df):\n",
    "    features = [\n",
    "        'light_conditions', 'weather_conditions', 'road_surface_conditions',\n",
    "        'road_type', 'speed_limit', 'urban_or_rural_area',\n",
    "        'junction_detail', 'number_of_vehicles', 'number_of_casualties'\n",
    "    ]\n",
    "    \n",
    "    df_model = df[features + ['accident_severity']].copy()\n",
    "    df_model = df_model.fillna(-1)\n",
    "    \n",
    "    return df_model\n",
    "\n",
    "# Preprocess the data\n",
    "df_processed = preprocess_data(df)\n",
    "print(\"Processed features:\\n\")\n",
    "print(df_processed.head())"
   ]
  },
  {
   "cell_type": "markdown",
   "metadata": {},
   "source": [
    "## Model Training and Evaluation"
   ]
  },
  {
   "cell_type": "code",
   "execution_count": 9,
   "metadata": {},
   "outputs": [],
   "source": [
    "def preprocess_data(df):\n",
    "    features = [\n",
    "        'light_conditions', 'weather_conditions', 'road_surface_conditions',\n",
    "        'road_type', 'speed_limit', 'urban_or_rural_area',\n",
    "        'junction_detail', 'number_of_vehicles', 'number_of_casualties'\n",
    "    ]\n",
    "    \n",
    "    df_model = df[features + ['accident_severity']].copy()\n",
    "    df_model = df_model.fillna(-1)\n",
    "    \n",
    "    # Adjust severity labels to start from 0 (subtract 1)\n",
    "    df_model['accident_severity'] = df_model['accident_severity'] - 1\n",
    "    \n",
    "    return df_model\n",
    "\n",
    "def train_model(df):\n",
    "    df_model = preprocess_data(df)\n",
    "    \n",
    "    X = df_model.drop('accident_severity', axis=1)\n",
    "    y = df_model['accident_severity']\n",
    "    \n",
    "    X_train, X_test, y_train, y_test = train_test_split(X, y, test_size=0.2, random_state=42)\n",
    "    \n",
    "    model = XGBClassifier(\n",
    "        learning_rate=0.1,\n",
    "        max_depth=5,\n",
    "        n_estimators=100,\n",
    "        random_state=42\n",
    "    )\n",
    "    \n",
    "    model.fit(X_train, y_train)\n",
    "    y_pred = model.predict(X_test)\n",
    "    \n",
    "    return model, X_test, y_test, y_pred\n",
    "\n",
    "# Train the model\n",
    "model, X_test, y_test, y_pred = train_model(df)"
   ]
  },
  {
   "cell_type": "markdown",
   "metadata": {},
   "source": [
    "## Model Performance Analysis"
   ]
  },
  {
   "cell_type": "code",
   "execution_count": 10,
   "metadata": {},
   "outputs": [
    {
     "name": "stdout",
     "output_type": "stream",
     "text": [
      "Classification Report:\n",
      "              precision    recall  f1-score   support\n",
      "\n",
      "           0       0.00      0.00      0.00         8\n",
      "           1       0.20      0.01      0.01       138\n",
      "           2       0.74      0.99      0.85       416\n",
      "\n",
      "    accuracy                           0.73       562\n",
      "   macro avg       0.31      0.33      0.29       562\n",
      "weighted avg       0.60      0.73      0.63       562\n",
      "\n"
     ]
    },
    {
     "data": {
      "image/png": "[encoded data removed]",
      "text/plain": [
       "<Figure size 1000x700 with 2 Axes>"
      ]
     },
     "metadata": {},
     "output_type": "display_data"
    }
   ],
   "source": [
    "# Classification report\n",
    "print(\"Classification Report:\")\n",
    "print(classification_report(y_test, y_pred))\n",
    "\n",
    "# Confusion matrix visualization\n",
    "plt.figure(figsize=(10,7))\n",
    "sns.heatmap(confusion_matrix(y_test, y_pred), \n",
    "            annot=True, \n",
    "            fmt='d', \n",
    "            cmap='Blues')\n",
    "plt.xlabel('Predicted')\n",
    "plt.ylabel('Actual')\n",
    "plt.title('Confusion Matrix')\n",
    "plt.show()"
   ]
  },
  {
   "cell_type": "markdown",
   "metadata": {},
   "source": [
    "## Feature Importance Analysis"
   ]
  },
  {
   "cell_type": "code",
   "execution_count": 11,
   "metadata": {},
   "outputs": [
    {
     "data": {
      "image/png": "[encoded data removed]",
      "text/plain": [
       "<Figure size 1000x600 with 1 Axes>"
      ]
     },
     "metadata": {},
     "output_type": "display_data"
    }
   ],
   "source": [
    "# Plot feature importance\n",
    "importance_df = pd.DataFrame({\n",
    "    'feature': X_test.columns,\n",
    "    'importance': model.feature_importances_\n",
    "}).sort_values('importance', ascending=False)\n",
    "\n",
    "plt.figure(figsize=(10,6))\n",
    "sns.barplot(data=importance_df, x='importance', y='feature')\n",
    "plt.title('Feature Importance')\n",
    "plt.show()"
   ]
  },
  {
   "cell_type": "markdown",
   "metadata": {},
   "source": [
    "## Prediction Function"
   ]
  },
  {
   "cell_type": "code",
   "execution_count": 12,
   "metadata": {},
   "outputs": [
    {
     "name": "stdout",
     "output_type": "stream",
     "text": [
      "Predicted severity: 2\n"
     ]
    }
   ],
   "source": [
    "def predict_risk(model, light_condition, weather_condition, road_surface, road_type,\n",
    "                speed_limit, urban_rural, junction, num_vehicles, num_casualties):\n",
    "    \"\"\"Make prediction with actual category values\"\"\"\n",
    "    input_data = pd.DataFrame([[light_condition, weather_condition, road_surface, road_type,\n",
    "                               speed_limit, urban_rural, junction, num_vehicles, num_casualties]],\n",
    "                             columns=['light_conditions', 'weather_conditions', 'road_surface_conditions',\n",
    "                                     'road_type', 'speed_limit', 'urban_or_rural_area',\n",
    "                                     'junction_detail', 'number_of_vehicles', 'number_of_casualties'])\n",
    "    return model.predict(input_data)[0]\n",
    "\n",
    "# Example prediction\n",
    "example_prediction = predict_risk(\n",
    "    model,\n",
    "    light_condition=1,    # Daylight\n",
    "    weather_condition=1,  # Fine no high winds\n",
    "    road_surface=1,       # Dry\n",
    "    road_type=1,\n",
    "    speed_limit=30,\n",
    "    urban_rural=1,\n",
    "    junction=1,\n",
    "    num_vehicles=2,\n",
    "    num_casualties=1\n",
    ")\n",
    "\n",
    "print(f\"Predicted severity: {example_prediction}\")"
   ]
  },
  {
   "cell_type": "markdown",
   "metadata": {},
   "source": [
    "## Export the Severity Prediction Model"
   ]
  },
  {
   "cell_type": "code",
   "execution_count": 13,
   "metadata": {},
   "outputs": [],
   "source": [
    "model.save_model('accident_model.json')"
   ]
  }
 ],
 "metadata": {
  "kernelspec": {
   "display_name": "env",
   "language": "python",
   "name": "python3"
  },
  "language_info": {
   "codemirror_mode": {
    "name": "ipython",
    "version": 3
   },
   "file_extension": ".py",
   "mimetype": "text/x-python",
   "name": "python",
   "nbconvert_exporter": "python",
   "pygments_lexer": "ipython3",
   "version": "3.12.5"
  }
 },
 "nbformat": 4,
 "nbformat_minor": 4
}
