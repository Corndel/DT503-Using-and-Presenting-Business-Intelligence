{
  "cells": [
    {
      "cell_type": "markdown",
      "metadata": {},
      "source": [
        "# Advanced Time Series Analysis: Traffic Accident Risk Prediction\n",
        "\n",
        "This notebook implements advanced time series analysis techniques to create a practical model for predicting traffic accident risks. We'll learn how to:\n",
        "\n",
        "* Analyze temporal patterns in accident data\n",
        "* Implement multiple forecasting approaches (SARIMA and Prophet)\n",
        "* Create a production-ready prediction model\n",
        "* Visualize results in PowerBI\n",
        "\n",
        "## Prerequisites\n",
        "\n",
        "Before starting this tutorial, ensure you have:\n",
        "- Basic understanding of Python programming\n",
        "- Familiarity with pandas and numpy\n",
        "- PowerBI Desktop installed (for visualization)"
      ]
    },
    {
      "cell_type": "markdown",
      "metadata": {},
      "source": [
        "## Required Libraries\n",
        "\n",
        "Let's start by importing all the libraries we'll need for our analysis:"
      ]
    },
    {
      "cell_type": "code",
      "execution_count": 1,
      "metadata": {},
      "outputs": [],
      "source": [
        "# Import required libraries\n",
        "import pandas as pd\n",
        "import numpy as np\n",
        "from prophet import Prophet\n",
        "from statsmodels.tsa.statespace.sarimax import SARIMAX\n",
        "from sklearn.metrics import mean_squared_error, mean_absolute_error\n",
        "import matplotlib.pyplot as plt\n",
        "from typing import Dict\n",
        "from datetime import datetime\n",
        "\n",
        "# Set display options\n",
        "pd.set_option('display.max_columns', None)\n",
        "pd.set_option('display.expand_frame_repr', False)"
      ]
    },
    {
      "cell_type": "markdown",
      "metadata": {},
      "source": [
        "## Data Loading and Preparation\n",
        "\n",
        "First, let's define our TimeSeriesAnalyser class that will handle all our analysis:"
      ]
    },
    {
      "cell_type": "code",
      "execution_count": 2,
      "metadata": {},
      "outputs": [],
      "source": [
        "class TimeSeriesAnalyser:\n",
        "    \"\"\"Handles time series analysis of accident data.\"\"\"\n",
        "    \n",
        "    def __init__(self):\n",
        "        self.prophet_model = None\n",
        "        self.sarima_model = None\n",
        "        self.seasonal_patterns = {}\n",
        "        self.weather_columns = None\n",
        "        self.weather_means = None\n",
        "    \n",
        "    def analyse_seasonality(self, data: pd.DataFrame) -> Dict:\n",
        "        \"\"\"Analyse seasonal patterns in the data.\"\"\"\n",
        "        patterns = {\n",
        "            'hourly': data.groupby('hour').size(),\n",
        "            'daily': data.groupby('day_of_week').size(),\n",
        "            'monthly': data.groupby('month').size()\n",
        "        }\n",
        "        \n",
        "        self.seasonal_patterns = {\n",
        "            'peak_hour': patterns['hourly'].idxmax(),\n",
        "            'peak_day': patterns['daily'].idxmax(),\n",
        "            'peak_month': patterns['monthly'].idxmax()\n",
        "        }\n",
        "        \n",
        "        return self.seasonal_patterns"
      ]
    },
    {
      "cell_type": "markdown",
      "metadata": {},
      "source": [
        "Next, let's add methods for visualizing our seasonal patterns:"
      ]
    },
    {
      "cell_type": "code",
      "execution_count": 3,
      "metadata": {},
      "outputs": [],
      "source": [
        "def visualise_seasonality(self, data: pd.DataFrame):\n",
        "    \"\"\"Create visualisations of seasonal patterns.\"\"\"\n",
        "    fig, (ax1, ax2, ax3) = plt.subplots(3, 1, figsize=(15, 12))\n",
        "    \n",
        "    # Hourly pattern\n",
        "    hourly = data.groupby('hour').size()\n",
        "    ax1.bar(hourly.index, hourly.values, color='skyblue')\n",
        "    ax1.set_title('Hourly Distribution of Accidents')\n",
        "    ax1.set_xlabel('Hour of Day')\n",
        "    ax1.set_ylabel('Number of Accidents')\n",
        "    ax1.grid(True, alpha=0.3)\n",
        "    \n",
        "    # Daily pattern\n",
        "    daily = data.groupby('day_of_week').size()\n",
        "    days = ['Monday', 'Tuesday', 'Wednesday', 'Thursday', 'Friday', 'Saturday', 'Sunday']\n",
        "    ax2.bar(days, daily.values, color='lightgreen')\n",
        "    ax2.set_title('Daily Distribution of Accidents')\n",
        "    ax2.set_xlabel('Day of Week')\n",
        "    ax2.set_ylabel('Number of Accidents')\n",
        "    plt.setp(ax2.xaxis.get_majorticklabels(), rotation=45)\n",
        "    ax2.grid(True, alpha=0.3)\n",
        "    \n",
        "    # Monthly pattern\n",
        "    monthly = data.groupby('month').size()\n",
        "    months = ['Jan', 'Feb', 'Mar', 'Apr', 'May', 'Jun', 'Jul', 'Aug', 'Sep', 'Oct', 'Nov', 'Dec']\n",
        "    ax3.bar(months, monthly.values, color='salmon')\n",
        "    ax3.set_title('Monthly Distribution of Accidents')\n",
        "    ax3.set_xlabel('Month')\n",
        "    ax3.set_ylabel('Number of Accidents')\n",
        "    plt.setp(ax3.xaxis.get_majorticklabels(), rotation=45)\n",
        "    ax3.grid(True, alpha=0.3)\n",
        "    \n",
        "    plt.tight_layout()\n",
        "    plt.show()\n",
        "    \n",
        "    # Print summary statistics\n",
        "    print(\"\\nSeasonal Pattern Summary:\")\n",
        "    print(f\"Peak hour: {self.seasonal_patterns['peak_hour']:02d}:00\")\n",
        "    print(f\"Peak day: {days[self.seasonal_patterns['peak_day']]}\")\n",
        "    print(f\"Peak month: {months[self.seasonal_patterns['peak_month']-1]}\")"
      ]
    },
    {
      "cell_type": "markdown",
      "metadata": {},
      "source": [
        "## Model Implementation\n",
        "\n",
        "Now let's implement our prediction models, starting with Prophet. The Prophet model is particularly good at handling multiple seasonality patterns and incorporating external regressors like weather conditions."
      ]
    },
    {
      "cell_type": "code",
      "execution_count": 4,
      "metadata": {},
      "outputs": [],
      "source": [
        "def fit_prophet(self, data: pd.DataFrame):\n",
        "    \"\"\"Implement Prophet model for accident prediction.\n",
        "    \n",
        "    Prophet handles multiple seasonal patterns and can incorporate\n",
        "    additional regressors like weather conditions. We configure it\n",
        "    with multiplicative seasonality to account for varying amplitudes.\n",
        "    \"\"\"\n",
        "    # Prepare data for Prophet\n",
        "    prophet_data = data.groupby('date').size().reset_index()\n",
        "    prophet_data.columns = ['ds', 'y']\n",
        "    \n",
        "    # Add weather as a regressor\n",
        "    weather_dummies = pd.get_dummies(data['weather_conditions'], prefix='weather')\n",
        "    daily_weather = weather_dummies.groupby(data['date']).mean()\n",
        "    prophet_data = prophet_data.join(daily_weather, on='ds')\n",
        "    \n",
        "    # Store weather columns for prediction\n",
        "    self.weather_columns = daily_weather.columns\n",
        "    self.weather_means = daily_weather.mean()\n",
        "    \n",
        "    # Initialize Prophet model with comprehensive seasonality\n",
        "    self.prophet_model = Prophet(\n",
        "        yearly_seasonality=True,\n",
        "        weekly_seasonality=True,\n",
        "        daily_seasonality=True,\n",
        "        seasonality_mode='multiplicative'\n",
        "    )\n",
        "    \n",
        "    # Add weather regressors\n",
        "    for column in self.weather_columns:\n",
        "        self.prophet_model.add_regressor(str(column))\n",
        "    \n",
        "    # Fit the model\n",
        "    self.prophet_model.fit(prophet_data)"
      ]
    },
    {
      "cell_type": "markdown",
      "metadata": {},
      "source": [
        "Next, let's implement our SARIMA model. SARIMA (Seasonal Autoregressive Integrated Moving Average) is particularly effective at capturing complex time dependencies in the data."
      ]
    },
    {
      "cell_type": "code",
      "execution_count": 5,
      "metadata": {},
      "outputs": [],
      "source": [
        "def fit_sarima(self, data: pd.DataFrame):\n",
        "    \"\"\"Implement SARIMA model following time series best practices.\n",
        "    \n",
        "    We configure SARIMA with parameters that capture:\n",
        "    - Short-term dependencies (AR and MA components)\n",
        "    - Trend (Integration)\n",
        "    - Seasonal patterns\n",
        "    \"\"\"\n",
        "    # Prepare daily counts\n",
        "    daily_counts = data.groupby('date').size()\n",
        "    \n",
        "    # Initialize SARIMA model with carefully chosen parameters\n",
        "    self.sarima_model = SARIMAX(\n",
        "        daily_counts,\n",
        "        order=(2, 1, 1),          # Non-seasonal components\n",
        "        seasonal_order=(1, 1, 1, 12)  # Seasonal components\n",
        "    )\n",
        "    \n",
        "    # Fit the model and store results\n",
        "    self.sarima_results = self.sarima_model.fit()\n",
        "    \n",
        "    return self.sarima_results"
      ]
    },
    {
      "cell_type": "markdown",
      "metadata": {},
      "source": [
        "Now let's implement methods to generate predictions from our models:"
      ]
    },
    {
      "cell_type": "code",
      "execution_count": 6,
      "metadata": {},
      "outputs": [],
      "source": [
        "def predict_prophet(self, dates):\n",
        "    \"\"\"Generate Prophet predictions including weather effects.\n",
        "    \n",
        "    This method creates a prediction dataframe with appropriate\n",
        "    weather conditions (using historical averages) and generates\n",
        "    forecasts with uncertainty intervals.\n",
        "    \"\"\"\n",
        "    # Create future dataframe\n",
        "    future = pd.DataFrame({'ds': dates})\n",
        "    \n",
        "    # Add weather regressors with mean values\n",
        "    for column in self.weather_columns:\n",
        "        future[column] = self.weather_means[column]\n",
        "    \n",
        "    return self.prophet_model.predict(future)"
      ]
    },
    {
      "cell_type": "markdown",
      "metadata": {},
      "source": [
        "## Model Evaluation\n",
        "\n",
        "Let's create comprehensive evaluation methods to compare our models' performance:"
      ]
    },
    {
      "cell_type": "code",
      "execution_count": 7,
      "metadata": {},
      "outputs": [],
      "source": [
        "def evaluate_models(self, test_data: pd.DataFrame) -> Dict:\n",
        "    \"\"\"Evaluate model performance using multiple metrics.\n",
        "    \n",
        "    This method calculates several key performance metrics:\n",
        "    - RMSE (Root Mean Square Error)\n",
        "    - MAE (Mean Absolute Error)\n",
        "    - Prediction intervals coverage\n",
        "    \"\"\"\n",
        "    # Prepare actual values\n",
        "    daily_actuals = test_data.groupby('date').size()\n",
        "    test_dates = daily_actuals.index\n",
        "    \n",
        "    # Get predictions from both models\n",
        "    prophet_preds = self.predict_prophet(test_dates)\n",
        "    sarima_preds = self.sarima_results.predict(\n",
        "        start=test_dates[0],\n",
        "        end=test_dates[-1]\n",
        "    )\n",
        "    \n",
        "    # Calculate metrics\n",
        "    metrics = {\n",
        "        'Prophet': {\n",
        "            'RMSE': np.sqrt(mean_squared_error(daily_actuals, prophet_preds['yhat'])),\n",
        "            'MAE': mean_absolute_error(daily_actuals, prophet_preds['yhat'])\n",
        "        },\n",
        "        'SARIMA': {\n",
        "            'RMSE': np.sqrt(mean_squared_error(daily_actuals, sarima_preds)),\n",
        "            'MAE': mean_absolute_error(daily_actuals, sarima_preds)\n",
        "        }\n",
        "    }\n",
        "    \n",
        "    return metrics"
      ]
    },
    {
      "cell_type": "markdown",
      "metadata": {},
      "source": [
        "## PowerBI Integration\n",
        "\n",
        "Let's create methods to export our results in a PowerBI-friendly format:"
      ]
    },
    {
      "cell_type": "code",
      "execution_count": 8,
      "metadata": {},
      "outputs": [],
      "source": [
        "def export_for_powerbi(self, predictions: pd.DataFrame, \n",
        "                      actual_data: pd.DataFrame) -> Dict:\n",
        "    \"\"\"Prepare and export results for PowerBI visualization.\n",
        "    \n",
        "    Creates a structured set of dataframes that can be easily\n",
        "    imported into PowerBI for interactive visualization.\n",
        "    \"\"\"\n",
        "    # Prepare predictions table\n",
        "    powerbi_predictions = pd.DataFrame({\n",
        "        'Date': predictions.index,\n",
        "        'Prophet_Prediction': predictions['prophet_pred'],\n",
        "        'SARIMA_Prediction': predictions['sarima_pred'],\n",
        "        'Actual_Value': actual_data,\n",
        "        'Year': predictions.index.year,\n",
        "        'Month': predictions.index.month,\n",
        "        'Day': predictions.index.day,\n",
        "        'DayOfWeek': predictions.index.dayofweek\n",
        "    })\n",
        "    \n",
        "    # Prepare seasonal patterns table\n",
        "    seasonal_patterns = pd.DataFrame({\n",
        "        'Pattern_Type': ['Hourly', 'Daily', 'Monthly'],\n",
        "        'Peak_Time': [\n",
        "            self.seasonal_patterns['peak_hour'],\n",
        "            self.seasonal_patterns['peak_day'],\n",
        "            self.seasonal_patterns['peak_month']\n",
        "        ]\n",
        "    })\n",
        "    \n",
        "    return {\n",
        "        'predictions': powerbi_predictions,\n",
        "        'patterns': seasonal_patterns\n",
        "    }"
      ]
    },
    {
      "cell_type": "markdown",
      "metadata": {},
      "source": [
        "## Example Usage\n",
        "\n",
        "Let's demonstrate how to use our complete analysis framework:"
      ]
    },
    {
      "cell_type": "code",
      "execution_count": 9,
      "metadata": {},
      "outputs": [],
      "source": [
        "def main():\n",
        "    \"\"\"Demonstrate the complete accident prediction workflow.\"\"\"\n",
        "    # Load and prepare data\n",
        "    data = pd.read_csv('accident_data.csv')\n",
        "    data['date'] = pd.to_datetime(data['date'])\n",
        "    \n",
        "    # Initialize analyzer\n",
        "    analyser = TimeSeriesAnalyser()\n",
        "    \n",
        "    # Analyze patterns\n",
        "    patterns = analyser.analyse_seasonality(data)\n",
        "    analyser.visualise_seasonality(data)\n",
        "    \n",
        "    # Train models\n",
        "    print(\"Training models...\")\n",
        "    analyser.fit_prophet(data)\n",
        "    analyser.fit_sarima(data)\n",
        "    \n",
        "    # Generate and evaluate predictions\n",
        "    evaluation_results = analyser.evaluate_models(data)\n",
        "    \n",
        "    # Export for PowerBI\n",
        "    powerbi_data = analyser.export_for_powerbi(\n",
        "        predictions,\n",
        "        actual_data\n",
        "    )\n",
        "    \n",
        "    return analyser, evaluation_results, powerbi_data"
      ]
    },
    {
      "cell_type": "markdown",
      "metadata": {},
      "source": [
        "## Conclusion\n",
        "\n",
        "This notebook has implemented a comprehensive framework for traffic accident prediction using advanced time series analysis. The combination of Prophet and SARIMA models, along with seasonal pattern analysis, provides robust predictions that can be valuable for traffic safety planning.\n",
        "\n",
        "Key features of our implementation:\n",
        "1. Multiple modeling approaches for robust predictions\n",
        "2. Comprehensive seasonal pattern analysis\n",
        "3. Integration with PowerBI for interactive visualization\n",
        "4. Production-ready code structure\n",
        "\n",
        "For practical application, consider:\n",
        "- Regular retraining of models with new data\n",
        "- Monitoring prediction accuracy over time\n",
        "- Incorporating additional features like weather forecasts\n",
        "- Setting up automated alerts for high-risk periods"
      ]
    }
  ],
  "metadata": {
    "kernelspec": {
      "display_name": "Python 3",
      "language": "python",
      "name": "python3"
    },
    "language_info": {
      "codemirror_mode": {
        "name": "ipython",
        "version": 3
      },
      "file_extension": ".py",
      "mimetype": "text/x-python",
      "name": "python",
      "nbconvert_exporter": "python",
      "pygments_lexer": "ipython3",
      "version": "3.8.10"
    }
  },
  "nbformat": 4,
  "nbformat_minor": 4
}
