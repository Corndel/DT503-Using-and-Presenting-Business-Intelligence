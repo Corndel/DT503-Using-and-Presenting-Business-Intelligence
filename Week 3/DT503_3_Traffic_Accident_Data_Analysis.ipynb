{
 "cells": [
  {
   "cell_type": "markdown",
   "id": "d9c5a102",
   "metadata": {},
   "source": [
    "# Traffic Accident Data Analysis\n",
    "\n",
    "This notebook explores and analyses a subset of the 'dft-road-casualty-statistics-collision-2023' traffic accident dataset, filtered to a specific region. Using techniques such as Principal Component Analysis (PCA), Factor Analysis, Cluster Analysis and Discriminant Analysis. The goal is to uncover patterns, reduce data dimensionality and develop a reliable classification model.\n",
    "\n",
    "## Analysis Techniques Covered:\n",
    "- **Principal Component Analysis (PCA)**: for dimensionality reduction\n",
    "- **Factor Analysis**: to identify latent factors\n",
    "- **Cluster Analysis**: to find natural groupings in the data\n",
    "- **Discriminant Analysis**: to develop a classification model\n",
    "\n"
   ]
  },
  {
   "cell_type": "markdown",
   "id": "e2b3bd3d",
   "metadata": {},
   "source": [
    "## Step 1: Load and Inspect Data\n",
    "Let's begin by loading the dataset and examining its structure."
   ]
  },
  {
   "cell_type": "code",
   "execution_count": null,
   "id": "ae0a9be9",
   "metadata": {},
   "outputs": [],
   "source": []
  },
  {
   "cell_type": "markdown",
   "id": "9a968035",
   "metadata": {},
   "source": [
    "## Step 2: Principal Component Analysis (PCA)\n",
    "PCA reduces the data's dimensionality by finding components that explain most of the variance. This helps simplify complex datasets.\n",
    "\n"
   ]
  },
  {
   "cell_type": "code",
   "execution_count": null,
   "id": "a8cd66a3",
   "metadata": {},
   "outputs": [],
   "source": []
  },
  {
   "cell_type": "markdown",
   "id": "db148861",
   "metadata": {},
   "source": [
    "### PCA Explained Variance\n",
    "We can visualise the cumulative variance explained by each component."
   ]
  },
  {
   "cell_type": "code",
   "execution_count": null,
   "id": "2e0a3082",
   "metadata": {},
   "outputs": [],
   "source": []
  },
  {
   "cell_type": "markdown",
   "id": "63f33ded",
   "metadata": {},
   "source": [
    "The cumulative explained variance plot shows the proportion of variance captured by each component."
   ]
  },
  {
   "cell_type": "markdown",
   "id": "096b4174",
   "metadata": {},
   "source": [
    "### Interpretation\n",
    "\n",
    "The original dataset contained 22 numerical components relevant to accident conditions (after selecting and standardising them).\n",
    "\n",
    "PCA revealed that the first 5 components explained approximately 45% of the total variance in the data. This means that instead of using all 22 original variables, we can focus on these 5 main components for a simpler yet representative view of the dataset.\n",
    "\n",
    "The reduction from 22 to 5 components enables us to capture the primary patterns without the full complexity of the original data, facilitating clearer analysis in the subsequent steps."
   ]
  },
  {
   "cell_type": "markdown",
   "id": "40d1004c",
   "metadata": {},
   "source": [
    "## Step 3: Factor Analysis\n",
    "Factor Analysis identifies latent factors within the data. These factors help explain the underlying structure of relationships among variables.\n",
    "\n",
    "### Factor Loadings Heatmap\n",
    "The heatmap below shows the factor loadings, highlighting which variables contribute most to each factor."
   ]
  },
  {
   "cell_type": "code",
   "execution_count": null,
   "id": "077dc048",
   "metadata": {},
   "outputs": [],
   "source": []
  },
  {
   "cell_type": "code",
   "execution_count": null,
   "id": "67d84037",
   "metadata": {},
   "outputs": [],
   "source": []
  },
  {
   "cell_type": "markdown",
   "id": "5ed81071",
   "metadata": {},
   "source": [
    "The heatmap of factor loadings shows the strength of association between each variable and the latent factors identified.\n",
    "\n",
    "- Each factor (e.g., Factor 1, Factor 2) has strong loadings for certain variables, suggesting specific accident patterns.\n",
    "\n",
    "- Factors may have high positive or negative loadings on variables."
   ]
  },
  {
   "cell_type": "markdown",
   "id": "9b4859c7",
   "metadata": {},
   "source": [
    "### Interpretation\n",
    "\n",
    "Factor analysis helps us to identify groups of related variables, enabling a deeper understanding of accident characteristics. Latent factors simplify the dataset by grouping variables with shared patterns, enhancing data interpretation.\n",
    "\n",
    "Can you suggest names for each of the 5 factors based upon the heatmap visual? Check with the recomendations at the end of this tutorial."
   ]
  },
  {
   "cell_type": "markdown",
   "id": "15f47ae5",
   "metadata": {},
   "source": [
    "## Step 4: Cluster Analysis\n",
    "Using the factors from the Factor Analysis step, we can apply clustering techniques to segment the data into distinct groups, which may highlight different types of accident profiles.\n",
    "\n",
    "### Cluster Scatter Plot\n",
    "The scatter plot below shows the clusters on the first two principal components to help visualise how the data is grouped."
   ]
  },
  {
   "cell_type": "code",
   "execution_count": null,
   "id": "74235c30",
   "metadata": {},
   "outputs": [],
   "source": []
  },
  {
   "cell_type": "markdown",
   "id": "0913d6f7",
   "metadata": {},
   "source": [
    "The scatter plot shows clusters of data points based on the first two factors.\n",
    "\n",
    "- Data points are grouped into three clusters, each representing distinct patterns within the accident data.\n",
    "- Clusters indicate that certain factors, such as location and severity, may distinguish types of accidents, possibly related to urban vs. rural settings or severity levels."
   ]
  },
  {
   "cell_type": "markdown",
   "id": "06805922",
   "metadata": {},
   "source": [
    "### Interpretation\n",
    "\n",
    "Clustering reveals natural groupings, which could help identify accident types with similar profiles. These insights could be useful for targeted safety interventions based on the specific characteristics of each cluster."
   ]
  },
  {
   "cell_type": "markdown",
   "id": "32862031",
   "metadata": {},
   "source": [
    "## Step 5: Discriminant Analysis\n",
    "Using the clusters as the target variable, we apply Discriminant Analysis to develop a classification model. This model can help predict the cluster for new data points.\n",
    "\n",
    "### Confusion Matrix\n",
    "The confusion matrix below shows the accuracy of the Discriminant Analysis model in predicting cluster membership."
   ]
  },
  {
   "cell_type": "code",
   "execution_count": null,
   "id": "f8ac3077",
   "metadata": {},
   "outputs": [],
   "source": []
  },
  {
   "cell_type": "markdown",
   "id": "885c3f0b",
   "metadata": {},
   "source": [
    "The confusion matrix shows the model’s accuracy in classifying data points into clusters.\n",
    "\n",
    "- The model achieved 100% accuracy, with no misclassifications among clusters, indicating strong separation between the clusters.\n",
    "- The classification report shows perfect precision, recall and F1 scores, reinforcing the model’s reliability."
   ]
  },
  {
   "cell_type": "markdown",
   "id": "c68928b9",
   "metadata": {},
   "source": [
    "This high accuracy suggests that the clusters identified in Step 4 are well-defined, with distinct characteristics that the model can reliably predict. This classification model could potentially be applied to new data points to predict accident types based on the patterns observed."
   ]
  },
  {
   "cell_type": "markdown",
   "id": "689b7d6d",
   "metadata": {},
   "source": [
    "## Findings\n",
    "\n",
    "Factor analysis has revealed five distinct patterns in road safety data, each highlighting different aspects of traffic incidents and road conditions. Let's examine each factor in detail.\n",
    "\n",
    "### Factor 1: Traffic Control and Junction Safety\n",
    "Key Variables:\n",
    "\n",
    "- Junction control (0.81)\n",
    "- Junction detail (0.65)\n",
    "- Pedestrian crossing human control (0.53)\n",
    "- Carriageway hazards (0.34)\n",
    "\n",
    "This factor emphasises the role of infrastructure in road safety, particularly at junctions and pedestrian crossings. The high loading (statistical correlation) on junction control (0.81) suggests that traffic management systems play a crucial role in this factor.\n",
    "\n",
    "### Factor 2: Environmental and Site-Specific Hazards\n",
    "Key Variables:\n",
    "\n",
    "- Pedestrian crossing human control (0.80)\n",
    "- Carriageway hazards (0.59)\n",
    "- Special conditions at site (0.48)\n",
    "\n",
    "This grouping reveals how environmental conditions and local hazards interact. The strong relationship between pedestrian crossings and carriageway hazards suggests important safety considerations at these locations.\n",
    "\n",
    "### Factor 3: Geographic Location\n",
    "Key Variables:\n",
    "\n",
    "- Location easting OSGR (-0.93)\n",
    "- Location northing OSGR (-0.58)\n",
    "\n",
    "The strong negative loadings indicate this factor represents spatial distribution of incidents. The use of Ordnance Survey Grid References (OSGR) helps identify potential geographic patterns in accident occurrence. The negative values suggest an inverse relationship with other factors, potentially indicating areas of lower incident rates.\n",
    "\n",
    "### Factor 4: Accident Severity\n",
    "Key Variables:\n",
    "\n",
    "- Accident severity (-0.90)\n",
    "- Enhanced severity collision (0.76)\n",
    "\n",
    "This factor captures the relationship between different measures of accident severity, providing insights into incident classification and impact. The opposing signs of the loadings suggest a complex relationship between these variables.\n",
    "\n",
    "### Factor 5: Road Environment\n",
    "Key Variables:\n",
    "\n",
    "- Speed limit (0.77)\n",
    "- Urban or rural area (0.61)\n",
    "\n",
    "This factor highlights the connection between speed limits and area classification, suggesting different risk profiles for urban and rural settings. The positive loadings indicate that these variables tend to increase together."
   ]
  },
  {
   "cell_type": "markdown",
   "id": "6fe51f1d",
   "metadata": {},
   "source": [
    "## Data Export for Power BI Visualisation"
   ]
  },
  {
   "cell_type": "markdown",
   "id": "d2c72716",
   "metadata": {},
   "source": [
    "To enhance our data analysis in Power BI, we will now export the following:\n",
    "\n",
    "- Original data with added PCA components (reduced dimensions): This enables pattern visualisation without all original variables.\n",
    "- Cluster labels: Include labels assigned to each data point by the K-means model; this allows visualisation of each accident record's cluster category, aiding in profiling accident types.\n",
    "- Factor scores (from factor analysis): Export the dataset with factor scores to visualise latent patterns identified by factor analysis.\n",
    "- Classification labels (if using discriminant analysis): If discriminant analysis was used to classify clusters, add these predicted labels; this allows Power BI to categorise and filter new data points by predicted cluster.\n",
    "\n",
    "These exports will provide Power BI with the necessary data to create insightful visualisations and analyses of accident patterns and classifications."
   ]
  },
  {
   "cell_type": "code",
   "execution_count": null,
   "id": "4c0e1a71",
   "metadata": {},
   "outputs": [],
   "source": []
  }
 ],
 "metadata": {
  "kernelspec": {
   "display_name": "env",
   "language": "python",
   "name": "python3"
  },
  "language_info": {
   "codemirror_mode": {
    "name": "ipython",
    "version": 3
   },
   "file_extension": ".py",
   "mimetype": "text/x-python",
   "name": "python",
   "nbconvert_exporter": "python",
   "pygments_lexer": "ipython3",
   "version": "3.12.5"
  }
 },
 "nbformat": 4,
 "nbformat_minor": 5
}
