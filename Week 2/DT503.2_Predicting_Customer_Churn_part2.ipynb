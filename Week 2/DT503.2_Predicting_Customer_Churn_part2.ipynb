{
  "cells": [
    {
      "cell_type": "markdown",
      "metadata": {},
      "source": [
        "# Enhanced Customer Churn Prediction and CLV Analysis\n",
        "\n",
        "## Business Scenario: Online Retailer\n",
        "\n",
        "An online retailer specialising in consumer electronics is facing increasing competition. The marketing team wants to improve customer retention and maximise customer lifetime value. They've tasked us with analysing their customer data to provide actionable insights.\n",
        "\n",
        "Our goals are to:\n",
        "1. Predict which customers are likely to churn\n",
        "2. Estimate customer lifetime value (CLV)\n",
        "3. Develop targeted retention strategies\n",
        "\n",
        "Let's dive in!"
      ]
    },
    {
      "cell_type": "markdown",
      "metadata": {},
      "source": [
        "## Step 1: Data Loading and Preprocessing\n",
        "\n",
        "We'll start by importing the necessary libraries and loading our dataset. Then, we'll preprocess the data by calculating RFM (Recency, Frequency, Monetary) metrics, which are crucial for our analysis."
      ]
    },
    {
      "cell_type": "code",
      "execution_count": 1,
      "metadata": {},
      "outputs": [
        {
          "name": "stdout",
          "output_type": "stream",
          "text": [
            "             recency  frequency     monetary age_group      region  \\\n",
            "customer_id                                                          \n",
            "1                 46         16  5713.503346     36-45      London   \n",
            "2                 32         13  5070.118301     26-35      London   \n",
            "3                 26         12  4401.409671     36-45      London   \n",
            "4                 91         11  3258.138934     46-55      London   \n",
            "5                 68         11  4366.886948       56+  South East   \n",
            "\n",
            "            traffic_source  churned  \n",
            "customer_id                          \n",
            "1                    Email    False  \n",
            "2                Instagram    False  \n",
            "3                    Email    False  \n",
            "4                 Facebook     True  \n",
            "5                   Direct    False  \n",
            "Churn rate: 37.00%\n"
          ]
        }
      ],
      "source": [
        "import pandas as pd\n",
        "import numpy as np\n",
        "from sklearn.model_selection import train_test_split\n",
        "from sklearn.ensemble import RandomForestClassifier\n",
        "from sklearn.metrics import classification_report, confusion_matrix\n",
        "from sklearn.preprocessing import StandardScaler\n",
        "import matplotlib.pyplot as plt\n",
        "import seaborn as sns\n",
        "import plotly.express as px\n",
        "import plotly.graph_objects as go\n",
        "from plotly.subplots import make_subplots\n",
        "\n",
        "# Load and preprocess the data\n",
        "df = pd.read_csv('ecommerce_data_week2.csv')\n",
        "df['order_date'] = pd.to_datetime(df['order_date'])\n",
        "\n",
        "# Calculate RFM metrics\n",
        "latest_date = df['order_date'].max()\n",
        "rfm = df.groupby('customer_id').agg({\n",
        "    'order_date': lambda x: (latest_date - x.max()).days,\n",
        "    'order_id': 'count',\n",
        "    'revenue': 'sum',\n",
        "    'customer_age_group': 'first',\n",
        "    'customer_region': 'first',\n",
        "    'web_traffic_source': 'first'\n",
        "})\n",
        "rfm.columns = ['recency', 'frequency', 'monetary', 'age_group', 'region', 'traffic_source']\n",
        "rfm['churned'] = rfm['recency'] > 90\n",
        "\n",
        "print(rfm.head())\n",
        "print(f\"Churn rate: {rfm['churned'].mean():.2%}\")"
      ]
    },
    {
      "cell_type": "markdown",
      "metadata": {},
      "source": [
        "We've successfully loaded our dataset and calculated the RFM metrics for each customer. The 'rfm' DataFrame now contains:\n",
        "- Recency: number of days since the customer's last purchase\n",
        "- Frequency: total number of purchases\n",
        "- Monetary: total amount spent\n",
        "- Other customer attributes like age group, region, and traffic source\n",
        "\n",
        "We've also defined churn as customers who haven't made a purchase in the last 90 days. The output shows the first few rows of our RFM dataframe and the overall churn rate. This gives us a initial understanding of our customer base and the extent of our churn problem."
      ]
    },
    {
      "cell_type": "markdown",
      "metadata": {},
      "source": [
        "## Step 2: Customer Segmentation Visualisation\n",
        "\n",
        "Now that we have our RFM metrics, let's create an interactive 2D scatter plot to visualise our customer segments. This will help us understand the relationship between recency, frequency, and monetary value of our customers."
      ]
    },
    {
      "cell_type": "code",
      "execution_count": 2,
      "metadata": {},
      "outputs": [
        {
          "data": {
            "application/vnd.plotly.v1+json": {
              "config": {
                "plotlyServerURL": "https://plot.ly"
              },
              "data": [
                {
                  "hovertemplate": "Customer ID: %{hovertext}<br>Recency: %{x} days<br>Frequency: %{y}<br>Monetary Value: £%{marker.size:.2f}<br>Churned: %{marker.color}",
                  "hovertext": [
                    1,
                    2,
                    3,
                    5,
                    7,
                    8,
                    10,
                    12,
                    13,
                    14,
                    15,
                    17,
                    18,
                    19,
                    21,
                    22,
                    23,
                    25,
                    26,
                    27,
                    28,
                    32,
                    34,
                    36,
                    38,
                    39,
                    42,
                    44,
                    45,
                    46,
                    47,
                    48,
                    49,
                    50,
                    51,
                    52,
                    56,
                    57,
                    59,
                    61,
                    63,
                    64,
                    67,
                    68,
                    70,
                    73,
                    74,
                    78,
                    79,
                    81,
                    82,
                    84,
                    86,
                    87,
                    88,
                    89,
                    90,
                    92,
                    93,
                    94,
                    96,
                    99,
                    100
                  ],
                  "legendgroup": "False",
                  "marker": {
                    "color": "#636efa",
                    "size": [
                      5713.503346172329,
                      5070.11830138349,
                      4401.409670923655,
                      4366.886948128151,
                      3440.5585591908107,
                      5221.45506496661,
                      2335.5251668261662,
                      5232.282107708314,
                      3695.241967877246,
                      4002.840420468655,
                      3858.930230416393,
                      4552.8451776400125,
                      3674.1078195687596,
                      5335.410754121629,
                      4295.527940372367,
                      2921.3089983723385,
                      5767.261472710427,
                      4244.782446039548,
                      4423.378250530579,
                      3984.003848648135,
                      3945.1696196146554,
                      5602.496785839129,
                      3614.635269321038,
                      5332.090839658937,
                      4059.595631375302,
                      4900.701764557856,
                      3732.7977652692543,
                      3832.788936701092,
                      3925.428864626721,
                      1980.6726540130044,
                      4754.947916363059,
                      4445.377153144006,
                      3716.345211990949,
                      2872.6308907345483,
                      5463.952630228814,
                      4634.511904935232,
                      3919.063313333316,
                      3810.3550907578,
                      3613.6637189066714,
                      4612.364302516953,
                      5011.706077009793,
                      4248.854375973505,
                      4500.805185322306,
                      1557.2378100150208,
                      2715.171600387429,
                      2431.684346874099,
                      3960.334602942418,
                      3165.6553372469116,
                      2583.5953589460723,
                      2157.104587763516,
                      3008.2282207546164,
                      3165.826000872714,
                      5876.758339730754,
                      4567.9750668648785,
                      3152.6901569507245,
                      5653.2119910490155,
                      6823.711208885271,
                      7372.14740062789,
                      3437.6367916238482,
                      2975.194045159893,
                      4356.299549496103,
                      7040.750214330464,
                      4096.177545519796
                    ],
                    "sizemode": "area",
                    "sizeref": 19.595999808930554,
                    "symbol": "circle"
                  },
                  "mode": "markers",
                  "name": "False",
                  "orientation": "v",
                  "showlegend": true,
                  "type": "scatter",
                  "x": [
                    46,
                    32,
                    26,
                    68,
                    27,
                    45,
                    4,
                    67,
                    8,
                    30,
                    21,
                    9,
                    2,
                    79,
                    71,
                    72,
                    25,
                    6,
                    31,
                    59,
                    18,
                    83,
                    64,
                    47,
                    23,
                    16,
                    74,
                    11,
                    60,
                    65,
                    41,
                    51,
                    63,
                    82,
                    80,
                    43,
                    28,
                    15,
                    29,
                    50,
                    52,
                    20,
                    3,
                    5,
                    70,
                    58,
                    17,
                    34,
                    42,
                    49,
                    76,
                    7,
                    0,
                    35,
                    33,
                    19,
                    12,
                    75,
                    84,
                    53,
                    87,
                    22,
                    1
                  ],
                  "xaxis": "x",
                  "y": [
                    16,
                    13,
                    12,
                    11,
                    8,
                    13,
                    6,
                    13,
                    10,
                    10,
                    10,
                    15,
                    9,
                    14,
                    10,
                    6,
                    13,
                    10,
                    9,
                    11,
                    10,
                    12,
                    9,
                    12,
                    10,
                    12,
                    9,
                    10,
                    9,
                    7,
                    12,
                    11,
                    9,
                    9,
                    13,
                    12,
                    9,
                    9,
                    10,
                    12,
                    13,
                    9,
                    10,
                    5,
                    7,
                    7,
                    10,
                    8,
                    6,
                    7,
                    7,
                    8,
                    15,
                    10,
                    9,
                    14,
                    20,
                    19,
                    11,
                    8,
                    13,
                    18,
                    9
                  ],
                  "yaxis": "y"
                },
                {
                  "hovertemplate": "Customer ID: %{hovertext}<br>Recency: %{x} days<br>Frequency: %{y}<br>Monetary Value: £%{marker.size:.2f}<br>Churned: %{marker.color}",
                  "hovertext": [
                    4,
                    6,
                    9,
                    11,
                    16,
                    20,
                    24,
                    29,
                    30,
                    31,
                    33,
                    35,
                    37,
                    40,
                    41,
                    43,
                    53,
                    54,
                    55,
                    58,
                    60,
                    62,
                    65,
                    66,
                    69,
                    71,
                    72,
                    75,
                    76,
                    77,
                    80,
                    83,
                    85,
                    91,
                    95,
                    97,
                    98
                  ],
                  "legendgroup": "True",
                  "marker": {
                    "color": "#EF553B",
                    "size": [
                      3258.13893444056,
                      3251.9786623914288,
                      3573.170393879888,
                      1781.687874225206,
                      5913.212430887254,
                      3516.7668355686787,
                      4992.084932977574,
                      3023.7094461027627,
                      3765.1210553443393,
                      1551.6259818437181,
                      7838.399923572221,
                      4180.269998515579,
                      2564.6679873874177,
                      1524.3031473981637,
                      1862.3767176135175,
                      2546.749478934155,
                      4910.288173532282,
                      4951.851746459024,
                      2955.9097812528953,
                      5235.625456451041,
                      4612.338627507363,
                      7696.160342339703,
                      3667.0063360990544,
                      3641.841576703766,
                      4778.880672451827,
                      2216.3923819980805,
                      2267.5754473886823,
                      4186.342117439948,
                      3054.177373395227,
                      2687.6997526036407,
                      2962.696982659421,
                      1330.9623341708725,
                      3756.7779660837186,
                      1978.3625529116077,
                      4007.7265156738404,
                      3347.709182826821,
                      2630.3252330297046
                    ],
                    "sizemode": "area",
                    "sizeref": 19.595999808930554,
                    "symbol": "circle"
                  },
                  "mode": "markers",
                  "name": "True",
                  "orientation": "v",
                  "showlegend": true,
                  "type": "scatter",
                  "x": [
                    91,
                    105,
                    333,
                    206,
                    94,
                    269,
                    248,
                    116,
                    120,
                    262,
                    196,
                    222,
                    180,
                    335,
                    236,
                    101,
                    104,
                    152,
                    98,
                    241,
                    240,
                    167,
                    153,
                    103,
                    107,
                    320,
                    161,
                    95,
                    249,
                    102,
                    97,
                    177,
                    143,
                    129,
                    96,
                    123,
                    126
                  ],
                  "xaxis": "x",
                  "y": [
                    11,
                    8,
                    10,
                    4,
                    13,
                    7,
                    14,
                    8,
                    10,
                    3,
                    18,
                    10,
                    7,
                    5,
                    4,
                    5,
                    11,
                    12,
                    7,
                    15,
                    11,
                    19,
                    8,
                    8,
                    12,
                    6,
                    8,
                    12,
                    8,
                    7,
                    8,
                    4,
                    8,
                    5,
                    10,
                    9,
                    7
                  ],
                  "yaxis": "y"
                }
              ],
              "layout": {
                "coloraxis": {
                  "colorbar": {
                    "title": {
                      "text": "Churned"
                    }
                  }
                },
                "legend": {
                  "itemsizing": "constant",
                  "title": {
                    "text": "Churned"
                  },
                  "tracegroupgap": 0
                },
                "template": {
                  "data": {
                    "bar": [
                      {
                        "error_x": {
                          "color": "#2a3f5f"
                        },
                        "error_y": {
                          "color": "#2a3f5f"
                        },
                        "marker": {
                          "line": {
                            "color": "#E5ECF6",
                            "width": 0.5
                          },
                          "pattern": {
                            "fillmode": "overlay",
                            "size": 10,
                            "solidity": 0.2
                          }
                        },
                        "type": "bar"
                      }
                    ],
                    "barpolar": [
                      {
                        "marker": {
                          "line": {
                            "color": "#E5ECF6",
                            "width": 0.5
                          },
                          "pattern": {
                            "fillmode": "overlay",
                            "size": 10,
                            "solidity": 0.2
                          }
                        },
                        "type": "barpolar"
                      }
                    ],
                    "carpet": [
                      {
                        "aaxis": {
                          "endlinecolor": "#2a3f5f",
                          "gridcolor": "white",
                          "linecolor": "white",
                          "minorgridcolor": "white",
                          "startlinecolor": "#2a3f5f"
                        },
                        "baxis": {
                          "endlinecolor": "#2a3f5f",
                          "gridcolor": "white",
                          "linecolor": "white",
                          "minorgridcolor": "white",
                          "startlinecolor": "#2a3f5f"
                        },
                        "type": "carpet"
                      }
                    ],
                    "choropleth": [
                      {
                        "colorbar": {
                          "outlinewidth": 0,
                          "ticks": ""
                        },
                        "type": "choropleth"
                      }
                    ],
                    "contour": [
                      {
                        "colorbar": {
                          "outlinewidth": 0,
                          "ticks": ""
                        },
                        "colorscale": [
                          [
                            0,
                            "#0d0887"
                          ],
                          [
                            0.1111111111111111,
                            "#46039f"
                          ],
                          [
                            0.2222222222222222,
                            "#7201a8"
                          ],
                          [
                            0.3333333333333333,
                            "#9c179e"
                          ],
                          [
                            0.4444444444444444,
                            "#bd3786"
                          ],
                          [
                            0.5555555555555556,
                            "#d8576b"
                          ],
                          [
                            0.6666666666666666,
                            "#ed7953"
                          ],
                          [
                            0.7777777777777778,
                            "#fb9f3a"
                          ],
                          [
                            0.8888888888888888,
                            "#fdca26"
                          ],
                          [
                            1,
                            "#f0f921"
                          ]
                        ],
                        "type": "contour"
                      }
                    ],
                    "contourcarpet": [
                      {
                        "colorbar": {
                          "outlinewidth": 0,
                          "ticks": ""
                        },
                        "type": "contourcarpet"
                      }
                    ],
                    "heatmap": [
                      {
                        "colorbar": {
                          "outlinewidth": 0,
                          "ticks": ""
                        },
                        "colorscale": [
                          [
                            0,
                            "#0d0887"
                          ],
                          [
                            0.1111111111111111,
                            "#46039f"
                          ],
                          [
                            0.2222222222222222,
                            "#7201a8"
                          ],
                          [
                            0.3333333333333333,
                            "#9c179e"
                          ],
                          [
                            0.4444444444444444,
                            "#bd3786"
                          ],
                          [
                            0.5555555555555556,
                            "#d8576b"
                          ],
                          [
                            0.6666666666666666,
                            "#ed7953"
                          ],
                          [
                            0.7777777777777778,
                            "#fb9f3a"
                          ],
                          [
                            0.8888888888888888,
                            "#fdca26"
                          ],
                          [
                            1,
                            "#f0f921"
                          ]
                        ],
                        "type": "heatmap"
                      }
                    ],
                    "heatmapgl": [
                      {
                        "colorbar": {
                          "outlinewidth": 0,
                          "ticks": ""
                        },
                        "colorscale": [
                          [
                            0,
                            "#0d0887"
                          ],
                          [
                            0.1111111111111111,
                            "#46039f"
                          ],
                          [
                            0.2222222222222222,
                            "#7201a8"
                          ],
                          [
                            0.3333333333333333,
                            "#9c179e"
                          ],
                          [
                            0.4444444444444444,
                            "#bd3786"
                          ],
                          [
                            0.5555555555555556,
                            "#d8576b"
                          ],
                          [
                            0.6666666666666666,
                            "#ed7953"
                          ],
                          [
                            0.7777777777777778,
                            "#fb9f3a"
                          ],
                          [
                            0.8888888888888888,
                            "#fdca26"
                          ],
                          [
                            1,
                            "#f0f921"
                          ]
                        ],
                        "type": "heatmapgl"
                      }
                    ],
                    "histogram": [
                      {
                        "marker": {
                          "pattern": {
                            "fillmode": "overlay",
                            "size": 10,
                            "solidity": 0.2
                          }
                        },
                        "type": "histogram"
                      }
                    ],
                    "histogram2d": [
                      {
                        "colorbar": {
                          "outlinewidth": 0,
                          "ticks": ""
                        },
                        "colorscale": [
                          [
                            0,
                            "#0d0887"
                          ],
                          [
                            0.1111111111111111,
                            "#46039f"
                          ],
                          [
                            0.2222222222222222,
                            "#7201a8"
                          ],
                          [
                            0.3333333333333333,
                            "#9c179e"
                          ],
                          [
                            0.4444444444444444,
                            "#bd3786"
                          ],
                          [
                            0.5555555555555556,
                            "#d8576b"
                          ],
                          [
                            0.6666666666666666,
                            "#ed7953"
                          ],
                          [
                            0.7777777777777778,
                            "#fb9f3a"
                          ],
                          [
                            0.8888888888888888,
                            "#fdca26"
                          ],
                          [
                            1,
                            "#f0f921"
                          ]
                        ],
                        "type": "histogram2d"
                      }
                    ],
                    "histogram2dcontour": [
                      {
                        "colorbar": {
                          "outlinewidth": 0,
                          "ticks": ""
                        },
                        "colorscale": [
                          [
                            0,
                            "#0d0887"
                          ],
                          [
                            0.1111111111111111,
                            "#46039f"
                          ],
                          [
                            0.2222222222222222,
                            "#7201a8"
                          ],
                          [
                            0.3333333333333333,
                            "#9c179e"
                          ],
                          [
                            0.4444444444444444,
                            "#bd3786"
                          ],
                          [
                            0.5555555555555556,
                            "#d8576b"
                          ],
                          [
                            0.6666666666666666,
                            "#ed7953"
                          ],
                          [
                            0.7777777777777778,
                            "#fb9f3a"
                          ],
                          [
                            0.8888888888888888,
                            "#fdca26"
                          ],
                          [
                            1,
                            "#f0f921"
                          ]
                        ],
                        "type": "histogram2dcontour"
                      }
                    ],
                    "mesh3d": [
                      {
                        "colorbar": {
                          "outlinewidth": 0,
                          "ticks": ""
                        },
                        "type": "mesh3d"
                      }
                    ],
                    "parcoords": [
                      {
                        "line": {
                          "colorbar": {
                            "outlinewidth": 0,
                            "ticks": ""
                          }
                        },
                        "type": "parcoords"
                      }
                    ],
                    "pie": [
                      {
                        "automargin": true,
                        "type": "pie"
                      }
                    ],
                    "scatter": [
                      {
                        "fillpattern": {
                          "fillmode": "overlay",
                          "size": 10,
                          "solidity": 0.2
                        },
                        "type": "scatter"
                      }
                    ],
                    "scatter3d": [
                      {
                        "line": {
                          "colorbar": {
                            "outlinewidth": 0,
                            "ticks": ""
                          }
                        },
                        "marker": {
                          "colorbar": {
                            "outlinewidth": 0,
                            "ticks": ""
                          }
                        },
                        "type": "scatter3d"
                      }
                    ],
                    "scattercarpet": [
                      {
                        "marker": {
                          "colorbar": {
                            "outlinewidth": 0,
                            "ticks": ""
                          }
                        },
                        "type": "scattercarpet"
                      }
                    ],
                    "scattergeo": [
                      {
                        "marker": {
                          "colorbar": {
                            "outlinewidth": 0,
                            "ticks": ""
                          }
                        },
                        "type": "scattergeo"
                      }
                    ],
                    "scattergl": [
                      {
                        "marker": {
                          "colorbar": {
                            "outlinewidth": 0,
                            "ticks": ""
                          }
                        },
                        "type": "scattergl"
                      }
                    ],
                    "scattermapbox": [
                      {
                        "marker": {
                          "colorbar": {
                            "outlinewidth": 0,
                            "ticks": ""
                          }
                        },
                        "type": "scattermapbox"
                      }
                    ],
                    "scatterpolar": [
                      {
                        "marker": {
                          "colorbar": {
                            "outlinewidth": 0,
                            "ticks": ""
                          }
                        },
                        "type": "scatterpolar"
                      }
                    ],
                    "scatterpolargl": [
                      {
                        "marker": {
                          "colorbar": {
                            "outlinewidth": 0,
                            "ticks": ""
                          }
                        },
                        "type": "scatterpolargl"
                      }
                    ],
                    "scatterternary": [
                      {
                        "marker": {
                          "colorbar": {
                            "outlinewidth": 0,
                            "ticks": ""
                          }
                        },
                        "type": "scatterternary"
                      }
                    ],
                    "surface": [
                      {
                        "colorbar": {
                          "outlinewidth": 0,
                          "ticks": ""
                        },
                        "colorscale": [
                          [
                            0,
                            "#0d0887"
                          ],
                          [
                            0.1111111111111111,
                            "#46039f"
                          ],
                          [
                            0.2222222222222222,
                            "#7201a8"
                          ],
                          [
                            0.3333333333333333,
                            "#9c179e"
                          ],
                          [
                            0.4444444444444444,
                            "#bd3786"
                          ],
                          [
                            0.5555555555555556,
                            "#d8576b"
                          ],
                          [
                            0.6666666666666666,
                            "#ed7953"
                          ],
                          [
                            0.7777777777777778,
                            "#fb9f3a"
                          ],
                          [
                            0.8888888888888888,
                            "#fdca26"
                          ],
                          [
                            1,
                            "#f0f921"
                          ]
                        ],
                        "type": "surface"
                      }
                    ],
                    "table": [
                      {
                        "cells": {
                          "fill": {
                            "color": "#EBF0F8"
                          },
                          "line": {
                            "color": "white"
                          }
                        },
                        "header": {
                          "fill": {
                            "color": "#C8D4E3"
                          },
                          "line": {
                            "color": "white"
                          }
                        },
                        "type": "table"
                      }
                    ]
                  },
                  "layout": {
                    "annotationdefaults": {
                      "arrowcolor": "#2a3f5f",
                      "arrowhead": 0,
                      "arrowwidth": 1
                    },
                    "autotypenumbers": "strict",
                    "coloraxis": {
                      "colorbar": {
                        "outlinewidth": 0,
                        "ticks": ""
                      }
                    },
                    "colorscale": {
                      "diverging": [
                        [
                          0,
                          "#8e0152"
                        ],
                        [
                          0.1,
                          "#c51b7d"
                        ],
                        [
                          0.2,
                          "#de77ae"
                        ],
                        [
                          0.3,
                          "#f1b6da"
                        ],
                        [
                          0.4,
                          "#fde0ef"
                        ],
                        [
                          0.5,
                          "#f7f7f7"
                        ],
                        [
                          0.6,
                          "#e6f5d0"
                        ],
                        [
                          0.7,
                          "#b8e186"
                        ],
                        [
                          0.8,
                          "#7fbc41"
                        ],
                        [
                          0.9,
                          "#4d9221"
                        ],
                        [
                          1,
                          "#276419"
                        ]
                      ],
                      "sequential": [
                        [
                          0,
                          "#0d0887"
                        ],
                        [
                          0.1111111111111111,
                          "#46039f"
                        ],
                        [
                          0.2222222222222222,
                          "#7201a8"
                        ],
                        [
                          0.3333333333333333,
                          "#9c179e"
                        ],
                        [
                          0.4444444444444444,
                          "#bd3786"
                        ],
                        [
                          0.5555555555555556,
                          "#d8576b"
                        ],
                        [
                          0.6666666666666666,
                          "#ed7953"
                        ],
                        [
                          0.7777777777777778,
                          "#fb9f3a"
                        ],
                        [
                          0.8888888888888888,
                          "#fdca26"
                        ],
                        [
                          1,
                          "#f0f921"
                        ]
                      ],
                      "sequentialminus": [
                        [
                          0,
                          "#0d0887"
                        ],
                        [
                          0.1111111111111111,
                          "#46039f"
                        ],
                        [
                          0.2222222222222222,
                          "#7201a8"
                        ],
                        [
                          0.3333333333333333,
                          "#9c179e"
                        ],
                        [
                          0.4444444444444444,
                          "#bd3786"
                        ],
                        [
                          0.5555555555555556,
                          "#d8576b"
                        ],
                        [
                          0.6666666666666666,
                          "#ed7953"
                        ],
                        [
                          0.7777777777777778,
                          "#fb9f3a"
                        ],
                        [
                          0.8888888888888888,
                          "#fdca26"
                        ],
                        [
                          1,
                          "#f0f921"
                        ]
                      ]
                    },
                    "colorway": [
                      "#636efa",
                      "#EF553B",
                      "#00cc96",
                      "#ab63fa",
                      "#FFA15A",
                      "#19d3f3",
                      "#FF6692",
                      "#B6E880",
                      "#FF97FF",
                      "#FECB52"
                    ],
                    "font": {
                      "color": "#2a3f5f"
                    },
                    "geo": {
                      "bgcolor": "white",
                      "lakecolor": "white",
                      "landcolor": "#E5ECF6",
                      "showlakes": true,
                      "showland": true,
                      "subunitcolor": "white"
                    },
                    "hoverlabel": {
                      "align": "left"
                    },
                    "hovermode": "closest",
                    "mapbox": {
                      "style": "light"
                    },
                    "paper_bgcolor": "white",
                    "plot_bgcolor": "#E5ECF6",
                    "polar": {
                      "angularaxis": {
                        "gridcolor": "white",
                        "linecolor": "white",
                        "ticks": ""
                      },
                      "bgcolor": "#E5ECF6",
                      "radialaxis": {
                        "gridcolor": "white",
                        "linecolor": "white",
                        "ticks": ""
                      }
                    },
                    "scene": {
                      "xaxis": {
                        "backgroundcolor": "#E5ECF6",
                        "gridcolor": "white",
                        "gridwidth": 2,
                        "linecolor": "white",
                        "showbackground": true,
                        "ticks": "",
                        "zerolinecolor": "white"
                      },
                      "yaxis": {
                        "backgroundcolor": "#E5ECF6",
                        "gridcolor": "white",
                        "gridwidth": 2,
                        "linecolor": "white",
                        "showbackground": true,
                        "ticks": "",
                        "zerolinecolor": "white"
                      },
                      "zaxis": {
                        "backgroundcolor": "#E5ECF6",
                        "gridcolor": "white",
                        "gridwidth": 2,
                        "linecolor": "white",
                        "showbackground": true,
                        "ticks": "",
                        "zerolinecolor": "white"
                      }
                    },
                    "shapedefaults": {
                      "line": {
                        "color": "#2a3f5f"
                      }
                    },
                    "ternary": {
                      "aaxis": {
                        "gridcolor": "white",
                        "linecolor": "white",
                        "ticks": ""
                      },
                      "baxis": {
                        "gridcolor": "white",
                        "linecolor": "white",
                        "ticks": ""
                      },
                      "bgcolor": "#E5ECF6",
                      "caxis": {
                        "gridcolor": "white",
                        "linecolor": "white",
                        "ticks": ""
                      }
                    },
                    "title": {
                      "x": 0.05
                    },
                    "xaxis": {
                      "automargin": true,
                      "gridcolor": "white",
                      "linecolor": "white",
                      "ticks": "",
                      "title": {
                        "standoff": 15
                      },
                      "zerolinecolor": "white",
                      "zerolinewidth": 2
                    },
                    "yaxis": {
                      "automargin": true,
                      "gridcolor": "white",
                      "linecolor": "white",
                      "ticks": "",
                      "title": {
                        "standoff": 15
                      },
                      "zerolinecolor": "white",
                      "zerolinewidth": 2
                    }
                  }
                },
                "title": {
                  "text": "Customer Segmentation: Recency vs Frequency"
                },
                "xaxis": {
                  "anchor": "y",
                  "domain": [
                    0,
                    1
                  ],
                  "title": {
                    "text": "Recency (days)"
                  }
                },
                "yaxis": {
                  "anchor": "x",
                  "domain": [
                    0,
                    1
                  ],
                  "title": {
                    "text": "Frequency"
                  }
                }
              }
            }
          },
          "metadata": {},
          "output_type": "display_data"
        }
      ],
      "source": [
        "fig = px.scatter(rfm, x='recency', y='frequency',\n",
        "                 size='monetary', color='churned',\n",
        "                 hover_name=rfm.index,\n",
        "                 labels={'churned': 'Churned',\n",
        "                         'recency': 'Recency (days)',\n",
        "                         'frequency': 'Frequency',\n",
        "                         'monetary': 'Monetary Value'},\n",
        "                 title='Customer Segmentation: Recency vs Frequency')\n",
        "\n",
        "fig.update_layout(\n",
        "    xaxis_title='Recency (days)',\n",
        "    yaxis_title='Frequency',\n",
        "    legend_title='Churned',\n",
        "    coloraxis_colorbar=dict(title='Churned')\n",
        ")\n",
        "\n",
        "fig.update_traces(\n",
        "    hovertemplate=\"<br>\".join([\n",
        "        \"Customer ID: %{hovertext}\",\n",
        "        \"Recency: %{x} days\",\n",
        "        \"Frequency: %{y}\",\n",
        "        \"Monetary Value: £%{marker.size:.2f}\",\n",
        "        \"Churned: %{marker.color}\"\n",
        "    ])\n",
        ")\n",
        "\n",
        "fig.show()"
      ]
    },
    {
      "cell_type": "markdown",
      "metadata": {},
      "source": [
        "This scatter plot provides several insights:\n",
        "1. The x-axis shows recency (days since last purchase), and the y-axis shows frequency (number of purchases).\n",
        "2. The size of each point represents the monetary value of the customer.\n",
        "3. The colour indicates whether a customer has churned (as per our definition).\n",
        "\n",
        "Key observations:\n",
        "- Churned customers (likely in red) tend to cluster towards the right side of the plot, indicating higher recency values.\n",
        "- Larger bubbles (high-value customers) seem to be more concentrated in the lower-right quadrant, suggesting that some of our highest-value customers may be at risk of churning.\n",
        "- There's a visible relationship between frequency and churn - customers who purchase more frequently are less likely to churn.\n",
        "\n",
        "This visualisation helps us identify different customer segments and understand their behaviour, which will be crucial for developing targeted retention strategies."
      ]
    },
    {
      "cell_type": "markdown",
      "metadata": {},
      "source": [
        "## Step 3: Building a Churn Prediction Model\n",
        "\n",
        "Now that we have visualised our customer segments, let's build a more sophisticated churn prediction model using Random Forest. We'll include additional features like age group, region, and traffic source to improve our predictions."
      ]
    },
    {
      "cell_type": "code",
      "execution_count": 3,
      "metadata": {},
      "outputs": [
        {
          "name": "stdout",
          "output_type": "stream",
          "text": [
            "              precision    recall  f1-score   support\n",
            "\n",
            "       False       1.00      1.00      1.00        13\n",
            "        True       1.00      1.00      1.00         7\n",
            "\n",
            "    accuracy                           1.00        20\n",
            "   macro avg       1.00      1.00      1.00        20\n",
            "weighted avg       1.00      1.00      1.00        20\n",
            "\n"
          ]
        },
        {
          "data": {
            "application/vnd.plotly.v1+json": {
              "config": {
                "plotlyServerURL": "https://plot.ly"
              },
              "data": [
                {
                  "alignmentgroup": "True",
                  "hovertemplate": "importance=%{x}<br>feature=%{y}<extra></extra>",
                  "legendgroup": "",
                  "marker": {
                    "color": "#636efa",
                    "pattern": {
                      "shape": ""
                    }
                  },
                  "name": "",
                  "offsetgroup": "",
                  "orientation": "h",
                  "showlegend": false,
                  "textposition": "auto",
                  "type": "bar",
                  "x": [
                    0.6179091625313857,
                    0.09698669276315604,
                    0.06567572958274469,
                    0.04403469402145922,
                    0.032597147898010624,
                    0.027795313722607653,
                    0.017370350515673944,
                    0.014770907808584597,
                    0.013519250953803718,
                    0.01043376931180316
                  ],
                  "xaxis": "x",
                  "y": [
                    "recency",
                    "monetary",
                    "frequency",
                    "age_group_36-45",
                    "region_South East",
                    "traffic_source_Google",
                    "age_group_56+",
                    "traffic_source_Instagram",
                    "region_South West",
                    "age_group_18-25"
                  ],
                  "yaxis": "y"
                }
              ],
              "layout": {
                "barmode": "relative",
                "legend": {
                  "tracegroupgap": 0
                },
                "template": {
                  "data": {
                    "bar": [
                      {
                        "error_x": {
                          "color": "#2a3f5f"
                        },
                        "error_y": {
                          "color": "#2a3f5f"
                        },
                        "marker": {
                          "line": {
                            "color": "#E5ECF6",
                            "width": 0.5
                          },
                          "pattern": {
                            "fillmode": "overlay",
                            "size": 10,
                            "solidity": 0.2
                          }
                        },
                        "type": "bar"
                      }
                    ],
                    "barpolar": [
                      {
                        "marker": {
                          "line": {
                            "color": "#E5ECF6",
                            "width": 0.5
                          },
                          "pattern": {
                            "fillmode": "overlay",
                            "size": 10,
                            "solidity": 0.2
                          }
                        },
                        "type": "barpolar"
                      }
                    ],
                    "carpet": [
                      {
                        "aaxis": {
                          "endlinecolor": "#2a3f5f",
                          "gridcolor": "white",
                          "linecolor": "white",
                          "minorgridcolor": "white",
                          "startlinecolor": "#2a3f5f"
                        },
                        "baxis": {
                          "endlinecolor": "#2a3f5f",
                          "gridcolor": "white",
                          "linecolor": "white",
                          "minorgridcolor": "white",
                          "startlinecolor": "#2a3f5f"
                        },
                        "type": "carpet"
                      }
                    ],
                    "choropleth": [
                      {
                        "colorbar": {
                          "outlinewidth": 0,
                          "ticks": ""
                        },
                        "type": "choropleth"
                      }
                    ],
                    "contour": [
                      {
                        "colorbar": {
                          "outlinewidth": 0,
                          "ticks": ""
                        },
                        "colorscale": [
                          [
                            0,
                            "#0d0887"
                          ],
                          [
                            0.1111111111111111,
                            "#46039f"
                          ],
                          [
                            0.2222222222222222,
                            "#7201a8"
                          ],
                          [
                            0.3333333333333333,
                            "#9c179e"
                          ],
                          [
                            0.4444444444444444,
                            "#bd3786"
                          ],
                          [
                            0.5555555555555556,
                            "#d8576b"
                          ],
                          [
                            0.6666666666666666,
                            "#ed7953"
                          ],
                          [
                            0.7777777777777778,
                            "#fb9f3a"
                          ],
                          [
                            0.8888888888888888,
                            "#fdca26"
                          ],
                          [
                            1,
                            "#f0f921"
                          ]
                        ],
                        "type": "contour"
                      }
                    ],
                    "contourcarpet": [
                      {
                        "colorbar": {
                          "outlinewidth": 0,
                          "ticks": ""
                        },
                        "type": "contourcarpet"
                      }
                    ],
                    "heatmap": [
                      {
                        "colorbar": {
                          "outlinewidth": 0,
                          "ticks": ""
                        },
                        "colorscale": [
                          [
                            0,
                            "#0d0887"
                          ],
                          [
                            0.1111111111111111,
                            "#46039f"
                          ],
                          [
                            0.2222222222222222,
                            "#7201a8"
                          ],
                          [
                            0.3333333333333333,
                            "#9c179e"
                          ],
                          [
                            0.4444444444444444,
                            "#bd3786"
                          ],
                          [
                            0.5555555555555556,
                            "#d8576b"
                          ],
                          [
                            0.6666666666666666,
                            "#ed7953"
                          ],
                          [
                            0.7777777777777778,
                            "#fb9f3a"
                          ],
                          [
                            0.8888888888888888,
                            "#fdca26"
                          ],
                          [
                            1,
                            "#f0f921"
                          ]
                        ],
                        "type": "heatmap"
                      }
                    ],
                    "heatmapgl": [
                      {
                        "colorbar": {
                          "outlinewidth": 0,
                          "ticks": ""
                        },
                        "colorscale": [
                          [
                            0,
                            "#0d0887"
                          ],
                          [
                            0.1111111111111111,
                            "#46039f"
                          ],
                          [
                            0.2222222222222222,
                            "#7201a8"
                          ],
                          [
                            0.3333333333333333,
                            "#9c179e"
                          ],
                          [
                            0.4444444444444444,
                            "#bd3786"
                          ],
                          [
                            0.5555555555555556,
                            "#d8576b"
                          ],
                          [
                            0.6666666666666666,
                            "#ed7953"
                          ],
                          [
                            0.7777777777777778,
                            "#fb9f3a"
                          ],
                          [
                            0.8888888888888888,
                            "#fdca26"
                          ],
                          [
                            1,
                            "#f0f921"
                          ]
                        ],
                        "type": "heatmapgl"
                      }
                    ],
                    "histogram": [
                      {
                        "marker": {
                          "pattern": {
                            "fillmode": "overlay",
                            "size": 10,
                            "solidity": 0.2
                          }
                        },
                        "type": "histogram"
                      }
                    ],
                    "histogram2d": [
                      {
                        "colorbar": {
                          "outlinewidth": 0,
                          "ticks": ""
                        },
                        "colorscale": [
                          [
                            0,
                            "#0d0887"
                          ],
                          [
                            0.1111111111111111,
                            "#46039f"
                          ],
                          [
                            0.2222222222222222,
                            "#7201a8"
                          ],
                          [
                            0.3333333333333333,
                            "#9c179e"
                          ],
                          [
                            0.4444444444444444,
                            "#bd3786"
                          ],
                          [
                            0.5555555555555556,
                            "#d8576b"
                          ],
                          [
                            0.6666666666666666,
                            "#ed7953"
                          ],
                          [
                            0.7777777777777778,
                            "#fb9f3a"
                          ],
                          [
                            0.8888888888888888,
                            "#fdca26"
                          ],
                          [
                            1,
                            "#f0f921"
                          ]
                        ],
                        "type": "histogram2d"
                      }
                    ],
                    "histogram2dcontour": [
                      {
                        "colorbar": {
                          "outlinewidth": 0,
                          "ticks": ""
                        },
                        "colorscale": [
                          [
                            0,
                            "#0d0887"
                          ],
                          [
                            0.1111111111111111,
                            "#46039f"
                          ],
                          [
                            0.2222222222222222,
                            "#7201a8"
                          ],
                          [
                            0.3333333333333333,
                            "#9c179e"
                          ],
                          [
                            0.4444444444444444,
                            "#bd3786"
                          ],
                          [
                            0.5555555555555556,
                            "#d8576b"
                          ],
                          [
                            0.6666666666666666,
                            "#ed7953"
                          ],
                          [
                            0.7777777777777778,
                            "#fb9f3a"
                          ],
                          [
                            0.8888888888888888,
                            "#fdca26"
                          ],
                          [
                            1,
                            "#f0f921"
                          ]
                        ],
                        "type": "histogram2dcontour"
                      }
                    ],
                    "mesh3d": [
                      {
                        "colorbar": {
                          "outlinewidth": 0,
                          "ticks": ""
                        },
                        "type": "mesh3d"
                      }
                    ],
                    "parcoords": [
                      {
                        "line": {
                          "colorbar": {
                            "outlinewidth": 0,
                            "ticks": ""
                          }
                        },
                        "type": "parcoords"
                      }
                    ],
                    "pie": [
                      {
                        "automargin": true,
                        "type": "pie"
                      }
                    ],
                    "scatter": [
                      {
                        "fillpattern": {
                          "fillmode": "overlay",
                          "size": 10,
                          "solidity": 0.2
                        },
                        "type": "scatter"
                      }
                    ],
                    "scatter3d": [
                      {
                        "line": {
                          "colorbar": {
                            "outlinewidth": 0,
                            "ticks": ""
                          }
                        },
                        "marker": {
                          "colorbar": {
                            "outlinewidth": 0,
                            "ticks": ""
                          }
                        },
                        "type": "scatter3d"
                      }
                    ],
                    "scattercarpet": [
                      {
                        "marker": {
                          "colorbar": {
                            "outlinewidth": 0,
                            "ticks": ""
                          }
                        },
                        "type": "scattercarpet"
                      }
                    ],
                    "scattergeo": [
                      {
                        "marker": {
                          "colorbar": {
                            "outlinewidth": 0,
                            "ticks": ""
                          }
                        },
                        "type": "scattergeo"
                      }
                    ],
                    "scattergl": [
                      {
                        "marker": {
                          "colorbar": {
                            "outlinewidth": 0,
                            "ticks": ""
                          }
                        },
                        "type": "scattergl"
                      }
                    ],
                    "scattermapbox": [
                      {
                        "marker": {
                          "colorbar": {
                            "outlinewidth": 0,
                            "ticks": ""
                          }
                        },
                        "type": "scattermapbox"
                      }
                    ],
                    "scatterpolar": [
                      {
                        "marker": {
                          "colorbar": {
                            "outlinewidth": 0,
                            "ticks": ""
                          }
                        },
                        "type": "scatterpolar"
                      }
                    ],
                    "scatterpolargl": [
                      {
                        "marker": {
                          "colorbar": {
                            "outlinewidth": 0,
                            "ticks": ""
                          }
                        },
                        "type": "scatterpolargl"
                      }
                    ],
                    "scatterternary": [
                      {
                        "marker": {
                          "colorbar": {
                            "outlinewidth": 0,
                            "ticks": ""
                          }
                        },
                        "type": "scatterternary"
                      }
                    ],
                    "surface": [
                      {
                        "colorbar": {
                          "outlinewidth": 0,
                          "ticks": ""
                        },
                        "colorscale": [
                          [
                            0,
                            "#0d0887"
                          ],
                          [
                            0.1111111111111111,
                            "#46039f"
                          ],
                          [
                            0.2222222222222222,
                            "#7201a8"
                          ],
                          [
                            0.3333333333333333,
                            "#9c179e"
                          ],
                          [
                            0.4444444444444444,
                            "#bd3786"
                          ],
                          [
                            0.5555555555555556,
                            "#d8576b"
                          ],
                          [
                            0.6666666666666666,
                            "#ed7953"
                          ],
                          [
                            0.7777777777777778,
                            "#fb9f3a"
                          ],
                          [
                            0.8888888888888888,
                            "#fdca26"
                          ],
                          [
                            1,
                            "#f0f921"
                          ]
                        ],
                        "type": "surface"
                      }
                    ],
                    "table": [
                      {
                        "cells": {
                          "fill": {
                            "color": "#EBF0F8"
                          },
                          "line": {
                            "color": "white"
                          }
                        },
                        "header": {
                          "fill": {
                            "color": "#C8D4E3"
                          },
                          "line": {
                            "color": "white"
                          }
                        },
                        "type": "table"
                      }
                    ]
                  },
                  "layout": {
                    "annotationdefaults": {
                      "arrowcolor": "#2a3f5f",
                      "arrowhead": 0,
                      "arrowwidth": 1
                    },
                    "autotypenumbers": "strict",
                    "coloraxis": {
                      "colorbar": {
                        "outlinewidth": 0,
                        "ticks": ""
                      }
                    },
                    "colorscale": {
                      "diverging": [
                        [
                          0,
                          "#8e0152"
                        ],
                        [
                          0.1,
                          "#c51b7d"
                        ],
                        [
                          0.2,
                          "#de77ae"
                        ],
                        [
                          0.3,
                          "#f1b6da"
                        ],
                        [
                          0.4,
                          "#fde0ef"
                        ],
                        [
                          0.5,
                          "#f7f7f7"
                        ],
                        [
                          0.6,
                          "#e6f5d0"
                        ],
                        [
                          0.7,
                          "#b8e186"
                        ],
                        [
                          0.8,
                          "#7fbc41"
                        ],
                        [
                          0.9,
                          "#4d9221"
                        ],
                        [
                          1,
                          "#276419"
                        ]
                      ],
                      "sequential": [
                        [
                          0,
                          "#0d0887"
                        ],
                        [
                          0.1111111111111111,
                          "#46039f"
                        ],
                        [
                          0.2222222222222222,
                          "#7201a8"
                        ],
                        [
                          0.3333333333333333,
                          "#9c179e"
                        ],
                        [
                          0.4444444444444444,
                          "#bd3786"
                        ],
                        [
                          0.5555555555555556,
                          "#d8576b"
                        ],
                        [
                          0.6666666666666666,
                          "#ed7953"
                        ],
                        [
                          0.7777777777777778,
                          "#fb9f3a"
                        ],
                        [
                          0.8888888888888888,
                          "#fdca26"
                        ],
                        [
                          1,
                          "#f0f921"
                        ]
                      ],
                      "sequentialminus": [
                        [
                          0,
                          "#0d0887"
                        ],
                        [
                          0.1111111111111111,
                          "#46039f"
                        ],
                        [
                          0.2222222222222222,
                          "#7201a8"
                        ],
                        [
                          0.3333333333333333,
                          "#9c179e"
                        ],
                        [
                          0.4444444444444444,
                          "#bd3786"
                        ],
                        [
                          0.5555555555555556,
                          "#d8576b"
                        ],
                        [
                          0.6666666666666666,
                          "#ed7953"
                        ],
                        [
                          0.7777777777777778,
                          "#fb9f3a"
                        ],
                        [
                          0.8888888888888888,
                          "#fdca26"
                        ],
                        [
                          1,
                          "#f0f921"
                        ]
                      ]
                    },
                    "colorway": [
                      "#636efa",
                      "#EF553B",
                      "#00cc96",
                      "#ab63fa",
                      "#FFA15A",
                      "#19d3f3",
                      "#FF6692",
                      "#B6E880",
                      "#FF97FF",
                      "#FECB52"
                    ],
                    "font": {
                      "color": "#2a3f5f"
                    },
                    "geo": {
                      "bgcolor": "white",
                      "lakecolor": "white",
                      "landcolor": "#E5ECF6",
                      "showlakes": true,
                      "showland": true,
                      "subunitcolor": "white"
                    },
                    "hoverlabel": {
                      "align": "left"
                    },
                    "hovermode": "closest",
                    "mapbox": {
                      "style": "light"
                    },
                    "paper_bgcolor": "white",
                    "plot_bgcolor": "#E5ECF6",
                    "polar": {
                      "angularaxis": {
                        "gridcolor": "white",
                        "linecolor": "white",
                        "ticks": ""
                      },
                      "bgcolor": "#E5ECF6",
                      "radialaxis": {
                        "gridcolor": "white",
                        "linecolor": "white",
                        "ticks": ""
                      }
                    },
                    "scene": {
                      "xaxis": {
                        "backgroundcolor": "#E5ECF6",
                        "gridcolor": "white",
                        "gridwidth": 2,
                        "linecolor": "white",
                        "showbackground": true,
                        "ticks": "",
                        "zerolinecolor": "white"
                      },
                      "yaxis": {
                        "backgroundcolor": "#E5ECF6",
                        "gridcolor": "white",
                        "gridwidth": 2,
                        "linecolor": "white",
                        "showbackground": true,
                        "ticks": "",
                        "zerolinecolor": "white"
                      },
                      "zaxis": {
                        "backgroundcolor": "#E5ECF6",
                        "gridcolor": "white",
                        "gridwidth": 2,
                        "linecolor": "white",
                        "showbackground": true,
                        "ticks": "",
                        "zerolinecolor": "white"
                      }
                    },
                    "shapedefaults": {
                      "line": {
                        "color": "#2a3f5f"
                      }
                    },
                    "ternary": {
                      "aaxis": {
                        "gridcolor": "white",
                        "linecolor": "white",
                        "ticks": ""
                      },
                      "baxis": {
                        "gridcolor": "white",
                        "linecolor": "white",
                        "ticks": ""
                      },
                      "bgcolor": "#E5ECF6",
                      "caxis": {
                        "gridcolor": "white",
                        "linecolor": "white",
                        "ticks": ""
                      }
                    },
                    "title": {
                      "x": 0.05
                    },
                    "xaxis": {
                      "automargin": true,
                      "gridcolor": "white",
                      "linecolor": "white",
                      "ticks": "",
                      "title": {
                        "standoff": 15
                      },
                      "zerolinecolor": "white",
                      "zerolinewidth": 2
                    },
                    "yaxis": {
                      "automargin": true,
                      "gridcolor": "white",
                      "linecolor": "white",
                      "ticks": "",
                      "title": {
                        "standoff": 15
                      },
                      "zerolinecolor": "white",
                      "zerolinewidth": 2
                    }
                  }
                },
                "title": {
                  "text": "Top 10 Feature Importances for Churn Prediction"
                },
                "xaxis": {
                  "anchor": "y",
                  "domain": [
                    0,
                    1
                  ],
                  "title": {
                    "text": "importance"
                  }
                },
                "yaxis": {
                  "anchor": "x",
                  "domain": [
                    0,
                    1
                  ],
                  "title": {
                    "text": "feature"
                  }
                }
              }
            }
          },
          "metadata": {},
          "output_type": "display_data"
        }
      ],
      "source": [
        "# Prepare features\n",
        "X = pd.get_dummies(rfm.drop(['churned'], axis=1), columns=['age_group', 'region', 'traffic_source'])\n",
        "y = rfm['churned']\n",
        "\n",
        "# Scale numerical features\n",
        "scaler = StandardScaler()\n",
        "X[['recency', 'frequency', 'monetary']] = scaler.fit_transform(X[['recency', 'frequency', 'monetary']])\n",
        "\n",
        "# Split the data\n",
        "X_train, X_test, y_train, y_test = train_test_split(X, y, test_size=0.2, random_state=42)\n",
        "\n",
        "# Train the model\n",
        "rf_model = RandomForestClassifier(n_estimators=100, random_state=42)\n",
        "rf_model.fit(X_train, y_train)\n",
        "\n",
        "# Make predictions\n",
        "y_pred = rf_model.predict(X_test)\n",
        "\n",
        "# Print the classification report\n",
        "print(classification_report(y_test, y_pred))\n",
        "\n",
        "# Plot feature importances\n",
        "importances = pd.DataFrame({'feature': X.columns, 'importance': rf_model.feature_importances_})\n",
        "importances = importances.sort_values('importance', ascending=False).head(10)\n",
        "\n",
        "fig = px.bar(importances, x='importance', y='feature', orientation='h',\n",
        "             title='Top 10 Feature Importances for Churn Prediction')\n",
        "fig.show()"
      ]
    },
    {
      "cell_type": "markdown",
      "metadata": {},
      "source": [
        "1. Model Performance:\n",
        "   - The classification report shows metrics like precision, recall, and F1-score for both churned and non-churned customers.\n",
        "   - Pay attention to the 'weighted avg' row for an overall view of the model's performance.\n",
        "   - A high F1-score indicates a good balance between precision and recall.\n",
        "\n",
        "2. Feature Importance:\n",
        "   - The bar chart shows the top 10 most important features for predicting churn.\n",
        "   - Recency is likely the most important feature, followed by frequency and monetary value.\n",
        "   - Other features like age group, region, or traffic source may also play significant roles.\n",
        "\n",
        "This model provides us with a tool to predict which customers are likely to churn, allowing for proactive retention efforts. The feature importances give us insight into what factors most strongly influence churn, which can guide our retention strategies."
      ]
    },
    {
      "cell_type": "markdown",
      "metadata": {},
      "source": [
        "## Step 4: Customer Lifetime Value (CLV) Prediction\n",
        "\n",
        "Now that we can predict churn, let's estimate the Customer Lifetime Value (CLV) for each customer. This will help us identify high-value customers and prioritise our retention efforts."
      ]
    },
    {
      "cell_type": "code",
      "execution_count": 4,
      "metadata": {},
      "outputs": [
        {
          "data": {
            "application/vnd.plotly.v1+json": {
              "config": {
                "plotlyServerURL": "https://plot.ly"
              },
              "data": [
                {
                  "alignmentgroup": "True",
                  "bingroup": "x",
                  "hovertemplate": "churned=False<br>clv=%{x}<br>count=%{y}<extra></extra>",
                  "legendgroup": "False",
                  "marker": {
                    "color": "#636efa",
                    "pattern": {
                      "shape": ""
                    }
                  },
                  "name": "False",
                  "offsetgroup": "False",
                  "orientation": "v",
                  "showlegend": true,
                  "type": "histogram",
                  "x": [
                    6239.475980931717,
                    5552.273858492435,
                    4819.510924733933,
                    4770.565588265325,
                    3766.546518177858,
                    5714.624921570832,
                    2556.1170511358278,
                    5728.033287579944,
                    4039.2749243575927,
                    4380.21977215083,
                    4224.012149548158,
                    4984.220688769796,
                    4023.5062748551213,
                    5840.93322443317,
                    4703.073240020627,
                    3198.0988107142825,
                    6304.202769789157,
                    4645.704933005894,
                    4843.566356364373,
                    4361.4824646559955,
                    4320.345373465514,
                    6128.437616298052,
                    3952.191105209412,
                    5839.159329293532,
                    4444.756463991419,
                    5365.663929127166,
                    4087.777487457848,
                    4195.940157994992,
                    4298.31547431581,
                    2165.639480132694,
                    5206.632679716789,
                    4861.656490829411,
                    4064.3556664838316,
                    3142.908167577304,
                    5980.880947969803,
                    5074.218867441108,
                    4289.834244705203,
                    4165.105263685283,
                    3956.0531419976087,
                    5050.504680735239,
                    5487.7809601021145,
                    4652.909789860647,
                    4927.826502229771,
                    1705.1638449735938,
                    2972.430191712805,
                    2662.3944108181554,
                    4333.7065958054045,
                    3444.21482493413,
                    2826.1333452396952,
                    2361.181841210947,
                    3292.8277513092085,
                    3444.4005059787924,
                    6434.325482063989,
                    5002.378059517537,
                    3451.806836564551,
                    6190.8182982342805,
                    7471.122066861733,
                    8069.604353834598,
                    3745.1470546524047,
                    3253.8007333975343,
                    4722.461125334536,
                    7709.569231979143,
                    4484.809147589325
                  ],
                  "xaxis": "x",
                  "yaxis": "y"
                },
                {
                  "alignmentgroup": "True",
                  "hovertemplate": "churned=False<br>clv=%{x}<extra></extra>",
                  "legendgroup": "False",
                  "marker": {
                    "color": "#636efa"
                  },
                  "name": "False",
                  "notched": true,
                  "offsetgroup": "False",
                  "showlegend": false,
                  "type": "box",
                  "x": [
                    6239.475980931717,
                    5552.273858492435,
                    4819.510924733933,
                    4770.565588265325,
                    3766.546518177858,
                    5714.624921570832,
                    2556.1170511358278,
                    5728.033287579944,
                    4039.2749243575927,
                    4380.21977215083,
                    4224.012149548158,
                    4984.220688769796,
                    4023.5062748551213,
                    5840.93322443317,
                    4703.073240020627,
                    3198.0988107142825,
                    6304.202769789157,
                    4645.704933005894,
                    4843.566356364373,
                    4361.4824646559955,
                    4320.345373465514,
                    6128.437616298052,
                    3952.191105209412,
                    5839.159329293532,
                    4444.756463991419,
                    5365.663929127166,
                    4087.777487457848,
                    4195.940157994992,
                    4298.31547431581,
                    2165.639480132694,
                    5206.632679716789,
                    4861.656490829411,
                    4064.3556664838316,
                    3142.908167577304,
                    5980.880947969803,
                    5074.218867441108,
                    4289.834244705203,
                    4165.105263685283,
                    3956.0531419976087,
                    5050.504680735239,
                    5487.7809601021145,
                    4652.909789860647,
                    4927.826502229771,
                    1705.1638449735938,
                    2972.430191712805,
                    2662.3944108181554,
                    4333.7065958054045,
                    3444.21482493413,
                    2826.1333452396952,
                    2361.181841210947,
                    3292.8277513092085,
                    3444.4005059787924,
                    6434.325482063989,
                    5002.378059517537,
                    3451.806836564551,
                    6190.8182982342805,
                    7471.122066861733,
                    8069.604353834598,
                    3745.1470546524047,
                    3253.8007333975343,
                    4722.461125334536,
                    7709.569231979143,
                    4484.809147589325
                  ],
                  "xaxis": "x2",
                  "yaxis": "y2"
                },
                {
                  "alignmentgroup": "True",
                  "bingroup": "x",
                  "hovertemplate": "churned=True<br>clv=%{x}<br>count=%{y}<extra></extra>",
                  "legendgroup": "True",
                  "marker": {
                    "color": "#EF553B",
                    "pattern": {
                      "shape": ""
                    }
                  },
                  "name": "True",
                  "offsetgroup": "True",
                  "orientation": "v",
                  "showlegend": true,
                  "type": "histogram",
                  "x": [
                    389.61020804147506,
                    204.33094250671886,
                    297.10145372286524,
                    487.7173203410922,
                    1001.158747314631,
                    825.5449747022546,
                    344.57791234887367,
                    189.98814725749253,
                    259.8869150684718,
                    976.9723002061365,
                    857.0202480378125,
                    546.1851216592319,
                    177.02582244225488,
                    166.6613944434518,
                    169.78407244554657,
                    160.01941444979713,
                    490.4372348351331,
                    2443.3684291612904,
                    185.72810410880055,
                    1135.2169372281637,
                    602.6382830040291,
                    639.9192240341429,
                    334.3036151269813,
                    363.74539527307724,
                    477.31231646193464,
                    753.1694965844538,
                    188.54403445169166,
                    348.08536727019464,
                    174.5930173815499,
                    792.2952971878909,
                    422.51433727024363,
                    91.86947511528716,
                    236.0488989290804,
                    216.30648886722423,
                    571.5474524196295,
                    253.69727779096223,
                    262.7156265405458
                  ],
                  "xaxis": "x",
                  "yaxis": "y"
                },
                {
                  "alignmentgroup": "True",
                  "hovertemplate": "churned=True<br>clv=%{x}<extra></extra>",
                  "legendgroup": "True",
                  "marker": {
                    "color": "#EF553B"
                  },
                  "name": "True",
                  "notched": true,
                  "offsetgroup": "True",
                  "showlegend": false,
                  "type": "box",
                  "x": [
                    389.61020804147506,
                    204.33094250671886,
                    297.10145372286524,
                    487.7173203410922,
                    1001.158747314631,
                    825.5449747022546,
                    344.57791234887367,
                    189.98814725749253,
                    259.8869150684718,
                    976.9723002061365,
                    857.0202480378125,
                    546.1851216592319,
                    177.02582244225488,
                    166.6613944434518,
                    169.78407244554657,
                    160.01941444979713,
                    490.4372348351331,
                    2443.3684291612904,
                    185.72810410880055,
                    1135.2169372281637,
                    602.6382830040291,
                    639.9192240341429,
                    334.3036151269813,
                    363.74539527307724,
                    477.31231646193464,
                    753.1694965844538,
                    188.54403445169166,
                    348.08536727019464,
                    174.5930173815499,
                    792.2952971878909,
                    422.51433727024363,
                    91.86947511528716,
                    236.0488989290804,
                    216.30648886722423,
                    571.5474524196295,
                    253.69727779096223,
                    262.7156265405458
                  ],
                  "xaxis": "x2",
                  "yaxis": "y2"
                }
              ],
              "layout": {
                "barmode": "relative",
                "legend": {
                  "title": {
                    "text": "churned"
                  },
                  "tracegroupgap": 0
                },
                "template": {
                  "data": {
                    "bar": [
                      {
                        "error_x": {
                          "color": "#2a3f5f"
                        },
                        "error_y": {
                          "color": "#2a3f5f"
                        },
                        "marker": {
                          "line": {
                            "color": "#E5ECF6",
                            "width": 0.5
                          },
                          "pattern": {
                            "fillmode": "overlay",
                            "size": 10,
                            "solidity": 0.2
                          }
                        },
                        "type": "bar"
                      }
                    ],
                    "barpolar": [
                      {
                        "marker": {
                          "line": {
                            "color": "#E5ECF6",
                            "width": 0.5
                          },
                          "pattern": {
                            "fillmode": "overlay",
                            "size": 10,
                            "solidity": 0.2
                          }
                        },
                        "type": "barpolar"
                      }
                    ],
                    "carpet": [
                      {
                        "aaxis": {
                          "endlinecolor": "#2a3f5f",
                          "gridcolor": "white",
                          "linecolor": "white",
                          "minorgridcolor": "white",
                          "startlinecolor": "#2a3f5f"
                        },
                        "baxis": {
                          "endlinecolor": "#2a3f5f",
                          "gridcolor": "white",
                          "linecolor": "white",
                          "minorgridcolor": "white",
                          "startlinecolor": "#2a3f5f"
                        },
                        "type": "carpet"
                      }
                    ],
                    "choropleth": [
                      {
                        "colorbar": {
                          "outlinewidth": 0,
                          "ticks": ""
                        },
                        "type": "choropleth"
                      }
                    ],
                    "contour": [
                      {
                        "colorbar": {
                          "outlinewidth": 0,
                          "ticks": ""
                        },
                        "colorscale": [
                          [
                            0,
                            "#0d0887"
                          ],
                          [
                            0.1111111111111111,
                            "#46039f"
                          ],
                          [
                            0.2222222222222222,
                            "#7201a8"
                          ],
                          [
                            0.3333333333333333,
                            "#9c179e"
                          ],
                          [
                            0.4444444444444444,
                            "#bd3786"
                          ],
                          [
                            0.5555555555555556,
                            "#d8576b"
                          ],
                          [
                            0.6666666666666666,
                            "#ed7953"
                          ],
                          [
                            0.7777777777777778,
                            "#fb9f3a"
                          ],
                          [
                            0.8888888888888888,
                            "#fdca26"
                          ],
                          [
                            1,
                            "#f0f921"
                          ]
                        ],
                        "type": "contour"
                      }
                    ],
                    "contourcarpet": [
                      {
                        "colorbar": {
                          "outlinewidth": 0,
                          "ticks": ""
                        },
                        "type": "contourcarpet"
                      }
                    ],
                    "heatmap": [
                      {
                        "colorbar": {
                          "outlinewidth": 0,
                          "ticks": ""
                        },
                        "colorscale": [
                          [
                            0,
                            "#0d0887"
                          ],
                          [
                            0.1111111111111111,
                            "#46039f"
                          ],
                          [
                            0.2222222222222222,
                            "#7201a8"
                          ],
                          [
                            0.3333333333333333,
                            "#9c179e"
                          ],
                          [
                            0.4444444444444444,
                            "#bd3786"
                          ],
                          [
                            0.5555555555555556,
                            "#d8576b"
                          ],
                          [
                            0.6666666666666666,
                            "#ed7953"
                          ],
                          [
                            0.7777777777777778,
                            "#fb9f3a"
                          ],
                          [
                            0.8888888888888888,
                            "#fdca26"
                          ],
                          [
                            1,
                            "#f0f921"
                          ]
                        ],
                        "type": "heatmap"
                      }
                    ],
                    "heatmapgl": [
                      {
                        "colorbar": {
                          "outlinewidth": 0,
                          "ticks": ""
                        },
                        "colorscale": [
                          [
                            0,
                            "#0d0887"
                          ],
                          [
                            0.1111111111111111,
                            "#46039f"
                          ],
                          [
                            0.2222222222222222,
                            "#7201a8"
                          ],
                          [
                            0.3333333333333333,
                            "#9c179e"
                          ],
                          [
                            0.4444444444444444,
                            "#bd3786"
                          ],
                          [
                            0.5555555555555556,
                            "#d8576b"
                          ],
                          [
                            0.6666666666666666,
                            "#ed7953"
                          ],
                          [
                            0.7777777777777778,
                            "#fb9f3a"
                          ],
                          [
                            0.8888888888888888,
                            "#fdca26"
                          ],
                          [
                            1,
                            "#f0f921"
                          ]
                        ],
                        "type": "heatmapgl"
                      }
                    ],
                    "histogram": [
                      {
                        "marker": {
                          "pattern": {
                            "fillmode": "overlay",
                            "size": 10,
                            "solidity": 0.2
                          }
                        },
                        "type": "histogram"
                      }
                    ],
                    "histogram2d": [
                      {
                        "colorbar": {
                          "outlinewidth": 0,
                          "ticks": ""
                        },
                        "colorscale": [
                          [
                            0,
                            "#0d0887"
                          ],
                          [
                            0.1111111111111111,
                            "#46039f"
                          ],
                          [
                            0.2222222222222222,
                            "#7201a8"
                          ],
                          [
                            0.3333333333333333,
                            "#9c179e"
                          ],
                          [
                            0.4444444444444444,
                            "#bd3786"
                          ],
                          [
                            0.5555555555555556,
                            "#d8576b"
                          ],
                          [
                            0.6666666666666666,
                            "#ed7953"
                          ],
                          [
                            0.7777777777777778,
                            "#fb9f3a"
                          ],
                          [
                            0.8888888888888888,
                            "#fdca26"
                          ],
                          [
                            1,
                            "#f0f921"
                          ]
                        ],
                        "type": "histogram2d"
                      }
                    ],
                    "histogram2dcontour": [
                      {
                        "colorbar": {
                          "outlinewidth": 0,
                          "ticks": ""
                        },
                        "colorscale": [
                          [
                            0,
                            "#0d0887"
                          ],
                          [
                            0.1111111111111111,
                            "#46039f"
                          ],
                          [
                            0.2222222222222222,
                            "#7201a8"
                          ],
                          [
                            0.3333333333333333,
                            "#9c179e"
                          ],
                          [
                            0.4444444444444444,
                            "#bd3786"
                          ],
                          [
                            0.5555555555555556,
                            "#d8576b"
                          ],
                          [
                            0.6666666666666666,
                            "#ed7953"
                          ],
                          [
                            0.7777777777777778,
                            "#fb9f3a"
                          ],
                          [
                            0.8888888888888888,
                            "#fdca26"
                          ],
                          [
                            1,
                            "#f0f921"
                          ]
                        ],
                        "type": "histogram2dcontour"
                      }
                    ],
                    "mesh3d": [
                      {
                        "colorbar": {
                          "outlinewidth": 0,
                          "ticks": ""
                        },
                        "type": "mesh3d"
                      }
                    ],
                    "parcoords": [
                      {
                        "line": {
                          "colorbar": {
                            "outlinewidth": 0,
                            "ticks": ""
                          }
                        },
                        "type": "parcoords"
                      }
                    ],
                    "pie": [
                      {
                        "automargin": true,
                        "type": "pie"
                      }
                    ],
                    "scatter": [
                      {
                        "fillpattern": {
                          "fillmode": "overlay",
                          "size": 10,
                          "solidity": 0.2
                        },
                        "type": "scatter"
                      }
                    ],
                    "scatter3d": [
                      {
                        "line": {
                          "colorbar": {
                            "outlinewidth": 0,
                            "ticks": ""
                          }
                        },
                        "marker": {
                          "colorbar": {
                            "outlinewidth": 0,
                            "ticks": ""
                          }
                        },
                        "type": "scatter3d"
                      }
                    ],
                    "scattercarpet": [
                      {
                        "marker": {
                          "colorbar": {
                            "outlinewidth": 0,
                            "ticks": ""
                          }
                        },
                        "type": "scattercarpet"
                      }
                    ],
                    "scattergeo": [
                      {
                        "marker": {
                          "colorbar": {
                            "outlinewidth": 0,
                            "ticks": ""
                          }
                        },
                        "type": "scattergeo"
                      }
                    ],
                    "scattergl": [
                      {
                        "marker": {
                          "colorbar": {
                            "outlinewidth": 0,
                            "ticks": ""
                          }
                        },
                        "type": "scattergl"
                      }
                    ],
                    "scattermapbox": [
                      {
                        "marker": {
                          "colorbar": {
                            "outlinewidth": 0,
                            "ticks": ""
                          }
                        },
                        "type": "scattermapbox"
                      }
                    ],
                    "scatterpolar": [
                      {
                        "marker": {
                          "colorbar": {
                            "outlinewidth": 0,
                            "ticks": ""
                          }
                        },
                        "type": "scatterpolar"
                      }
                    ],
                    "scatterpolargl": [
                      {
                        "marker": {
                          "colorbar": {
                            "outlinewidth": 0,
                            "ticks": ""
                          }
                        },
                        "type": "scatterpolargl"
                      }
                    ],
                    "scatterternary": [
                      {
                        "marker": {
                          "colorbar": {
                            "outlinewidth": 0,
                            "ticks": ""
                          }
                        },
                        "type": "scatterternary"
                      }
                    ],
                    "surface": [
                      {
                        "colorbar": {
                          "outlinewidth": 0,
                          "ticks": ""
                        },
                        "colorscale": [
                          [
                            0,
                            "#0d0887"
                          ],
                          [
                            0.1111111111111111,
                            "#46039f"
                          ],
                          [
                            0.2222222222222222,
                            "#7201a8"
                          ],
                          [
                            0.3333333333333333,
                            "#9c179e"
                          ],
                          [
                            0.4444444444444444,
                            "#bd3786"
                          ],
                          [
                            0.5555555555555556,
                            "#d8576b"
                          ],
                          [
                            0.6666666666666666,
                            "#ed7953"
                          ],
                          [
                            0.7777777777777778,
                            "#fb9f3a"
                          ],
                          [
                            0.8888888888888888,
                            "#fdca26"
                          ],
                          [
                            1,
                            "#f0f921"
                          ]
                        ],
                        "type": "surface"
                      }
                    ],
                    "table": [
                      {
                        "cells": {
                          "fill": {
                            "color": "#EBF0F8"
                          },
                          "line": {
                            "color": "white"
                          }
                        },
                        "header": {
                          "fill": {
                            "color": "#C8D4E3"
                          },
                          "line": {
                            "color": "white"
                          }
                        },
                        "type": "table"
                      }
                    ]
                  },
                  "layout": {
                    "annotationdefaults": {
                      "arrowcolor": "#2a3f5f",
                      "arrowhead": 0,
                      "arrowwidth": 1
                    },
                    "autotypenumbers": "strict",
                    "coloraxis": {
                      "colorbar": {
                        "outlinewidth": 0,
                        "ticks": ""
                      }
                    },
                    "colorscale": {
                      "diverging": [
                        [
                          0,
                          "#8e0152"
                        ],
                        [
                          0.1,
                          "#c51b7d"
                        ],
                        [
                          0.2,
                          "#de77ae"
                        ],
                        [
                          0.3,
                          "#f1b6da"
                        ],
                        [
                          0.4,
                          "#fde0ef"
                        ],
                        [
                          0.5,
                          "#f7f7f7"
                        ],
                        [
                          0.6,
                          "#e6f5d0"
                        ],
                        [
                          0.7,
                          "#b8e186"
                        ],
                        [
                          0.8,
                          "#7fbc41"
                        ],
                        [
                          0.9,
                          "#4d9221"
                        ],
                        [
                          1,
                          "#276419"
                        ]
                      ],
                      "sequential": [
                        [
                          0,
                          "#0d0887"
                        ],
                        [
                          0.1111111111111111,
                          "#46039f"
                        ],
                        [
                          0.2222222222222222,
                          "#7201a8"
                        ],
                        [
                          0.3333333333333333,
                          "#9c179e"
                        ],
                        [
                          0.4444444444444444,
                          "#bd3786"
                        ],
                        [
                          0.5555555555555556,
                          "#d8576b"
                        ],
                        [
                          0.6666666666666666,
                          "#ed7953"
                        ],
                        [
                          0.7777777777777778,
                          "#fb9f3a"
                        ],
                        [
                          0.8888888888888888,
                          "#fdca26"
                        ],
                        [
                          1,
                          "#f0f921"
                        ]
                      ],
                      "sequentialminus": [
                        [
                          0,
                          "#0d0887"
                        ],
                        [
                          0.1111111111111111,
                          "#46039f"
                        ],
                        [
                          0.2222222222222222,
                          "#7201a8"
                        ],
                        [
                          0.3333333333333333,
                          "#9c179e"
                        ],
                        [
                          0.4444444444444444,
                          "#bd3786"
                        ],
                        [
                          0.5555555555555556,
                          "#d8576b"
                        ],
                        [
                          0.6666666666666666,
                          "#ed7953"
                        ],
                        [
                          0.7777777777777778,
                          "#fb9f3a"
                        ],
                        [
                          0.8888888888888888,
                          "#fdca26"
                        ],
                        [
                          1,
                          "#f0f921"
                        ]
                      ]
                    },
                    "colorway": [
                      "#636efa",
                      "#EF553B",
                      "#00cc96",
                      "#ab63fa",
                      "#FFA15A",
                      "#19d3f3",
                      "#FF6692",
                      "#B6E880",
                      "#FF97FF",
                      "#FECB52"
                    ],
                    "font": {
                      "color": "#2a3f5f"
                    },
                    "geo": {
                      "bgcolor": "white",
                      "lakecolor": "white",
                      "landcolor": "#E5ECF6",
                      "showlakes": true,
                      "showland": true,
                      "subunitcolor": "white"
                    },
                    "hoverlabel": {
                      "align": "left"
                    },
                    "hovermode": "closest",
                    "mapbox": {
                      "style": "light"
                    },
                    "paper_bgcolor": "white",
                    "plot_bgcolor": "#E5ECF6",
                    "polar": {
                      "angularaxis": {
                        "gridcolor": "white",
                        "linecolor": "white",
                        "ticks": ""
                      },
                      "bgcolor": "#E5ECF6",
                      "radialaxis": {
                        "gridcolor": "white",
                        "linecolor": "white",
                        "ticks": ""
                      }
                    },
                    "scene": {
                      "xaxis": {
                        "backgroundcolor": "#E5ECF6",
                        "gridcolor": "white",
                        "gridwidth": 2,
                        "linecolor": "white",
                        "showbackground": true,
                        "ticks": "",
                        "zerolinecolor": "white"
                      },
                      "yaxis": {
                        "backgroundcolor": "#E5ECF6",
                        "gridcolor": "white",
                        "gridwidth": 2,
                        "linecolor": "white",
                        "showbackground": true,
                        "ticks": "",
                        "zerolinecolor": "white"
                      },
                      "zaxis": {
                        "backgroundcolor": "#E5ECF6",
                        "gridcolor": "white",
                        "gridwidth": 2,
                        "linecolor": "white",
                        "showbackground": true,
                        "ticks": "",
                        "zerolinecolor": "white"
                      }
                    },
                    "shapedefaults": {
                      "line": {
                        "color": "#2a3f5f"
                      }
                    },
                    "ternary": {
                      "aaxis": {
                        "gridcolor": "white",
                        "linecolor": "white",
                        "ticks": ""
                      },
                      "baxis": {
                        "gridcolor": "white",
                        "linecolor": "white",
                        "ticks": ""
                      },
                      "bgcolor": "#E5ECF6",
                      "caxis": {
                        "gridcolor": "white",
                        "linecolor": "white",
                        "ticks": ""
                      }
                    },
                    "title": {
                      "x": 0.05
                    },
                    "xaxis": {
                      "automargin": true,
                      "gridcolor": "white",
                      "linecolor": "white",
                      "ticks": "",
                      "title": {
                        "standoff": 15
                      },
                      "zerolinecolor": "white",
                      "zerolinewidth": 2
                    },
                    "yaxis": {
                      "automargin": true,
                      "gridcolor": "white",
                      "linecolor": "white",
                      "ticks": "",
                      "title": {
                        "standoff": 15
                      },
                      "zerolinecolor": "white",
                      "zerolinewidth": 2
                    }
                  }
                },
                "title": {
                  "text": "Distribution of Customer Lifetime Value"
                },
                "xaxis": {
                  "anchor": "y",
                  "domain": [
                    0,
                    1
                  ],
                  "title": {
                    "text": "clv"
                  }
                },
                "xaxis2": {
                  "anchor": "y2",
                  "domain": [
                    0,
                    1
                  ],
                  "matches": "x",
                  "showgrid": true,
                  "showticklabels": false
                },
                "yaxis": {
                  "anchor": "x",
                  "domain": [
                    0,
                    0.7326
                  ],
                  "title": {
                    "text": "count"
                  }
                },
                "yaxis2": {
                  "anchor": "x2",
                  "domain": [
                    0.7426,
                    1
                  ],
                  "matches": "y2",
                  "showgrid": false,
                  "showline": false,
                  "showticklabels": false,
                  "ticks": ""
                }
              }
            }
          },
          "metadata": {},
          "output_type": "display_data"
        },
        {
          "name": "stdout",
          "output_type": "stream",
          "text": [
            "churned\n",
            "False    4570.359258\n",
            "True      487.503819\n",
            "Name: clv, dtype: float64\n"
          ]
        }
      ],
      "source": [
        "# Calculate components for CLV\n",
        "rfm['avg_order_value'] = rfm['monetary'] / rfm['frequency']\n",
        "rfm['purchase_frequency'] = rfm['frequency'] / ((latest_date - df['order_date'].min()).days / 365)\n",
        "rfm['customer_lifespan'] = 1 / (1 + np.exp(-(-3 + 10 * rf_model.predict_proba(X)[:, 0])))  # Sigmoid transformation of churn probability\n",
        "\n",
        "# Calculate CLV\n",
        "rfm['clv'] = rfm['avg_order_value'] * rfm['purchase_frequency'] * rfm['customer_lifespan'] * 3  # Assuming 3 years\n",
        "\n",
        "# Visualise CLV distribution\n",
        "fig = px.histogram(rfm, x='clv', color='churned', marginal='box', \n",
        "                   title='Distribution of Customer Lifetime Value')\n",
        "fig.show()\n",
        "\n",
        "# Print average CLV for churned and non-churned customers\n",
        "print(rfm.groupby('churned')['clv'].mean())"
      ]
    },
    {
      "cell_type": "markdown",
      "metadata": {},
      "source": [
        "#### Interpretation of CLV Analysis:\n",
        "\n",
        "1. CLV Distribution:\n",
        "   - The histogram shows the distribution of Customer Lifetime Values, separated by churned and non-churned customers.\n",
        "   - The box plot on the side provides a summary of the CLV distribution for each group.\n",
        "\n",
        "2. Average CLV Comparison:\n",
        "   - The printed values show the average CLV for churned and non-churned customers.\n",
        "   - Non-churned customers likely have a significantly higher average CLV.\n",
        "\n",
        "Key insights:\n",
        "- There's likely a wide range of CLV among customers, indicating varying levels of customer value.\n",
        "- Churned customers generally have lower CLV, which quantifies the impact of churn on the business.\n",
        "- This analysis helps identify high-value customers who should be prioritised in retention efforts.\n",
        "\n",
        "Understanding CLV allows us to make more informed decisions about customer acquisition costs, retention strategies, and overall customer relationship management."
      ]
    },
    {
      "cell_type": "markdown",
      "metadata": {},
      "source": [
        "## Step 5: Customer Insights Dashboard\n",
        "\n",
        "Finally, let's create a comprehensive dashboard that summarises our key findings. This will provide a quick overview of important metrics and insights for the marketing team."
      ]
    },
    {
      "cell_type": "code",
      "execution_count": 5,
      "metadata": {},
      "outputs": [
        {
          "data": {
            "application/vnd.plotly.v1+json": {
              "config": {
                "plotlyServerURL": "https://plot.ly"
              },
              "data": [
                {
                  "type": "bar",
                  "x": [
                    "18-25",
                    "56+",
                    "26-35",
                    "46-55",
                    "36-45"
                  ],
                  "xaxis": "x",
                  "y": [
                    0.5,
                    0.4782608695652174,
                    0.4,
                    0.35714285714285715,
                    0.13636363636363635
                  ],
                  "yaxis": "y"
                },
                {
                  "type": "bar",
                  "x": [
                    "London",
                    "Midlands",
                    "South West",
                    "North West",
                    "South East"
                  ],
                  "xaxis": "x2",
                  "y": [
                    3486.148690024941,
                    3462.5620534556683,
                    3368.019258063342,
                    2939.8203068647513,
                    1858.4497036131502
                  ],
                  "yaxis": "y2"
                },
                {
                  "domain": {
                    "x": [
                      0,
                      0.45
                    ],
                    "y": [
                      0,
                      0.375
                    ]
                  },
                  "labels": [
                    "Instagram",
                    "Direct",
                    "Google",
                    "Email",
                    "Facebook"
                  ],
                  "type": "pie",
                  "values": [
                    31,
                    19,
                    18,
                    17,
                    15
                  ]
                },
                {
                  "mode": "markers",
                  "type": "scatter",
                  "x": [
                    0.14,
                    0,
                    0.01,
                    0.91,
                    0.13,
                    0.98,
                    0.03,
                    0.05,
                    0.95,
                    0.05,
                    0.81,
                    0.03,
                    0.11,
                    0.06,
                    0.04,
                    0.87,
                    0.03,
                    0,
                    0.03,
                    0.83,
                    0.02,
                    0.03,
                    0.11,
                    0.97,
                    0.05,
                    0.01,
                    0.03,
                    0,
                    0.98,
                    0.97,
                    0.67,
                    0.08,
                    0.92,
                    0.1,
                    0.9,
                    0,
                    0.97,
                    0.02,
                    0.02,
                    0.92,
                    0.94,
                    0,
                    0.98,
                    0.03,
                    0.01,
                    0.1,
                    0.01,
                    0.09,
                    0.09,
                    0.07,
                    0.04,
                    0.02,
                    0.93,
                    0.72,
                    0.98,
                    0.04,
                    0.11,
                    0.84,
                    0.03,
                    0.9,
                    0.01,
                    0.95,
                    0.01,
                    0,
                    0.94,
                    0.93,
                    0.02,
                    0.01,
                    0.93,
                    0.03,
                    0.78,
                    0.95,
                    0.02,
                    0.06,
                    0.95,
                    0.99,
                    0.8,
                    0.21,
                    0.08,
                    0.89,
                    0.04,
                    0.04,
                    0.97,
                    0.21,
                    0.98,
                    0.02,
                    0,
                    0.02,
                    0,
                    0.02,
                    0.92,
                    0.04,
                    0.19,
                    0.09,
                    0.89,
                    0.25,
                    0.96,
                    0.93,
                    0.01,
                    0.02
                  ],
                  "xaxis": "x3",
                  "y": [
                    6239.475980931717,
                    5552.273858492435,
                    4819.510924733933,
                    389.61020804147506,
                    4770.565588265325,
                    204.33094250671886,
                    3766.546518177858,
                    5714.624921570832,
                    297.10145372286524,
                    2556.1170511358278,
                    487.7173203410922,
                    5728.033287579944,
                    4039.2749243575927,
                    4380.21977215083,
                    4224.012149548158,
                    1001.158747314631,
                    4984.220688769796,
                    4023.5062748551213,
                    5840.93322443317,
                    825.5449747022546,
                    4703.073240020627,
                    3198.0988107142825,
                    6304.202769789157,
                    344.57791234887367,
                    4645.704933005894,
                    4843.566356364373,
                    4361.4824646559955,
                    4320.345373465514,
                    189.98814725749253,
                    259.8869150684718,
                    976.9723002061365,
                    6128.437616298052,
                    857.0202480378125,
                    3952.191105209412,
                    546.1851216592319,
                    5839.159329293532,
                    177.02582244225488,
                    4444.756463991419,
                    5365.663929127166,
                    166.6613944434518,
                    169.78407244554657,
                    4087.777487457848,
                    160.01941444979713,
                    4195.940157994992,
                    4298.31547431581,
                    2165.639480132694,
                    5206.632679716789,
                    4861.656490829411,
                    4064.3556664838316,
                    3142.908167577304,
                    5980.880947969803,
                    5074.218867441108,
                    490.4372348351331,
                    2443.3684291612904,
                    185.72810410880055,
                    4289.834244705203,
                    4165.105263685283,
                    1135.2169372281637,
                    3956.0531419976087,
                    602.6382830040291,
                    5050.504680735239,
                    639.9192240341429,
                    5487.7809601021145,
                    4652.909789860647,
                    334.3036151269813,
                    363.74539527307724,
                    4927.826502229771,
                    1705.1638449735938,
                    477.31231646193464,
                    2972.430191712805,
                    753.1694965844538,
                    188.54403445169166,
                    2662.3944108181554,
                    4333.7065958054045,
                    348.08536727019464,
                    174.5930173815499,
                    792.2952971878909,
                    3444.21482493413,
                    2826.1333452396952,
                    422.51433727024363,
                    2361.181841210947,
                    3292.8277513092085,
                    91.86947511528716,
                    3444.4005059787924,
                    236.0488989290804,
                    6434.325482063989,
                    5002.378059517537,
                    3451.806836564551,
                    6190.8182982342805,
                    7471.122066861733,
                    216.30648886722423,
                    8069.604353834598,
                    3745.1470546524047,
                    3253.8007333975343,
                    571.5474524196295,
                    4722.461125334536,
                    253.69727779096223,
                    262.7156265405458,
                    7709.569231979143,
                    4484.809147589325
                  ],
                  "yaxis": "y3"
                }
              ],
              "layout": {
                "annotations": [
                  {
                    "font": {
                      "size": 16
                    },
                    "showarrow": false,
                    "text": "Churn Rate by Age Group",
                    "x": 0.225,
                    "xanchor": "center",
                    "xref": "paper",
                    "y": 1,
                    "yanchor": "bottom",
                    "yref": "paper"
                  },
                  {
                    "font": {
                      "size": 16
                    },
                    "showarrow": false,
                    "text": "Average CLV by Region",
                    "x": 0.775,
                    "xanchor": "center",
                    "xref": "paper",
                    "y": 1,
                    "yanchor": "bottom",
                    "yref": "paper"
                  },
                  {
                    "font": {
                      "size": 16
                    },
                    "showarrow": false,
                    "text": "Top Traffic Sources",
                    "x": 0.225,
                    "xanchor": "center",
                    "xref": "paper",
                    "y": 0.375,
                    "yanchor": "bottom",
                    "yref": "paper"
                  },
                  {
                    "font": {
                      "size": 16
                    },
                    "showarrow": false,
                    "text": "Churn Probability vs CLV",
                    "x": 0.775,
                    "xanchor": "center",
                    "xref": "paper",
                    "y": 0.375,
                    "yanchor": "bottom",
                    "yref": "paper"
                  }
                ],
                "height": 800,
                "template": {
                  "data": {
                    "bar": [
                      {
                        "error_x": {
                          "color": "#2a3f5f"
                        },
                        "error_y": {
                          "color": "#2a3f5f"
                        },
                        "marker": {
                          "line": {
                            "color": "#E5ECF6",
                            "width": 0.5
                          },
                          "pattern": {
                            "fillmode": "overlay",
                            "size": 10,
                            "solidity": 0.2
                          }
                        },
                        "type": "bar"
                      }
                    ],
                    "barpolar": [
                      {
                        "marker": {
                          "line": {
                            "color": "#E5ECF6",
                            "width": 0.5
                          },
                          "pattern": {
                            "fillmode": "overlay",
                            "size": 10,
                            "solidity": 0.2
                          }
                        },
                        "type": "barpolar"
                      }
                    ],
                    "carpet": [
                      {
                        "aaxis": {
                          "endlinecolor": "#2a3f5f",
                          "gridcolor": "white",
                          "linecolor": "white",
                          "minorgridcolor": "white",
                          "startlinecolor": "#2a3f5f"
                        },
                        "baxis": {
                          "endlinecolor": "#2a3f5f",
                          "gridcolor": "white",
                          "linecolor": "white",
                          "minorgridcolor": "white",
                          "startlinecolor": "#2a3f5f"
                        },
                        "type": "carpet"
                      }
                    ],
                    "choropleth": [
                      {
                        "colorbar": {
                          "outlinewidth": 0,
                          "ticks": ""
                        },
                        "type": "choropleth"
                      }
                    ],
                    "contour": [
                      {
                        "colorbar": {
                          "outlinewidth": 0,
                          "ticks": ""
                        },
                        "colorscale": [
                          [
                            0,
                            "#0d0887"
                          ],
                          [
                            0.1111111111111111,
                            "#46039f"
                          ],
                          [
                            0.2222222222222222,
                            "#7201a8"
                          ],
                          [
                            0.3333333333333333,
                            "#9c179e"
                          ],
                          [
                            0.4444444444444444,
                            "#bd3786"
                          ],
                          [
                            0.5555555555555556,
                            "#d8576b"
                          ],
                          [
                            0.6666666666666666,
                            "#ed7953"
                          ],
                          [
                            0.7777777777777778,
                            "#fb9f3a"
                          ],
                          [
                            0.8888888888888888,
                            "#fdca26"
                          ],
                          [
                            1,
                            "#f0f921"
                          ]
                        ],
                        "type": "contour"
                      }
                    ],
                    "contourcarpet": [
                      {
                        "colorbar": {
                          "outlinewidth": 0,
                          "ticks": ""
                        },
                        "type": "contourcarpet"
                      }
                    ],
                    "heatmap": [
                      {
                        "colorbar": {
                          "outlinewidth": 0,
                          "ticks": ""
                        },
                        "colorscale": [
                          [
                            0,
                            "#0d0887"
                          ],
                          [
                            0.1111111111111111,
                            "#46039f"
                          ],
                          [
                            0.2222222222222222,
                            "#7201a8"
                          ],
                          [
                            0.3333333333333333,
                            "#9c179e"
                          ],
                          [
                            0.4444444444444444,
                            "#bd3786"
                          ],
                          [
                            0.5555555555555556,
                            "#d8576b"
                          ],
                          [
                            0.6666666666666666,
                            "#ed7953"
                          ],
                          [
                            0.7777777777777778,
                            "#fb9f3a"
                          ],
                          [
                            0.8888888888888888,
                            "#fdca26"
                          ],
                          [
                            1,
                            "#f0f921"
                          ]
                        ],
                        "type": "heatmap"
                      }
                    ],
                    "heatmapgl": [
                      {
                        "colorbar": {
                          "outlinewidth": 0,
                          "ticks": ""
                        },
                        "colorscale": [
                          [
                            0,
                            "#0d0887"
                          ],
                          [
                            0.1111111111111111,
                            "#46039f"
                          ],
                          [
                            0.2222222222222222,
                            "#7201a8"
                          ],
                          [
                            0.3333333333333333,
                            "#9c179e"
                          ],
                          [
                            0.4444444444444444,
                            "#bd3786"
                          ],
                          [
                            0.5555555555555556,
                            "#d8576b"
                          ],
                          [
                            0.6666666666666666,
                            "#ed7953"
                          ],
                          [
                            0.7777777777777778,
                            "#fb9f3a"
                          ],
                          [
                            0.8888888888888888,
                            "#fdca26"
                          ],
                          [
                            1,
                            "#f0f921"
                          ]
                        ],
                        "type": "heatmapgl"
                      }
                    ],
                    "histogram": [
                      {
                        "marker": {
                          "pattern": {
                            "fillmode": "overlay",
                            "size": 10,
                            "solidity": 0.2
                          }
                        },
                        "type": "histogram"
                      }
                    ],
                    "histogram2d": [
                      {
                        "colorbar": {
                          "outlinewidth": 0,
                          "ticks": ""
                        },
                        "colorscale": [
                          [
                            0,
                            "#0d0887"
                          ],
                          [
                            0.1111111111111111,
                            "#46039f"
                          ],
                          [
                            0.2222222222222222,
                            "#7201a8"
                          ],
                          [
                            0.3333333333333333,
                            "#9c179e"
                          ],
                          [
                            0.4444444444444444,
                            "#bd3786"
                          ],
                          [
                            0.5555555555555556,
                            "#d8576b"
                          ],
                          [
                            0.6666666666666666,
                            "#ed7953"
                          ],
                          [
                            0.7777777777777778,
                            "#fb9f3a"
                          ],
                          [
                            0.8888888888888888,
                            "#fdca26"
                          ],
                          [
                            1,
                            "#f0f921"
                          ]
                        ],
                        "type": "histogram2d"
                      }
                    ],
                    "histogram2dcontour": [
                      {
                        "colorbar": {
                          "outlinewidth": 0,
                          "ticks": ""
                        },
                        "colorscale": [
                          [
                            0,
                            "#0d0887"
                          ],
                          [
                            0.1111111111111111,
                            "#46039f"
                          ],
                          [
                            0.2222222222222222,
                            "#7201a8"
                          ],
                          [
                            0.3333333333333333,
                            "#9c179e"
                          ],
                          [
                            0.4444444444444444,
                            "#bd3786"
                          ],
                          [
                            0.5555555555555556,
                            "#d8576b"
                          ],
                          [
                            0.6666666666666666,
                            "#ed7953"
                          ],
                          [
                            0.7777777777777778,
                            "#fb9f3a"
                          ],
                          [
                            0.8888888888888888,
                            "#fdca26"
                          ],
                          [
                            1,
                            "#f0f921"
                          ]
                        ],
                        "type": "histogram2dcontour"
                      }
                    ],
                    "mesh3d": [
                      {
                        "colorbar": {
                          "outlinewidth": 0,
                          "ticks": ""
                        },
                        "type": "mesh3d"
                      }
                    ],
                    "parcoords": [
                      {
                        "line": {
                          "colorbar": {
                            "outlinewidth": 0,
                            "ticks": ""
                          }
                        },
                        "type": "parcoords"
                      }
                    ],
                    "pie": [
                      {
                        "automargin": true,
                        "type": "pie"
                      }
                    ],
                    "scatter": [
                      {
                        "fillpattern": {
                          "fillmode": "overlay",
                          "size": 10,
                          "solidity": 0.2
                        },
                        "type": "scatter"
                      }
                    ],
                    "scatter3d": [
                      {
                        "line": {
                          "colorbar": {
                            "outlinewidth": 0,
                            "ticks": ""
                          }
                        },
                        "marker": {
                          "colorbar": {
                            "outlinewidth": 0,
                            "ticks": ""
                          }
                        },
                        "type": "scatter3d"
                      }
                    ],
                    "scattercarpet": [
                      {
                        "marker": {
                          "colorbar": {
                            "outlinewidth": 0,
                            "ticks": ""
                          }
                        },
                        "type": "scattercarpet"
                      }
                    ],
                    "scattergeo": [
                      {
                        "marker": {
                          "colorbar": {
                            "outlinewidth": 0,
                            "ticks": ""
                          }
                        },
                        "type": "scattergeo"
                      }
                    ],
                    "scattergl": [
                      {
                        "marker": {
                          "colorbar": {
                            "outlinewidth": 0,
                            "ticks": ""
                          }
                        },
                        "type": "scattergl"
                      }
                    ],
                    "scattermapbox": [
                      {
                        "marker": {
                          "colorbar": {
                            "outlinewidth": 0,
                            "ticks": ""
                          }
                        },
                        "type": "scattermapbox"
                      }
                    ],
                    "scatterpolar": [
                      {
                        "marker": {
                          "colorbar": {
                            "outlinewidth": 0,
                            "ticks": ""
                          }
                        },
                        "type": "scatterpolar"
                      }
                    ],
                    "scatterpolargl": [
                      {
                        "marker": {
                          "colorbar": {
                            "outlinewidth": 0,
                            "ticks": ""
                          }
                        },
                        "type": "scatterpolargl"
                      }
                    ],
                    "scatterternary": [
                      {
                        "marker": {
                          "colorbar": {
                            "outlinewidth": 0,
                            "ticks": ""
                          }
                        },
                        "type": "scatterternary"
                      }
                    ],
                    "surface": [
                      {
                        "colorbar": {
                          "outlinewidth": 0,
                          "ticks": ""
                        },
                        "colorscale": [
                          [
                            0,
                            "#0d0887"
                          ],
                          [
                            0.1111111111111111,
                            "#46039f"
                          ],
                          [
                            0.2222222222222222,
                            "#7201a8"
                          ],
                          [
                            0.3333333333333333,
                            "#9c179e"
                          ],
                          [
                            0.4444444444444444,
                            "#bd3786"
                          ],
                          [
                            0.5555555555555556,
                            "#d8576b"
                          ],
                          [
                            0.6666666666666666,
                            "#ed7953"
                          ],
                          [
                            0.7777777777777778,
                            "#fb9f3a"
                          ],
                          [
                            0.8888888888888888,
                            "#fdca26"
                          ],
                          [
                            1,
                            "#f0f921"
                          ]
                        ],
                        "type": "surface"
                      }
                    ],
                    "table": [
                      {
                        "cells": {
                          "fill": {
                            "color": "#EBF0F8"
                          },
                          "line": {
                            "color": "white"
                          }
                        },
                        "header": {
                          "fill": {
                            "color": "#C8D4E3"
                          },
                          "line": {
                            "color": "white"
                          }
                        },
                        "type": "table"
                      }
                    ]
                  },
                  "layout": {
                    "annotationdefaults": {
                      "arrowcolor": "#2a3f5f",
                      "arrowhead": 0,
                      "arrowwidth": 1
                    },
                    "autotypenumbers": "strict",
                    "coloraxis": {
                      "colorbar": {
                        "outlinewidth": 0,
                        "ticks": ""
                      }
                    },
                    "colorscale": {
                      "diverging": [
                        [
                          0,
                          "#8e0152"
                        ],
                        [
                          0.1,
                          "#c51b7d"
                        ],
                        [
                          0.2,
                          "#de77ae"
                        ],
                        [
                          0.3,
                          "#f1b6da"
                        ],
                        [
                          0.4,
                          "#fde0ef"
                        ],
                        [
                          0.5,
                          "#f7f7f7"
                        ],
                        [
                          0.6,
                          "#e6f5d0"
                        ],
                        [
                          0.7,
                          "#b8e186"
                        ],
                        [
                          0.8,
                          "#7fbc41"
                        ],
                        [
                          0.9,
                          "#4d9221"
                        ],
                        [
                          1,
                          "#276419"
                        ]
                      ],
                      "sequential": [
                        [
                          0,
                          "#0d0887"
                        ],
                        [
                          0.1111111111111111,
                          "#46039f"
                        ],
                        [
                          0.2222222222222222,
                          "#7201a8"
                        ],
                        [
                          0.3333333333333333,
                          "#9c179e"
                        ],
                        [
                          0.4444444444444444,
                          "#bd3786"
                        ],
                        [
                          0.5555555555555556,
                          "#d8576b"
                        ],
                        [
                          0.6666666666666666,
                          "#ed7953"
                        ],
                        [
                          0.7777777777777778,
                          "#fb9f3a"
                        ],
                        [
                          0.8888888888888888,
                          "#fdca26"
                        ],
                        [
                          1,
                          "#f0f921"
                        ]
                      ],
                      "sequentialminus": [
                        [
                          0,
                          "#0d0887"
                        ],
                        [
                          0.1111111111111111,
                          "#46039f"
                        ],
                        [
                          0.2222222222222222,
                          "#7201a8"
                        ],
                        [
                          0.3333333333333333,
                          "#9c179e"
                        ],
                        [
                          0.4444444444444444,
                          "#bd3786"
                        ],
                        [
                          0.5555555555555556,
                          "#d8576b"
                        ],
                        [
                          0.6666666666666666,
                          "#ed7953"
                        ],
                        [
                          0.7777777777777778,
                          "#fb9f3a"
                        ],
                        [
                          0.8888888888888888,
                          "#fdca26"
                        ],
                        [
                          1,
                          "#f0f921"
                        ]
                      ]
                    },
                    "colorway": [
                      "#636efa",
                      "#EF553B",
                      "#00cc96",
                      "#ab63fa",
                      "#FFA15A",
                      "#19d3f3",
                      "#FF6692",
                      "#B6E880",
                      "#FF97FF",
                      "#FECB52"
                    ],
                    "font": {
                      "color": "#2a3f5f"
                    },
                    "geo": {
                      "bgcolor": "white",
                      "lakecolor": "white",
                      "landcolor": "#E5ECF6",
                      "showlakes": true,
                      "showland": true,
                      "subunitcolor": "white"
                    },
                    "hoverlabel": {
                      "align": "left"
                    },
                    "hovermode": "closest",
                    "mapbox": {
                      "style": "light"
                    },
                    "paper_bgcolor": "white",
                    "plot_bgcolor": "#E5ECF6",
                    "polar": {
                      "angularaxis": {
                        "gridcolor": "white",
                        "linecolor": "white",
                        "ticks": ""
                      },
                      "bgcolor": "#E5ECF6",
                      "radialaxis": {
                        "gridcolor": "white",
                        "linecolor": "white",
                        "ticks": ""
                      }
                    },
                    "scene": {
                      "xaxis": {
                        "backgroundcolor": "#E5ECF6",
                        "gridcolor": "white",
                        "gridwidth": 2,
                        "linecolor": "white",
                        "showbackground": true,
                        "ticks": "",
                        "zerolinecolor": "white"
                      },
                      "yaxis": {
                        "backgroundcolor": "#E5ECF6",
                        "gridcolor": "white",
                        "gridwidth": 2,
                        "linecolor": "white",
                        "showbackground": true,
                        "ticks": "",
                        "zerolinecolor": "white"
                      },
                      "zaxis": {
                        "backgroundcolor": "#E5ECF6",
                        "gridcolor": "white",
                        "gridwidth": 2,
                        "linecolor": "white",
                        "showbackground": true,
                        "ticks": "",
                        "zerolinecolor": "white"
                      }
                    },
                    "shapedefaults": {
                      "line": {
                        "color": "#2a3f5f"
                      }
                    },
                    "ternary": {
                      "aaxis": {
                        "gridcolor": "white",
                        "linecolor": "white",
                        "ticks": ""
                      },
                      "baxis": {
                        "gridcolor": "white",
                        "linecolor": "white",
                        "ticks": ""
                      },
                      "bgcolor": "#E5ECF6",
                      "caxis": {
                        "gridcolor": "white",
                        "linecolor": "white",
                        "ticks": ""
                      }
                    },
                    "title": {
                      "x": 0.05
                    },
                    "xaxis": {
                      "automargin": true,
                      "gridcolor": "white",
                      "linecolor": "white",
                      "ticks": "",
                      "title": {
                        "standoff": 15
                      },
                      "zerolinecolor": "white",
                      "zerolinewidth": 2
                    },
                    "yaxis": {
                      "automargin": true,
                      "gridcolor": "white",
                      "linecolor": "white",
                      "ticks": "",
                      "title": {
                        "standoff": 15
                      },
                      "zerolinecolor": "white",
                      "zerolinewidth": 2
                    }
                  }
                },
                "title": {
                  "text": "Customer Insights Dashboard"
                },
                "xaxis": {
                  "anchor": "y",
                  "domain": [
                    0,
                    0.45
                  ]
                },
                "xaxis2": {
                  "anchor": "y2",
                  "domain": [
                    0.55,
                    1
                  ]
                },
                "xaxis3": {
                  "anchor": "y3",
                  "domain": [
                    0.55,
                    1
                  ]
                },
                "yaxis": {
                  "anchor": "x",
                  "domain": [
                    0.625,
                    1
                  ]
                },
                "yaxis2": {
                  "anchor": "x2",
                  "domain": [
                    0.625,
                    1
                  ]
                },
                "yaxis3": {
                  "anchor": "x3",
                  "domain": [
                    0,
                    0.375
                  ]
                }
              }
            }
          },
          "metadata": {},
          "output_type": "display_data"
        }
      ],
      "source": [
        "# Churn Rate by Age Group\n",
        "churn_by_age = rfm.groupby('age_group')['churned'].mean().sort_values(ascending=False)\n",
        "fig1 = go.Figure(go.Bar(x=churn_by_age.index, y=churn_by_age.values))\n",
        "fig1.update_layout(title='Churn Rate by Age Group', xaxis_title='Age Group', yaxis_title='Churn Rate')\n",
        "\n",
        "# Average CLV by Region\n",
        "clv_by_region = rfm.groupby('region')['clv'].mean().sort_values(ascending=False)\n",
        "fig2 = go.Figure(go.Bar(x=clv_by_region.index, y=clv_by_region.values))\n",
        "fig2.update_layout(title='Average CLV by Region', xaxis_title='Region', yaxis_title='Average CLV')\n",
        "\n",
        "# Top Traffic Sources\n",
        "top_sources = rfm['traffic_source'].value_counts().head(5)\n",
        "fig3 = go.Figure(go.Pie(labels=top_sources.index, values=top_sources.values))\n",
        "fig3.update_layout(title='Top Traffic Sources')\n",
        "\n",
        "# Churn Probability vs CLV\n",
        "fig4 = go.Figure(go.Scatter(x=rf_model.predict_proba(X)[:, 1], y=rfm['clv'], mode='markers'))\n",
        "fig4.update_layout(title='Churn Probability vs CLV', xaxis_title='Churn Probability', yaxis_title='CLV')\n",
        "\n",
        "# Combine plots into a single figure\n",
        "fig = make_subplots(rows=2, cols=2, specs=[[{'type': 'xy'}, {'type': 'xy'}],\n",
        "                                           [{'type': 'domain'}, {'type': 'xy'}]],\n",
        "                    subplot_titles=('Churn Rate by Age Group', 'Average CLV by Region', \n",
        "                                    'Top Traffic Sources', 'Churn Probability vs CLV'))\n",
        "\n",
        "# Add traces to the subplots\n",
        "fig.add_trace(fig1.data[0], row=1, col=1)\n",
        "fig.add_trace(fig2.data[0], row=1, col=2)\n",
        "fig.add_trace(fig3.data[0], row=2, col=1)\n",
        "fig.add_trace(fig4.data[0], row=2, col=2)\n",
        "\n",
        "# Update layout\n",
        "fig.update_layout(height=800, title_text=\"Customer Insights Dashboard\")\n",
        "\n",
        "# Show the figure\n",
        "fig.show()"
      ]
    },
    {
      "cell_type": "markdown",
      "metadata": {},
      "source": [
        "#### Interpretation of Customer Insights Dashboard:\n",
        "\n",
        "This dashboard provides a comprehensive overview of our customer base and churn analysis. Let's break down each component:\n",
        "\n",
        "1. Churn Rate by Age Group:\n",
        "   - This bar chart shows how churn rate varies across different age groups.\n",
        "   - Look for age groups with notably higher churn rates. These may require targeted retention strategies.\n",
        "   - Consider whether the churn rate aligns with the business's target demographics.\n",
        "\n",
        "2. Average CLV by Region:\n",
        "   - This bar chart displays the average Customer Lifetime Value across different regions.\n",
        "   - Regions with higher CLV are particularly valuable and may warrant increased marketing or retention efforts.\n",
        "   - Lower CLV regions might need strategies to increase customer engagement and spending.\n",
        "\n",
        "3. Top Traffic Sources:\n",
        "   - The pie chart shows the distribution of the top traffic sources for customers.\n",
        "   - Identify which sources are bringing in the most customers.\n",
        "   - Consider allocating more resources to high-performing sources and investigating ways to improve lower-performing ones.\n",
        "\n",
        "4. Churn Probability vs CLV:\n",
        "   - This scatter plot shows the relationship between a customer's probability of churning and their CLV.\n",
        "   - Points in the upper-right quadrant represent high-value customers at high risk of churning. These should be a priority for retention efforts.\n",
        "   - A negative correlation (if present) would indicate that higher-value customers are generally less likely to churn.\n",
        "\n",
        "Key Takeaways:\n",
        "1. Identify the most vulnerable age groups and regions for targeted retention campaigns.\n",
        "2. Focus on the most effective traffic sources for customer acquisition.\n",
        "3. Prioritise retention efforts on high-CLV customers with high churn probability.\n",
        "4. Use these insights to develop data-driven, targeted marketing and retention strategies.\n",
        "\n",
        "This dashboard enables the marketing team to quickly grasp key customer metrics and make informed decisions about where to focus their efforts for maximum impact on customer retention and lifetime value."
      ]
    },
    {
      "cell_type": "markdown",
      "metadata": {},
      "source": [
        "## Actionable Insights and Recommendations\n",
        "\n",
        "Based on our analysis, here are some actionable insights and recommendations for the online retailer:\n",
        "\n",
        "1. **Target High-Risk, High-Value Customers**: Focus retention efforts on customers with high churn probability but high CLV.\n",
        "   - Action: Develop a VIP programme with exclusive benefits for these customers.\n",
        "\n",
        "2. **Age-Specific Strategies**: Tailor marketing approaches to different age groups, focusing on those with higher churn rates.\n",
        "   - Action: Create age-specific product bundles and marketing campaigns.\n",
        "\n",
        "3. **Regional Focus**: Invest more in regions with higher average CLV.\n",
        "   - Action: Increase marketing budget and customise offerings for high-CLV regions.\n",
        "\n",
        "4. **Traffic Source Optimisation**: Allocate more resources to the top-performing traffic sources.\n",
        "   - Action: Increase ad spend on the most effective channels.\n",
        "\n",
        "5. **Proactive Churn Prevention**: Use the churn prediction model to identify at-risk customers early.\n",
        "   - Action: Implement an early warning system and trigger personalised retention campaigns.\n",
        "\n",
        "6. **CLV-Based Segmentation**: Create customer segments based on predicted CLV for more targeted marketing.\n",
        "   - Action: Develop tiered loyalty programmes based on CLV segments.\n",
        "\n",
        "By implementing these strategies, the online retailer can work towards reducing churn, increasing customer lifetime value, and ultimately driving sustainable growth in their e-commerce business."
      ]
    }
  ],
  "metadata": {
    "kernelspec": {
      "display_name": "env",
      "language": "python",
      "name": "python3"
    },
    "language_info": {
      "codemirror_mode": {
        "name": "ipython",
        "version": 3
      },
      "file_extension": ".py",
      "mimetype": "text/x-python",
      "name": "python",
      "nbconvert_exporter": "python",
      "pygments_lexer": "ipython3",
      "version": "3.12.5"
    }
  },
  "nbformat": 4,
  "nbformat_minor": 4
}
