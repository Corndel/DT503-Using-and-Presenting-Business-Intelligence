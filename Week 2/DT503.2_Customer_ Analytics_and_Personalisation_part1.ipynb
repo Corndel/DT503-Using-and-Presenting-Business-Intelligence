{
  "cells": [
    {
      "cell_type": "markdown",
      "metadata": {},
      "source": [
        "# Customer Segmentation and Retention Strategy Tutorial\n",
        "\n",
        "## Step 1: Data Loading and Initial Exploration\n",
        "\n",
        "In this step, we'll load the e-commerce dataset and perform an initial exploration to understand its structure and contents.\n",
        "\n",
        "Understanding our data is crucial for identifying potential insights and determining the appropriate analysis methods for our customer segmentation project."
      ]
    },
    {
      "cell_type": "code",
      "execution_count": 1,
      "metadata": {},
      "outputs": [
        {
          "name": "stdout",
          "output_type": "stream",
          "text": [
            "   customer_id  order_id  order_date  product_id product_category  \\\n",
            "0           52      1001  2023-01-01         134           Sports   \n",
            "1           93      1002  2023-01-02         108      Electronics   \n",
            "2           15      1003  2023-01-03         140           Sports   \n",
            "3           72      1004  2023-01-04         183           Sports   \n",
            "4           61      1005  2023-01-05         142       Home Decor   \n",
            "\n",
            "   product_price  quantity     revenue  discount web_traffic_source  \\\n",
            "0            392         3  132.491483        45             Google   \n",
            "1             77         4  179.868736        43             Google   \n",
            "2            375         1  350.985646        43           Facebook   \n",
            "3            381         3  360.287920        30             Direct   \n",
            "4            223         3  336.964856        32           Facebook   \n",
            "\n",
            "  customer_age_group customer_region  customer_lifetime_value  \n",
            "0              26-35          London                     1123  \n",
            "1              26-35      South East                      322  \n",
            "2                56+      North West                     1362  \n",
            "3                56+        Midlands                     1452  \n",
            "4                NaN      South West                     1497  \n",
            "<class 'pandas.core.frame.DataFrame'>\n",
            "RangeIndex: 1000 entries, 0 to 999\n",
            "Data columns (total 13 columns):\n",
            " #   Column                   Non-Null Count  Dtype  \n",
            "---  ------                   --------------  -----  \n",
            " 0   customer_id              1000 non-null   int64  \n",
            " 1   order_id                 1000 non-null   int64  \n",
            " 2   order_date               1000 non-null   object \n",
            " 3   product_id               1000 non-null   int64  \n",
            " 4   product_category         1000 non-null   object \n",
            " 5   product_price            1000 non-null   int64  \n",
            " 6   quantity                 1000 non-null   int64  \n",
            " 7   revenue                  1000 non-null   float64\n",
            " 8   discount                 1000 non-null   int64  \n",
            " 9   web_traffic_source       1000 non-null   object \n",
            " 10  customer_age_group       878 non-null    object \n",
            " 11  customer_region          900 non-null    object \n",
            " 12  customer_lifetime_value  1000 non-null   int64  \n",
            "dtypes: float64(1), int64(7), object(5)\n",
            "memory usage: 101.7+ KB\n",
            "None\n"
          ]
        }
      ],
      "source": [
        "# Import necessary libraries\n",
        "import pandas as pd\n",
        "import matplotlib.pyplot as plt\n",
        "import seaborn as sns\n",
        "import plotly.express as px\n",
        "\n",
        "# Load the dataset\n",
        "df = pd.read_csv('ecommerce_data_week2.csv')\n",
        "\n",
        "# Display the first few rows and basic information about the dataset\n",
        "df.head()\n",
        "df.info()"
      ]
    },
    {
      "cell_type": "markdown",
      "metadata": {},
      "source": [
        "After executing the code above, examine the output and reflect on the following:\n",
        "- What columns are available in the dataset?\n",
        "- Are there any missing values?\n",
        "- What data types are present?\n",
        "\n",
        "### Explanation:\n",
        "The dataset contains information about customer orders, including customer demographics, order details, and revenue. We can see columns such as 'customer_id', 'order_date', 'product_category', 'revenue', and 'customer_age_group'. This information will be valuable for our segmentation analysis."
      ]
    },
    {
      "cell_type": "markdown",
      "metadata": {},
      "source": [
        "## Step 2: Data Preprocessing\n",
        "\n",
        "We'll clean the data and prepare it for analysis by handling missing values, converting data types, and creating derived features.\n",
        "\n",
        "Clean, well-structured data is essential for accurate analysis and insights. By preprocessing our data, we ensure that our subsequent analyses are based on reliable information."
      ]
    },
    {
      "cell_type": "code",
      "execution_count": 2,
      "metadata": {},
      "outputs": [
        {
          "name": "stdout",
          "output_type": "stream",
          "text": [
            "       customer_id     order_id           order_date  product_id  \\\n",
            "count  1000.000000  1000.000000                 1000  1000.00000   \n",
            "mean     50.128000  1500.500000  2024-05-14 12:00:00   149.94800   \n",
            "min       1.000000  1001.000000  2023-01-01 00:00:00   101.00000   \n",
            "25%      24.000000  1250.750000  2023-09-07 18:00:00   125.00000   \n",
            "50%      51.000000  1500.500000  2024-05-14 12:00:00   149.00000   \n",
            "75%      75.000000  1750.250000  2025-01-19 06:00:00   175.00000   \n",
            "max     100.000000  2000.000000  2025-09-26 00:00:00   200.00000   \n",
            "std      29.573505   288.819436                  NaN    29.13304   \n",
            "\n",
            "       product_price     quantity      revenue     discount  \\\n",
            "count    1000.000000  1000.000000  1000.000000  1000.000000   \n",
            "mean      259.177000     2.473000   395.186639    24.684000   \n",
            "min        10.000000     1.000000    91.605571     0.000000   \n",
            "25%       136.000000     1.000000   280.545795    13.000000   \n",
            "50%       267.500000     2.000000   395.893598    25.000000   \n",
            "75%       385.000000     4.000000   510.688603    37.000000   \n",
            "max       498.000000     4.000000   706.519007    50.000000   \n",
            "std       141.725586     1.138669   140.916412    14.352217   \n",
            "\n",
            "       customer_lifetime_value  total_spend  \n",
            "count              1000.000000  1000.000000  \n",
            "mean                863.781000   316.614430  \n",
            "min                 200.000000    49.132902  \n",
            "25%                 548.500000   172.330750  \n",
            "50%                 884.500000   299.166894  \n",
            "75%                1183.750000   442.692190  \n",
            "max                1499.000000   699.244324  \n",
            "std                 369.330229   161.877262  \n"
          ]
        }
      ],
      "source": [
        "# Convert 'order_date' to datetime\n",
        "df['order_date'] = pd.to_datetime(df['order_date'])\n",
        "\n",
        "# Create a 'total_spend' column\n",
        "df['total_spend'] = df['revenue'] * (1 - df['discount'] / 100)\n",
        "\n",
        "# Handle missing values in 'customer_age_group' and 'customer_region'\n",
        "df.fillna({'customer_age_group': 'Unknown'}, inplace=True)\n",
        "df.fillna({'customer_region': 'Unknown'}, inplace=True)\n",
        "\n",
        "# Display summary statistics\n",
        "print(df.describe())"
      ]
    },
    {
      "cell_type": "markdown",
      "metadata": {},
      "source": [
        "After executing the code above, consider:\n",
        "- How many orders are in the dataset?\n",
        "- What is the average total spend per order?\n",
        "- Are there any unusual values that need further investigation?\n",
        "\n",
        "### Explanation:\n",
        "We've prepared our data for analysis by converting the order date to a datetime format, calculating the total spend after discount, and handling missing values in categorical columns. The summary statistics provide an overview of our numerical variables, helping us identify any potential outliers or unusual patterns."
      ]
    },
    {
      "cell_type": "markdown",
      "metadata": {},
      "source": [
        "## Step 3: Customer Segmentation using RFM Analysis\n",
        "\n",
        "We'll perform an RFM (Recency, Frequency, Monetary) analysis to segment customers based on their purchasing behaviour.\n",
        "\n",
        "RFM analysis is a powerful method for customer segmentation that takes into account how recently a customer made a purchase, how often they purchase, and how much they spend. This segmentation will help us identify different customer groups for targeted retention strategies."
      ]
    },
    {
      "cell_type": "code",
      "execution_count": 3,
      "metadata": {},
      "outputs": [
        {
          "name": "stdout",
          "output_type": "stream",
          "text": [
            "             recency  frequency     monetary  R  F  M RFM_Score\n",
            "customer_id                                                    \n",
            "1                 46         16  4561.686818  3  4  4       344\n",
            "2                 32         13  4017.174996  3  4  4       344\n",
            "3                 26         12  3332.527600  4  3  3       433\n",
            "4                 91         11  2245.185205  2  3  1       231\n",
            "5                 68         11  3515.332097  2  3  3       233\n"
          ]
        }
      ],
      "source": [
        "# Calculate RFM metrics\n",
        "latest_date = df['order_date'].max()\n",
        "rfm = df.groupby('customer_id').agg({\n",
        "    'order_date': lambda x: (latest_date - x.max()).days,\n",
        "    'order_id': 'count',\n",
        "    'total_spend': 'sum'\n",
        "})\n",
        "rfm.columns = ['recency', 'frequency', 'monetary']\n",
        "\n",
        "# Create RFM score\n",
        "r_labels = range(4, 0, -1)\n",
        "f_labels = range(1, 5)\n",
        "m_labels = range(1, 5)\n",
        "r_quartiles = pd.qcut(rfm['recency'], q=4, labels=r_labels)\n",
        "f_quartiles = pd.qcut(rfm['frequency'], q=4, labels=f_labels)\n",
        "m_quartiles = pd.qcut(rfm['monetary'], q=4, labels=m_labels)\n",
        "rfm['R'] = r_quartiles\n",
        "rfm['F'] = f_quartiles\n",
        "rfm['M'] = m_quartiles\n",
        "rfm['RFM_Score'] = rfm['R'].astype(str) + rfm['F'].astype(str) + rfm['M'].astype(str)\n",
        "\n",
        "# Display the first few rows of the RFM dataframe\n",
        "print(rfm.head())"
      ]
    },
    {
      "cell_type": "markdown",
      "metadata": {},
      "source": [
        "### Visualisation of RFM Segmentation\n",
        "\n",
        "To better understand how our customers are distributed across the Recency, Frequency and Monetary dimensions, let's visualise our RFM analysis in a scatter plot."
      ]
    },
    {
      "cell_type": "code",
      "execution_count": 8,
      "metadata": {},
      "outputs": [
        {
          "data": {
            "application/vnd.plotly.v1+json": {
              "config": {
                "plotlyServerURL": "https://plot.ly"
              },
              "data": [
                {
                  "hovertemplate": "<b>%{hovertext}</b><br><br>RFM_Score=344<br>Recency=%{x}<br>Frequency=%{y}<extra></extra>",
                  "hovertext": [
                    1,
                    2,
                    8,
                    12,
                    63
                  ],
                  "legendgroup": "344",
                  "marker": {
                    "color": "#636efa",
                    "symbol": "circle"
                  },
                  "mode": "markers",
                  "name": "344",
                  "orientation": "v",
                  "showlegend": true,
                  "type": "scatter",
                  "x": [
                    46,
                    32,
                    45,
                    67,
                    52
                  ],
                  "xaxis": "x",
                  "y": [
                    16,
                    13,
                    13,
                    13,
                    13
                  ],
                  "yaxis": "y"
                },
                {
                  "hovertemplate": "<b>%{hovertext}</b><br><br>RFM_Score=433<br>Recency=%{x}<br>Frequency=%{y}<extra></extra>",
                  "hovertext": [
                    3
                  ],
                  "legendgroup": "433",
                  "marker": {
                    "color": "#EF553B",
                    "symbol": "circle"
                  },
                  "mode": "markers",
                  "name": "433",
                  "orientation": "v",
                  "showlegend": true,
                  "type": "scatter",
                  "x": [
                    26
                  ],
                  "xaxis": "x",
                  "y": [
                    12
                  ],
                  "yaxis": "y"
                },
                {
                  "hovertemplate": "<b>%{hovertext}</b><br><br>RFM_Score=231<br>Recency=%{x}<br>Frequency=%{y}<extra></extra>",
                  "hovertext": [
                    4
                  ],
                  "legendgroup": "231",
                  "marker": {
                    "color": "#00cc96",
                    "symbol": "circle"
                  },
                  "mode": "markers",
                  "name": "231",
                  "orientation": "v",
                  "showlegend": true,
                  "type": "scatter",
                  "x": [
                    91
                  ],
                  "xaxis": "x",
                  "y": [
                    11
                  ],
                  "yaxis": "y"
                },
                {
                  "hovertemplate": "<b>%{hovertext}</b><br><br>RFM_Score=233<br>Recency=%{x}<br>Frequency=%{y}<extra></extra>",
                  "hovertext": [
                    5,
                    69,
                    75
                  ],
                  "legendgroup": "233",
                  "marker": {
                    "color": "#ab63fa",
                    "symbol": "circle"
                  },
                  "mode": "markers",
                  "name": "233",
                  "orientation": "v",
                  "showlegend": true,
                  "type": "scatter",
                  "x": [
                    68,
                    107,
                    95
                  ],
                  "xaxis": "x",
                  "y": [
                    11,
                    12,
                    12
                  ],
                  "yaxis": "y"
                },
                {
                  "hovertemplate": "<b>%{hovertext}</b><br><br>RFM_Score=212<br>Recency=%{x}<br>Frequency=%{y}<extra></extra>",
                  "hovertext": [
                    6,
                    22,
                    66,
                    82
                  ],
                  "legendgroup": "212",
                  "marker": {
                    "color": "#FFA15A",
                    "symbol": "circle"
                  },
                  "mode": "markers",
                  "name": "212",
                  "orientation": "v",
                  "showlegend": true,
                  "type": "scatter",
                  "x": [
                    105,
                    72,
                    103,
                    76
                  ],
                  "xaxis": "x",
                  "y": [
                    8,
                    6,
                    8,
                    7
                  ],
                  "yaxis": "y"
                },
                {
                  "hovertemplate": "<b>%{hovertext}</b><br><br>RFM_Score=412<br>Recency=%{x}<br>Frequency=%{y}<extra></extra>",
                  "hovertext": [
                    7,
                    84
                  ],
                  "legendgroup": "412",
                  "marker": {
                    "color": "#19d3f3",
                    "symbol": "circle"
                  },
                  "mode": "markers",
                  "name": "412",
                  "orientation": "v",
                  "showlegend": true,
                  "type": "scatter",
                  "x": [
                    27,
                    7
                  ],
                  "xaxis": "x",
                  "y": [
                    8,
                    8
                  ],
                  "yaxis": "y"
                },
                {
                  "hovertemplate": "<b>%{hovertext}</b><br><br>RFM_Score=122<br>Recency=%{x}<br>Frequency=%{y}<extra></extra>",
                  "hovertext": [
                    9,
                    30,
                    97
                  ],
                  "legendgroup": "122",
                  "marker": {
                    "color": "#FF6692",
                    "symbol": "circle"
                  },
                  "mode": "markers",
                  "name": "122",
                  "orientation": "v",
                  "showlegend": true,
                  "type": "scatter",
                  "x": [
                    333,
                    120,
                    123
                  ],
                  "xaxis": "x",
                  "y": [
                    10,
                    10,
                    9
                  ],
                  "yaxis": "y"
                },
                {
                  "hovertemplate": "<b>%{hovertext}</b><br><br>RFM_Score=411<br>Recency=%{x}<br>Frequency=%{y}<extra></extra>",
                  "hovertext": [
                    10,
                    68
                  ],
                  "legendgroup": "411",
                  "marker": {
                    "color": "#B6E880",
                    "symbol": "circle"
                  },
                  "mode": "markers",
                  "name": "411",
                  "orientation": "v",
                  "showlegend": true,
                  "type": "scatter",
                  "x": [
                    4,
                    5
                  ],
                  "xaxis": "x",
                  "y": [
                    6,
                    5
                  ],
                  "yaxis": "y"
                },
                {
                  "hovertemplate": "<b>%{hovertext}</b><br><br>RFM_Score=111<br>Recency=%{x}<br>Frequency=%{y}<extra></extra>",
                  "hovertext": [
                    11,
                    29,
                    31,
                    37,
                    40,
                    41,
                    71,
                    72,
                    83,
                    91,
                    98
                  ],
                  "legendgroup": "111",
                  "marker": {
                    "color": "#FF97FF",
                    "symbol": "circle"
                  },
                  "mode": "markers",
                  "name": "111",
                  "orientation": "v",
                  "showlegend": true,
                  "type": "scatter",
                  "x": [
                    206,
                    116,
                    262,
                    180,
                    335,
                    236,
                    320,
                    161,
                    177,
                    129,
                    126
                  ],
                  "xaxis": "x",
                  "y": [
                    4,
                    8,
                    3,
                    7,
                    5,
                    4,
                    6,
                    8,
                    4,
                    5,
                    7
                  ],
                  "yaxis": "y"
                },
                {
                  "hovertemplate": "<b>%{hovertext}</b><br><br>RFM_Score=422<br>Recency=%{x}<br>Frequency=%{y}<extra></extra>",
                  "hovertext": [
                    13,
                    15,
                    18,
                    28,
                    44,
                    57
                  ],
                  "legendgroup": "422",
                  "marker": {
                    "color": "#FECB52",
                    "symbol": "circle"
                  },
                  "mode": "markers",
                  "name": "422",
                  "orientation": "v",
                  "showlegend": true,
                  "type": "scatter",
                  "x": [
                    8,
                    21,
                    2,
                    18,
                    11,
                    15
                  ],
                  "xaxis": "x",
                  "y": [
                    10,
                    10,
                    9,
                    10,
                    10,
                    9
                  ],
                  "yaxis": "y"
                },
                {
                  "hovertemplate": "<b>%{hovertext}</b><br><br>RFM_Score=323<br>Recency=%{x}<br>Frequency=%{y}<extra></extra>",
                  "hovertext": [
                    14,
                    26,
                    45
                  ],
                  "legendgroup": "323",
                  "marker": {
                    "color": "#636efa",
                    "symbol": "circle"
                  },
                  "mode": "markers",
                  "name": "323",
                  "orientation": "v",
                  "showlegend": true,
                  "type": "scatter",
                  "x": [
                    30,
                    31,
                    60
                  ],
                  "xaxis": "x",
                  "y": [
                    10,
                    9,
                    9
                  ],
                  "yaxis": "y"
                },
                {
                  "hovertemplate": "<b>%{hovertext}</b><br><br>RFM_Score=244<br>Recency=%{x}<br>Frequency=%{y}<extra></extra>",
                  "hovertext": [
                    16,
                    19,
                    51,
                    92
                  ],
                  "legendgroup": "244",
                  "marker": {
                    "color": "#EF553B",
                    "symbol": "circle"
                  },
                  "mode": "markers",
                  "name": "244",
                  "orientation": "v",
                  "showlegend": true,
                  "type": "scatter",
                  "x": [
                    94,
                    79,
                    80,
                    75
                  ],
                  "xaxis": "x",
                  "y": [
                    13,
                    14,
                    13,
                    19
                  ],
                  "yaxis": "y"
                },
                {
                  "hovertemplate": "<b>%{hovertext}</b><br><br>RFM_Score=443<br>Recency=%{x}<br>Frequency=%{y}<extra></extra>",
                  "hovertext": [
                    17
                  ],
                  "legendgroup": "443",
                  "marker": {
                    "color": "#00cc96",
                    "symbol": "circle"
                  },
                  "mode": "markers",
                  "name": "443",
                  "orientation": "v",
                  "showlegend": true,
                  "type": "scatter",
                  "x": [
                    9
                  ],
                  "xaxis": "x",
                  "y": [
                    15
                  ],
                  "yaxis": "y"
                },
                {
                  "hovertemplate": "<b>%{hovertext}</b><br><br>RFM_Score=113<br>Recency=%{x}<br>Frequency=%{y}<extra></extra>",
                  "hovertext": [
                    20,
                    65
                  ],
                  "legendgroup": "113",
                  "marker": {
                    "color": "#ab63fa",
                    "symbol": "circle"
                  },
                  "mode": "markers",
                  "name": "113",
                  "orientation": "v",
                  "showlegend": true,
                  "type": "scatter",
                  "x": [
                    269,
                    153
                  ],
                  "xaxis": "x",
                  "y": [
                    7,
                    8
                  ],
                  "yaxis": "y"
                },
                {
                  "hovertemplate": "<b>%{hovertext}</b><br><br>RFM_Score=223<br>Recency=%{x}<br>Frequency=%{y}<extra></extra>",
                  "hovertext": [
                    21,
                    95
                  ],
                  "legendgroup": "223",
                  "marker": {
                    "color": "#FFA15A",
                    "symbol": "circle"
                  },
                  "mode": "markers",
                  "name": "223",
                  "orientation": "v",
                  "showlegend": true,
                  "type": "scatter",
                  "x": [
                    71,
                    96
                  ],
                  "xaxis": "x",
                  "y": [
                    10,
                    10
                  ],
                  "yaxis": "y"
                },
                {
                  "hovertemplate": "<b>%{hovertext}</b><br><br>RFM_Score=444<br>Recency=%{x}<br>Frequency=%{y}<extra></extra>",
                  "hovertext": [
                    23,
                    86,
                    89,
                    90,
                    99
                  ],
                  "legendgroup": "444",
                  "marker": {
                    "color": "#19d3f3",
                    "symbol": "circle"
                  },
                  "mode": "markers",
                  "name": "444",
                  "orientation": "v",
                  "showlegend": true,
                  "type": "scatter",
                  "x": [
                    25,
                    0,
                    19,
                    12,
                    22
                  ],
                  "xaxis": "x",
                  "y": [
                    13,
                    15,
                    14,
                    20,
                    18
                  ],
                  "yaxis": "y"
                },
                {
                  "hovertemplate": "<b>%{hovertext}</b><br><br>RFM_Score=144<br>Recency=%{x}<br>Frequency=%{y}<extra></extra>",
                  "hovertext": [
                    24,
                    33,
                    58,
                    62
                  ],
                  "legendgroup": "144",
                  "marker": {
                    "color": "#FF6692",
                    "symbol": "circle"
                  },
                  "mode": "markers",
                  "name": "144",
                  "orientation": "v",
                  "showlegend": true,
                  "type": "scatter",
                  "x": [
                    248,
                    196,
                    241,
                    167
                  ],
                  "xaxis": "x",
                  "y": [
                    14,
                    18,
                    15,
                    19
                  ],
                  "yaxis": "y"
                },
                {
                  "hovertemplate": "<b>%{hovertext}</b><br><br>RFM_Score=423<br>Recency=%{x}<br>Frequency=%{y}<extra></extra>",
                  "hovertext": [
                    25,
                    38,
                    56,
                    64,
                    67,
                    74,
                    100
                  ],
                  "legendgroup": "423",
                  "marker": {
                    "color": "#B6E880",
                    "symbol": "circle"
                  },
                  "mode": "markers",
                  "name": "423",
                  "orientation": "v",
                  "showlegend": true,
                  "type": "scatter",
                  "x": [
                    6,
                    23,
                    28,
                    20,
                    3,
                    17,
                    1
                  ],
                  "xaxis": "x",
                  "y": [
                    10,
                    10,
                    9,
                    9,
                    10,
                    10,
                    9
                  ],
                  "yaxis": "y"
                },
                {
                  "hovertemplate": "<b>%{hovertext}</b><br><br>RFM_Score=332<br>Recency=%{x}<br>Frequency=%{y}<extra></extra>",
                  "hovertext": [
                    27
                  ],
                  "legendgroup": "332",
                  "marker": {
                    "color": "#FF97FF",
                    "symbol": "circle"
                  },
                  "mode": "markers",
                  "name": "332",
                  "orientation": "v",
                  "showlegend": true,
                  "type": "scatter",
                  "x": [
                    59
                  ],
                  "xaxis": "x",
                  "y": [
                    11
                  ],
                  "yaxis": "y"
                },
                {
                  "hovertemplate": "<b>%{hovertext}</b><br><br>RFM_Score=234<br>Recency=%{x}<br>Frequency=%{y}<extra></extra>",
                  "hovertext": [
                    32,
                    53
                  ],
                  "legendgroup": "234",
                  "marker": {
                    "color": "#FECB52",
                    "symbol": "circle"
                  },
                  "mode": "markers",
                  "name": "234",
                  "orientation": "v",
                  "showlegend": true,
                  "type": "scatter",
                  "x": [
                    83,
                    104
                  ],
                  "xaxis": "x",
                  "y": [
                    12,
                    11
                  ],
                  "yaxis": "y"
                },
                {
                  "hovertemplate": "<b>%{hovertext}</b><br><br>RFM_Score=322<br>Recency=%{x}<br>Frequency=%{y}<extra></extra>",
                  "hovertext": [
                    34,
                    49,
                    59,
                    88
                  ],
                  "legendgroup": "322",
                  "marker": {
                    "color": "#636efa",
                    "symbol": "circle"
                  },
                  "mode": "markers",
                  "name": "322",
                  "orientation": "v",
                  "showlegend": true,
                  "type": "scatter",
                  "x": [
                    64,
                    63,
                    29,
                    33
                  ],
                  "xaxis": "x",
                  "y": [
                    9,
                    9,
                    10,
                    9
                  ],
                  "yaxis": "y"
                },
                {
                  "hovertemplate": "<b>%{hovertext}</b><br><br>RFM_Score=123<br>Recency=%{x}<br>Frequency=%{y}<extra></extra>",
                  "hovertext": [
                    35
                  ],
                  "legendgroup": "123",
                  "marker": {
                    "color": "#EF553B",
                    "symbol": "circle"
                  },
                  "mode": "markers",
                  "name": "123",
                  "orientation": "v",
                  "showlegend": true,
                  "type": "scatter",
                  "x": [
                    222
                  ],
                  "xaxis": "x",
                  "y": [
                    10
                  ],
                  "yaxis": "y"
                },
                {
                  "hovertemplate": "<b>%{hovertext}</b><br><br>RFM_Score=334<br>Recency=%{x}<br>Frequency=%{y}<extra></extra>",
                  "hovertext": [
                    36,
                    52
                  ],
                  "legendgroup": "334",
                  "marker": {
                    "color": "#00cc96",
                    "symbol": "circle"
                  },
                  "mode": "markers",
                  "name": "334",
                  "orientation": "v",
                  "showlegend": true,
                  "type": "scatter",
                  "x": [
                    47,
                    43
                  ],
                  "xaxis": "x",
                  "y": [
                    12,
                    12
                  ],
                  "yaxis": "y"
                },
                {
                  "hovertemplate": "<b>%{hovertext}</b><br><br>RFM_Score=434<br>Recency=%{x}<br>Frequency=%{y}<extra></extra>",
                  "hovertext": [
                    39
                  ],
                  "legendgroup": "434",
                  "marker": {
                    "color": "#ab63fa",
                    "symbol": "circle"
                  },
                  "mode": "markers",
                  "name": "434",
                  "orientation": "v",
                  "showlegend": true,
                  "type": "scatter",
                  "x": [
                    16
                  ],
                  "xaxis": "x",
                  "y": [
                    12
                  ],
                  "yaxis": "y"
                },
                {
                  "hovertemplate": "<b>%{hovertext}</b><br><br>RFM_Score=222<br>Recency=%{x}<br>Frequency=%{y}<extra></extra>",
                  "hovertext": [
                    42
                  ],
                  "legendgroup": "222",
                  "marker": {
                    "color": "#FFA15A",
                    "symbol": "circle"
                  },
                  "mode": "markers",
                  "name": "222",
                  "orientation": "v",
                  "showlegend": true,
                  "type": "scatter",
                  "x": [
                    74
                  ],
                  "xaxis": "x",
                  "y": [
                    9
                  ],
                  "yaxis": "y"
                },
                {
                  "hovertemplate": "<b>%{hovertext}</b><br><br>RFM_Score=211<br>Recency=%{x}<br>Frequency=%{y}<extra></extra>",
                  "hovertext": [
                    43,
                    55,
                    70,
                    77,
                    80
                  ],
                  "legendgroup": "211",
                  "marker": {
                    "color": "#19d3f3",
                    "symbol": "circle"
                  },
                  "mode": "markers",
                  "name": "211",
                  "orientation": "v",
                  "showlegend": true,
                  "type": "scatter",
                  "x": [
                    101,
                    98,
                    70,
                    102,
                    97
                  ],
                  "xaxis": "x",
                  "y": [
                    5,
                    7,
                    7,
                    7,
                    8
                  ],
                  "yaxis": "y"
                },
                {
                  "hovertemplate": "<b>%{hovertext}</b><br><br>RFM_Score=311<br>Recency=%{x}<br>Frequency=%{y}<extra></extra>",
                  "hovertext": [
                    46,
                    73,
                    79,
                    81,
                    94
                  ],
                  "legendgroup": "311",
                  "marker": {
                    "color": "#FF6692",
                    "symbol": "circle"
                  },
                  "mode": "markers",
                  "name": "311",
                  "orientation": "v",
                  "showlegend": true,
                  "type": "scatter",
                  "x": [
                    65,
                    58,
                    42,
                    49,
                    53
                  ],
                  "xaxis": "x",
                  "y": [
                    7,
                    7,
                    6,
                    7,
                    8
                  ],
                  "yaxis": "y"
                },
                {
                  "hovertemplate": "<b>%{hovertext}</b><br><br>RFM_Score=333<br>Recency=%{x}<br>Frequency=%{y}<extra></extra>",
                  "hovertext": [
                    47,
                    48,
                    61
                  ],
                  "legendgroup": "333",
                  "marker": {
                    "color": "#B6E880",
                    "symbol": "circle"
                  },
                  "mode": "markers",
                  "name": "333",
                  "orientation": "v",
                  "showlegend": true,
                  "type": "scatter",
                  "x": [
                    41,
                    51,
                    50
                  ],
                  "xaxis": "x",
                  "y": [
                    12,
                    11,
                    12
                  ],
                  "yaxis": "y"
                },
                {
                  "hovertemplate": "<b>%{hovertext}</b><br><br>RFM_Score=221<br>Recency=%{x}<br>Frequency=%{y}<extra></extra>",
                  "hovertext": [
                    50
                  ],
                  "legendgroup": "221",
                  "marker": {
                    "color": "#FF97FF",
                    "symbol": "circle"
                  },
                  "mode": "markers",
                  "name": "221",
                  "orientation": "v",
                  "showlegend": true,
                  "type": "scatter",
                  "x": [
                    82
                  ],
                  "xaxis": "x",
                  "y": [
                    9
                  ],
                  "yaxis": "y"
                },
                {
                  "hovertemplate": "<b>%{hovertext}</b><br><br>RFM_Score=134<br>Recency=%{x}<br>Frequency=%{y}<extra></extra>",
                  "hovertext": [
                    54
                  ],
                  "legendgroup": "134",
                  "marker": {
                    "color": "#FECB52",
                    "symbol": "circle"
                  },
                  "mode": "markers",
                  "name": "134",
                  "orientation": "v",
                  "showlegend": true,
                  "type": "scatter",
                  "x": [
                    152
                  ],
                  "xaxis": "x",
                  "y": [
                    12
                  ],
                  "yaxis": "y"
                },
                {
                  "hovertemplate": "<b>%{hovertext}</b><br><br>RFM_Score=133<br>Recency=%{x}<br>Frequency=%{y}<extra></extra>",
                  "hovertext": [
                    60
                  ],
                  "legendgroup": "133",
                  "marker": {
                    "color": "#636efa",
                    "symbol": "circle"
                  },
                  "mode": "markers",
                  "name": "133",
                  "orientation": "v",
                  "showlegend": true,
                  "type": "scatter",
                  "x": [
                    240
                  ],
                  "xaxis": "x",
                  "y": [
                    11
                  ],
                  "yaxis": "y"
                },
                {
                  "hovertemplate": "<b>%{hovertext}</b><br><br>RFM_Score=112<br>Recency=%{x}<br>Frequency=%{y}<extra></extra>",
                  "hovertext": [
                    76,
                    85
                  ],
                  "legendgroup": "112",
                  "marker": {
                    "color": "#EF553B",
                    "symbol": "circle"
                  },
                  "mode": "markers",
                  "name": "112",
                  "orientation": "v",
                  "showlegend": true,
                  "type": "scatter",
                  "x": [
                    249,
                    143
                  ],
                  "xaxis": "x",
                  "y": [
                    8,
                    8
                  ],
                  "yaxis": "y"
                },
                {
                  "hovertemplate": "<b>%{hovertext}</b><br><br>RFM_Score=312<br>Recency=%{x}<br>Frequency=%{y}<extra></extra>",
                  "hovertext": [
                    78
                  ],
                  "legendgroup": "312",
                  "marker": {
                    "color": "#00cc96",
                    "symbol": "circle"
                  },
                  "mode": "markers",
                  "name": "312",
                  "orientation": "v",
                  "showlegend": true,
                  "type": "scatter",
                  "x": [
                    34
                  ],
                  "xaxis": "x",
                  "y": [
                    8
                  ],
                  "yaxis": "y"
                },
                {
                  "hovertemplate": "<b>%{hovertext}</b><br><br>RFM_Score=324<br>Recency=%{x}<br>Frequency=%{y}<extra></extra>",
                  "hovertext": [
                    87
                  ],
                  "legendgroup": "324",
                  "marker": {
                    "color": "#ab63fa",
                    "symbol": "circle"
                  },
                  "mode": "markers",
                  "name": "324",
                  "orientation": "v",
                  "showlegend": true,
                  "type": "scatter",
                  "x": [
                    35
                  ],
                  "xaxis": "x",
                  "y": [
                    10
                  ],
                  "yaxis": "y"
                },
                {
                  "hovertemplate": "<b>%{hovertext}</b><br><br>RFM_Score=232<br>Recency=%{x}<br>Frequency=%{y}<extra></extra>",
                  "hovertext": [
                    93
                  ],
                  "legendgroup": "232",
                  "marker": {
                    "color": "#FFA15A",
                    "symbol": "circle"
                  },
                  "mode": "markers",
                  "name": "232",
                  "orientation": "v",
                  "showlegend": true,
                  "type": "scatter",
                  "x": [
                    84
                  ],
                  "xaxis": "x",
                  "y": [
                    11
                  ],
                  "yaxis": "y"
                },
                {
                  "hovertemplate": "<b>%{hovertext}</b><br><br>RFM_Score=243<br>Recency=%{x}<br>Frequency=%{y}<extra></extra>",
                  "hovertext": [
                    96
                  ],
                  "legendgroup": "243",
                  "marker": {
                    "color": "#19d3f3",
                    "symbol": "circle"
                  },
                  "mode": "markers",
                  "name": "243",
                  "orientation": "v",
                  "showlegend": true,
                  "type": "scatter",
                  "x": [
                    87
                  ],
                  "xaxis": "x",
                  "y": [
                    13
                  ],
                  "yaxis": "y"
                }
              ],
              "layout": {
                "legend": {
                  "title": {
                    "text": "RFM_Score"
                  },
                  "tracegroupgap": 0
                },
                "scene": {
                  "xaxis": {
                    "title": {
                      "text": "Recency"
                    }
                  },
                  "yaxis": {
                    "title": {
                      "text": "Frequency"
                    }
                  },
                  "zaxis": {
                    "title": {
                      "text": "Monetary"
                    }
                  }
                },
                "template": {
                  "data": {
                    "bar": [
                      {
                        "error_x": {
                          "color": "#2a3f5f"
                        },
                        "error_y": {
                          "color": "#2a3f5f"
                        },
                        "marker": {
                          "line": {
                            "color": "#E5ECF6",
                            "width": 0.5
                          },
                          "pattern": {
                            "fillmode": "overlay",
                            "size": 10,
                            "solidity": 0.2
                          }
                        },
                        "type": "bar"
                      }
                    ],
                    "barpolar": [
                      {
                        "marker": {
                          "line": {
                            "color": "#E5ECF6",
                            "width": 0.5
                          },
                          "pattern": {
                            "fillmode": "overlay",
                            "size": 10,
                            "solidity": 0.2
                          }
                        },
                        "type": "barpolar"
                      }
                    ],
                    "carpet": [
                      {
                        "aaxis": {
                          "endlinecolor": "#2a3f5f",
                          "gridcolor": "white",
                          "linecolor": "white",
                          "minorgridcolor": "white",
                          "startlinecolor": "#2a3f5f"
                        },
                        "baxis": {
                          "endlinecolor": "#2a3f5f",
                          "gridcolor": "white",
                          "linecolor": "white",
                          "minorgridcolor": "white",
                          "startlinecolor": "#2a3f5f"
                        },
                        "type": "carpet"
                      }
                    ],
                    "choropleth": [
                      {
                        "colorbar": {
                          "outlinewidth": 0,
                          "ticks": ""
                        },
                        "type": "choropleth"
                      }
                    ],
                    "contour": [
                      {
                        "colorbar": {
                          "outlinewidth": 0,
                          "ticks": ""
                        },
                        "colorscale": [
                          [
                            0,
                            "#0d0887"
                          ],
                          [
                            0.1111111111111111,
                            "#46039f"
                          ],
                          [
                            0.2222222222222222,
                            "#7201a8"
                          ],
                          [
                            0.3333333333333333,
                            "#9c179e"
                          ],
                          [
                            0.4444444444444444,
                            "#bd3786"
                          ],
                          [
                            0.5555555555555556,
                            "#d8576b"
                          ],
                          [
                            0.6666666666666666,
                            "#ed7953"
                          ],
                          [
                            0.7777777777777778,
                            "#fb9f3a"
                          ],
                          [
                            0.8888888888888888,
                            "#fdca26"
                          ],
                          [
                            1,
                            "#f0f921"
                          ]
                        ],
                        "type": "contour"
                      }
                    ],
                    "contourcarpet": [
                      {
                        "colorbar": {
                          "outlinewidth": 0,
                          "ticks": ""
                        },
                        "type": "contourcarpet"
                      }
                    ],
                    "heatmap": [
                      {
                        "colorbar": {
                          "outlinewidth": 0,
                          "ticks": ""
                        },
                        "colorscale": [
                          [
                            0,
                            "#0d0887"
                          ],
                          [
                            0.1111111111111111,
                            "#46039f"
                          ],
                          [
                            0.2222222222222222,
                            "#7201a8"
                          ],
                          [
                            0.3333333333333333,
                            "#9c179e"
                          ],
                          [
                            0.4444444444444444,
                            "#bd3786"
                          ],
                          [
                            0.5555555555555556,
                            "#d8576b"
                          ],
                          [
                            0.6666666666666666,
                            "#ed7953"
                          ],
                          [
                            0.7777777777777778,
                            "#fb9f3a"
                          ],
                          [
                            0.8888888888888888,
                            "#fdca26"
                          ],
                          [
                            1,
                            "#f0f921"
                          ]
                        ],
                        "type": "heatmap"
                      }
                    ],
                    "heatmapgl": [
                      {
                        "colorbar": {
                          "outlinewidth": 0,
                          "ticks": ""
                        },
                        "colorscale": [
                          [
                            0,
                            "#0d0887"
                          ],
                          [
                            0.1111111111111111,
                            "#46039f"
                          ],
                          [
                            0.2222222222222222,
                            "#7201a8"
                          ],
                          [
                            0.3333333333333333,
                            "#9c179e"
                          ],
                          [
                            0.4444444444444444,
                            "#bd3786"
                          ],
                          [
                            0.5555555555555556,
                            "#d8576b"
                          ],
                          [
                            0.6666666666666666,
                            "#ed7953"
                          ],
                          [
                            0.7777777777777778,
                            "#fb9f3a"
                          ],
                          [
                            0.8888888888888888,
                            "#fdca26"
                          ],
                          [
                            1,
                            "#f0f921"
                          ]
                        ],
                        "type": "heatmapgl"
                      }
                    ],
                    "histogram": [
                      {
                        "marker": {
                          "pattern": {
                            "fillmode": "overlay",
                            "size": 10,
                            "solidity": 0.2
                          }
                        },
                        "type": "histogram"
                      }
                    ],
                    "histogram2d": [
                      {
                        "colorbar": {
                          "outlinewidth": 0,
                          "ticks": ""
                        },
                        "colorscale": [
                          [
                            0,
                            "#0d0887"
                          ],
                          [
                            0.1111111111111111,
                            "#46039f"
                          ],
                          [
                            0.2222222222222222,
                            "#7201a8"
                          ],
                          [
                            0.3333333333333333,
                            "#9c179e"
                          ],
                          [
                            0.4444444444444444,
                            "#bd3786"
                          ],
                          [
                            0.5555555555555556,
                            "#d8576b"
                          ],
                          [
                            0.6666666666666666,
                            "#ed7953"
                          ],
                          [
                            0.7777777777777778,
                            "#fb9f3a"
                          ],
                          [
                            0.8888888888888888,
                            "#fdca26"
                          ],
                          [
                            1,
                            "#f0f921"
                          ]
                        ],
                        "type": "histogram2d"
                      }
                    ],
                    "histogram2dcontour": [
                      {
                        "colorbar": {
                          "outlinewidth": 0,
                          "ticks": ""
                        },
                        "colorscale": [
                          [
                            0,
                            "#0d0887"
                          ],
                          [
                            0.1111111111111111,
                            "#46039f"
                          ],
                          [
                            0.2222222222222222,
                            "#7201a8"
                          ],
                          [
                            0.3333333333333333,
                            "#9c179e"
                          ],
                          [
                            0.4444444444444444,
                            "#bd3786"
                          ],
                          [
                            0.5555555555555556,
                            "#d8576b"
                          ],
                          [
                            0.6666666666666666,
                            "#ed7953"
                          ],
                          [
                            0.7777777777777778,
                            "#fb9f3a"
                          ],
                          [
                            0.8888888888888888,
                            "#fdca26"
                          ],
                          [
                            1,
                            "#f0f921"
                          ]
                        ],
                        "type": "histogram2dcontour"
                      }
                    ],
                    "mesh3d": [
                      {
                        "colorbar": {
                          "outlinewidth": 0,
                          "ticks": ""
                        },
                        "type": "mesh3d"
                      }
                    ],
                    "parcoords": [
                      {
                        "line": {
                          "colorbar": {
                            "outlinewidth": 0,
                            "ticks": ""
                          }
                        },
                        "type": "parcoords"
                      }
                    ],
                    "pie": [
                      {
                        "automargin": true,
                        "type": "pie"
                      }
                    ],
                    "scatter": [
                      {
                        "fillpattern": {
                          "fillmode": "overlay",
                          "size": 10,
                          "solidity": 0.2
                        },
                        "type": "scatter"
                      }
                    ],
                    "scatter3d": [
                      {
                        "line": {
                          "colorbar": {
                            "outlinewidth": 0,
                            "ticks": ""
                          }
                        },
                        "marker": {
                          "colorbar": {
                            "outlinewidth": 0,
                            "ticks": ""
                          }
                        },
                        "type": "scatter3d"
                      }
                    ],
                    "scattercarpet": [
                      {
                        "marker": {
                          "colorbar": {
                            "outlinewidth": 0,
                            "ticks": ""
                          }
                        },
                        "type": "scattercarpet"
                      }
                    ],
                    "scattergeo": [
                      {
                        "marker": {
                          "colorbar": {
                            "outlinewidth": 0,
                            "ticks": ""
                          }
                        },
                        "type": "scattergeo"
                      }
                    ],
                    "scattergl": [
                      {
                        "marker": {
                          "colorbar": {
                            "outlinewidth": 0,
                            "ticks": ""
                          }
                        },
                        "type": "scattergl"
                      }
                    ],
                    "scattermapbox": [
                      {
                        "marker": {
                          "colorbar": {
                            "outlinewidth": 0,
                            "ticks": ""
                          }
                        },
                        "type": "scattermapbox"
                      }
                    ],
                    "scatterpolar": [
                      {
                        "marker": {
                          "colorbar": {
                            "outlinewidth": 0,
                            "ticks": ""
                          }
                        },
                        "type": "scatterpolar"
                      }
                    ],
                    "scatterpolargl": [
                      {
                        "marker": {
                          "colorbar": {
                            "outlinewidth": 0,
                            "ticks": ""
                          }
                        },
                        "type": "scatterpolargl"
                      }
                    ],
                    "scatterternary": [
                      {
                        "marker": {
                          "colorbar": {
                            "outlinewidth": 0,
                            "ticks": ""
                          }
                        },
                        "type": "scatterternary"
                      }
                    ],
                    "surface": [
                      {
                        "colorbar": {
                          "outlinewidth": 0,
                          "ticks": ""
                        },
                        "colorscale": [
                          [
                            0,
                            "#0d0887"
                          ],
                          [
                            0.1111111111111111,
                            "#46039f"
                          ],
                          [
                            0.2222222222222222,
                            "#7201a8"
                          ],
                          [
                            0.3333333333333333,
                            "#9c179e"
                          ],
                          [
                            0.4444444444444444,
                            "#bd3786"
                          ],
                          [
                            0.5555555555555556,
                            "#d8576b"
                          ],
                          [
                            0.6666666666666666,
                            "#ed7953"
                          ],
                          [
                            0.7777777777777778,
                            "#fb9f3a"
                          ],
                          [
                            0.8888888888888888,
                            "#fdca26"
                          ],
                          [
                            1,
                            "#f0f921"
                          ]
                        ],
                        "type": "surface"
                      }
                    ],
                    "table": [
                      {
                        "cells": {
                          "fill": {
                            "color": "#EBF0F8"
                          },
                          "line": {
                            "color": "white"
                          }
                        },
                        "header": {
                          "fill": {
                            "color": "#C8D4E3"
                          },
                          "line": {
                            "color": "white"
                          }
                        },
                        "type": "table"
                      }
                    ]
                  },
                  "layout": {
                    "annotationdefaults": {
                      "arrowcolor": "#2a3f5f",
                      "arrowhead": 0,
                      "arrowwidth": 1
                    },
                    "autotypenumbers": "strict",
                    "coloraxis": {
                      "colorbar": {
                        "outlinewidth": 0,
                        "ticks": ""
                      }
                    },
                    "colorscale": {
                      "diverging": [
                        [
                          0,
                          "#8e0152"
                        ],
                        [
                          0.1,
                          "#c51b7d"
                        ],
                        [
                          0.2,
                          "#de77ae"
                        ],
                        [
                          0.3,
                          "#f1b6da"
                        ],
                        [
                          0.4,
                          "#fde0ef"
                        ],
                        [
                          0.5,
                          "#f7f7f7"
                        ],
                        [
                          0.6,
                          "#e6f5d0"
                        ],
                        [
                          0.7,
                          "#b8e186"
                        ],
                        [
                          0.8,
                          "#7fbc41"
                        ],
                        [
                          0.9,
                          "#4d9221"
                        ],
                        [
                          1,
                          "#276419"
                        ]
                      ],
                      "sequential": [
                        [
                          0,
                          "#0d0887"
                        ],
                        [
                          0.1111111111111111,
                          "#46039f"
                        ],
                        [
                          0.2222222222222222,
                          "#7201a8"
                        ],
                        [
                          0.3333333333333333,
                          "#9c179e"
                        ],
                        [
                          0.4444444444444444,
                          "#bd3786"
                        ],
                        [
                          0.5555555555555556,
                          "#d8576b"
                        ],
                        [
                          0.6666666666666666,
                          "#ed7953"
                        ],
                        [
                          0.7777777777777778,
                          "#fb9f3a"
                        ],
                        [
                          0.8888888888888888,
                          "#fdca26"
                        ],
                        [
                          1,
                          "#f0f921"
                        ]
                      ],
                      "sequentialminus": [
                        [
                          0,
                          "#0d0887"
                        ],
                        [
                          0.1111111111111111,
                          "#46039f"
                        ],
                        [
                          0.2222222222222222,
                          "#7201a8"
                        ],
                        [
                          0.3333333333333333,
                          "#9c179e"
                        ],
                        [
                          0.4444444444444444,
                          "#bd3786"
                        ],
                        [
                          0.5555555555555556,
                          "#d8576b"
                        ],
                        [
                          0.6666666666666666,
                          "#ed7953"
                        ],
                        [
                          0.7777777777777778,
                          "#fb9f3a"
                        ],
                        [
                          0.8888888888888888,
                          "#fdca26"
                        ],
                        [
                          1,
                          "#f0f921"
                        ]
                      ]
                    },
                    "colorway": [
                      "#636efa",
                      "#EF553B",
                      "#00cc96",
                      "#ab63fa",
                      "#FFA15A",
                      "#19d3f3",
                      "#FF6692",
                      "#B6E880",
                      "#FF97FF",
                      "#FECB52"
                    ],
                    "font": {
                      "color": "#2a3f5f"
                    },
                    "geo": {
                      "bgcolor": "white",
                      "lakecolor": "white",
                      "landcolor": "#E5ECF6",
                      "showlakes": true,
                      "showland": true,
                      "subunitcolor": "white"
                    },
                    "hoverlabel": {
                      "align": "left"
                    },
                    "hovermode": "closest",
                    "mapbox": {
                      "style": "light"
                    },
                    "paper_bgcolor": "white",
                    "plot_bgcolor": "#E5ECF6",
                    "polar": {
                      "angularaxis": {
                        "gridcolor": "white",
                        "linecolor": "white",
                        "ticks": ""
                      },
                      "bgcolor": "#E5ECF6",
                      "radialaxis": {
                        "gridcolor": "white",
                        "linecolor": "white",
                        "ticks": ""
                      }
                    },
                    "scene": {
                      "xaxis": {
                        "backgroundcolor": "#E5ECF6",
                        "gridcolor": "white",
                        "gridwidth": 2,
                        "linecolor": "white",
                        "showbackground": true,
                        "ticks": "",
                        "zerolinecolor": "white"
                      },
                      "yaxis": {
                        "backgroundcolor": "#E5ECF6",
                        "gridcolor": "white",
                        "gridwidth": 2,
                        "linecolor": "white",
                        "showbackground": true,
                        "ticks": "",
                        "zerolinecolor": "white"
                      },
                      "zaxis": {
                        "backgroundcolor": "#E5ECF6",
                        "gridcolor": "white",
                        "gridwidth": 2,
                        "linecolor": "white",
                        "showbackground": true,
                        "ticks": "",
                        "zerolinecolor": "white"
                      }
                    },
                    "shapedefaults": {
                      "line": {
                        "color": "#2a3f5f"
                      }
                    },
                    "ternary": {
                      "aaxis": {
                        "gridcolor": "white",
                        "linecolor": "white",
                        "ticks": ""
                      },
                      "baxis": {
                        "gridcolor": "white",
                        "linecolor": "white",
                        "ticks": ""
                      },
                      "bgcolor": "#E5ECF6",
                      "caxis": {
                        "gridcolor": "white",
                        "linecolor": "white",
                        "ticks": ""
                      }
                    },
                    "title": {
                      "x": 0.05
                    },
                    "xaxis": {
                      "automargin": true,
                      "gridcolor": "white",
                      "linecolor": "white",
                      "ticks": "",
                      "title": {
                        "standoff": 15
                      },
                      "zerolinecolor": "white",
                      "zerolinewidth": 2
                    },
                    "yaxis": {
                      "automargin": true,
                      "gridcolor": "white",
                      "linecolor": "white",
                      "ticks": "",
                      "title": {
                        "standoff": 15
                      },
                      "zerolinecolor": "white",
                      "zerolinewidth": 2
                    }
                  }
                },
                "title": {
                  "text": "RFM Segmentation"
                },
                "xaxis": {
                  "anchor": "y",
                  "domain": [
                    0,
                    1
                  ],
                  "title": {
                    "text": "Recency"
                  }
                },
                "yaxis": {
                  "anchor": "x",
                  "domain": [
                    0,
                    1
                  ],
                  "title": {
                    "text": "Frequency"
                  }
                }
              }
            }
          },
          "metadata": {},
          "output_type": "display_data"
        }
      ],
      "source": [
        "# Create a 3D scatter plot\n",
        "fig = px.scatter(rfm, x='recency', y='frequency',\n",
        "                    color='RFM_Score', hover_name=rfm.index,\n",
        "                    labels={'recency': 'Recency', 'frequency': 'Frequency', 'monetary': 'Monetary'},\n",
        "                    title='RFM Segmentation')\n",
        "\n",
        "fig.update_layout(scene=dict(\n",
        "    xaxis_title='Recency',\n",
        "    yaxis_title='Frequency',\n",
        "    zaxis_title='Monetary'\n",
        "))\n",
        "\n",
        "fig.show()"
      ]
    },
    {
      "cell_type": "markdown",
      "metadata": {},
      "source": [
        "This interactive visualisation provides several insights:\n",
        "\n",
        "1. **Customer Distribution**: Each point represents a customer, allowing us to see how customers are distributed across the RFM dimensions.\n",
        "\n",
        "2. **Segment Clustering**: The colors represent different RFM scores. Look for clusters of similar colors to identify distinct customer segments.\n",
        "\n",
        "3. **High-Value Customers**: The best customers are typically found in the region with low recency (recent purchases), high frequency, and high monetary value. These are often in the upper-right corner of the plot.\n",
        "\n",
        "4. **At-Risk Customers**: Customers with high recency (haven't purchased recently) but historically high frequency or monetary value may be at risk of churning. Look for these in the left side of the plot.\n",
        "\n",
        "5. **Potential for Upselling**: Customers with low recency and high frequency, but lower monetary value, might be good candidates for upselling strategies.\n",
        "\n",
        "Interact with the plot by hovering over points to get a deeper understanding of your customer base. This visualisation can help inform targeted marketing strategies and personalised customer engagement approaches."
      ]
    },
    {
      "cell_type": "markdown",
      "metadata": {},
      "source": [
        "### After executing the code above, reflect on:\n",
        "- What does an RFM score of '444' represent?\n",
        "- How might we use these scores to create meaningful customer segments?\n",
        "\n",
        "### Explanation:\n",
        "We've calculated RFM scores for each customer based on their purchase history. The recency, frequency, and monetary values are divided into quartiles and assigned scores from 1 to 4. A higher score indicates better customer behaviour in that category. For example, an RFM score of '444' represents a customer who has purchased recently, frequently, and with high monetary value."
      ]
    },
    {
      "cell_type": "markdown",
      "metadata": {},
      "source": [
        "## Step 4: Defining Customer Segments\n",
        "\n",
        "Based on the RFM scores, we'll define customer segments and analyse their characteristics.\n",
        "\n",
        "Clearly defined customer segments allow us to tailor our retention strategies to different groups of customers based on their purchasing behaviour."
      ]
    },
    {
      "cell_type": "code",
      "execution_count": 5,
      "metadata": {},
      "outputs": [
        {
          "name": "stdout",
          "output_type": "stream",
          "text": [
            "Customer_Segment\n",
            "Lost Customers       0.42\n",
            "Regular Customers    0.34\n",
            "Loyal Customers      0.16\n",
            "Best Customers       0.08\n",
            "Name: proportion, dtype: float64\n"
          ]
        },
        {
          "data": {
            "image/png": "[encoded data removed]",
            "text/plain": [
              "<Figure size 1000x600 with 1 Axes>"
            ]
          },
          "metadata": {},
          "output_type": "display_data"
        }
      ],
      "source": [
        "# Define customer segments\n",
        "def segment_customers(row):\n",
        "    if row['RFM_Score'] in ['444', '434', '443', '433']:\n",
        "        return 'Best Customers'\n",
        "    elif row['R'] in [3, 4]:\n",
        "        return 'Lost Customers'\n",
        "    elif row['F'] in [3, 4] and row['M'] in [3, 4]:\n",
        "        return 'Loyal Customers'\n",
        "    elif row['R'] in [3, 4] and row['F'] in [1, 2] and row['M'] in [1, 2]:\n",
        "        return 'New Customers'\n",
        "    else:\n",
        "        return 'Regular Customers'\n",
        "\n",
        "rfm['Customer_Segment'] = rfm.apply(segment_customers, axis=1)\n",
        "\n",
        "# Analyse segment distribution\n",
        "segment_distribution = rfm['Customer_Segment'].value_counts(normalize=True)\n",
        "print(segment_distribution)\n",
        "\n",
        "# Visualise segment distribution\n",
        "plt.figure(figsize=(10, 6))\n",
        "segment_distribution.plot(kind='bar')\n",
        "plt.title('Customer Segment Distribution')\n",
        "plt.xlabel('Segment')\n",
        "plt.ylabel('Proportion of Customers')\n",
        "plt.show()"
      ]
    },
    {
      "cell_type": "markdown",
      "metadata": {},
      "source": [
        "After executing the code above, consider:\n",
        "- Which customer segment is the largest?\n",
        "- What might be some characteristics of each segment?\n",
        "- How could these segments inform our retention strategies?\n",
        "\n",
        "### Explanation:\n",
        "We've defined five customer segments based on RFM scores: Best Customers, Loyal Customers, New Customers, Regular Customers, and Lost Customers. The distribution shows the proportion of customers in each segment. This segmentation provides a foundation for developing targeted retention strategies."
      ]
    },
    {
      "cell_type": "markdown",
      "metadata": {},
      "source": [
        "## Step 5: Analysing Segment Characteristics\n",
        "\n",
        "We'll analyse the characteristics of each customer segment to gain deeper insights into their behaviour.\n",
        "\n",
        "Understanding the unique characteristics of each segment will help us develop more effective, targeted retention strategies."
      ]
    },
    {
      "cell_type": "code",
      "execution_count": 6,
      "metadata": {},
      "outputs": [
        {
          "name": "stdout",
          "output_type": "stream",
          "text": [
            "Average Total Spend by Segment:\n",
            "Customer_Segment\n",
            "Loyal Customers      321.699486\n",
            "Lost Customers       320.569278\n",
            "Regular Customers    313.502140\n",
            "Best Customers       300.339780\n",
            "Name: total_spend, dtype: float64\n",
            "\n",
            "Product Category Preferences by Segment:\n",
            "product_category      Books  Clothing  Electronics  Home Decor    Sports\n",
            "Customer_Segment                                                        \n",
            "Best Customers     0.218487  0.235294     0.159664    0.176471  0.210084\n",
            "Lost Customers     0.213235  0.215686     0.196078    0.178922  0.196078\n",
            "Loyal Customers    0.242009  0.205479     0.196347    0.155251  0.200913\n",
            "Regular Customers  0.185039  0.224409     0.188976    0.161417  0.240157\n"
          ]
        },
        {
          "data": {
            "image/png": "[encoded data removed]",
            "text/plain": [
              "<Figure size 1000x600 with 1 Axes>"
            ]
          },
          "metadata": {},
          "output_type": "display_data"
        }
      ],
      "source": [
        "# Merge RFM data with original dataset\n",
        "df_with_segments = df.merge(rfm[['Customer_Segment']], left_on='customer_id', right_index=True)\n",
        "\n",
        "# Analyse average total spend by segment\n",
        "avg_spend_by_segment = df_with_segments.groupby('Customer_Segment')['total_spend'].mean().sort_values(ascending=False)\n",
        "print(\"Average Total Spend by Segment:\")\n",
        "print(avg_spend_by_segment)\n",
        "\n",
        "# Analyse preferred product categories by segment\n",
        "category_preferences = df_with_segments.groupby(['Customer_Segment', 'product_category']).size().unstack(fill_value=0)\n",
        "category_preferences_pct = category_preferences.div(category_preferences.sum(axis=1), axis=0)\n",
        "print(\"\\nProduct Category Preferences by Segment:\")\n",
        "print(category_preferences_pct)\n",
        "\n",
        "# Visualise average total spend by segment\n",
        "plt.figure(figsize=(10, 6))\n",
        "avg_spend_by_segment.plot(kind='bar')\n",
        "plt.title('Average Total Spend by Customer Segment')\n",
        "plt.xlabel('Segment')\n",
        "plt.ylabel('Average Total Spend')\n",
        "plt.show()"
      ]
    },
    {
      "cell_type": "markdown",
      "metadata": {},
      "source": [
        "After executing the code above, reflect on:\n",
        "- Which segment has the highest average total spend?\n",
        "- Are there notable differences in product category preferences between segments?\n",
        "- How might these insights inform our retention strategies for each segment?\n",
        "\n",
        "### Explanation:\n",
        "By analysing the average total spend and product category preferences for each segment, we gain valuable insights into their behaviour. This information can be used to tailor retention strategies, such as personalised promotions or product recommendations, for each segment."
      ]
    },
    {
      "cell_type": "markdown",
      "metadata": {},
      "source": [
        "### Heatmap of Product Category Preferences by Customer Segment\n",
        "\n",
        "To gain a more nuanced understanding of each customer segment's preferences, we can create a heatmap showing the product category preferences across different segments."
      ]
    },
    {
      "cell_type": "code",
      "execution_count": 7,
      "metadata": {},
      "outputs": [
        {
          "data": {
            "image/png": "[encoded data removed]",
            "text/plain": [
              "<Figure size 1200x800 with 2 Axes>"
            ]
          },
          "metadata": {},
          "output_type": "display_data"
        }
      ],
      "source": [
        "# Calculate category preferences\n",
        "category_preferences = df_with_segments.groupby(['Customer_Segment', 'product_category']).size().unstack(fill_value=0)\n",
        "category_preferences_pct = category_preferences.div(category_preferences.sum(axis=1), axis=0)\n",
        "\n",
        "# Create a heatmap of product category preferences by segment\n",
        "plt.figure(figsize=(12, 8))\n",
        "sns.heatmap(category_preferences_pct, annot=True, cmap='YlOrRd', fmt='.2%')\n",
        "plt.title('Product Category Preferences by Customer Segment')\n",
        "plt.xlabel('Product Categories')\n",
        "plt.ylabel('Customer Segments')\n",
        "plt.tight_layout()  # Adjust layout to prevent cutoff\n",
        "plt.show()"
      ]
    },
    {
      "cell_type": "markdown",
      "metadata": {},
      "source": [
        "This heatmap provides a wealth of information about our customer segments and their shopping habits:\n",
        "\n",
        "1. **Segment-Specific Preferences**: The rows represent customer segments, while columns show product categories. Darker colors indicate a stronger preference for a category within a segment.\n",
        "\n",
        "2. **Cross-Segment Comparison**: You can quickly compare preferences across segments by looking at the color patterns in each row.\n",
        "\n",
        "3. **Category Popularity**: Columns with consistently dark colors across multiple segments indicate universally popular categories.\n",
        "\n",
        "4. **Niche Categories**: Lighter colors across most segments with a dark spot for one segment might indicate a niche category that's particularly important for a specific customer group.\n",
        "\n",
        "5. **Opportunities for Cross-Selling**: Where you see medium intensity colors, there might be opportunities to increase category penetration within that segment.\n",
        "\n",
        "Key Insights for Retention Strategies:\n",
        "- Focus on the darkest cells when designing segment-specific promotions or product bundles.\n",
        "- Look for unexpected patterns that might inform new marketing approaches or product development.\n",
        "- Consider ways to increase engagement in lighter-colored cells, especially for high-value segments.\n",
        "\n",
        "By understanding these preferences, we can tailor our retention strategies more effectively, ensuring that we're promoting the right products to the right customers at the right time."
      ]
    },
    {
      "cell_type": "markdown",
      "metadata": {},
      "source": [
        "## Step 6: Developing Retention Strategies\n",
        "\n",
        "Based on our analysis, we'll propose targeted retention strategies for each customer segment.\n",
        "\n",
        "Tailored retention strategies are more likely to be effective in maintaining and improving customer loyalty across different segments."
      ]
    },
    {
      "cell_type": "markdown",
      "metadata": {},
      "source": [
        "#### Retention Strategies for Best Customers:\n",
        "- Implement a VIP programme with exclusive benefits\n",
        "- Offer early access to new products or sales\n",
        "- Provide personalised customer service\n",
        "\n",
        "#### Retention Strategies for Loyal Customers:\n",
        "- Create a loyalty rewards programme\n",
        "- Send personalised product recommendations based on past purchases\n",
        "- Offer bundle deals on frequently purchased product categories\n",
        "\n",
        "#### Retention Strategies for New Customers:\n",
        "- Send welcome series emails with product education\n",
        "- Offer a discount on the second purchase\n",
        "- Provide excellent customer support to ensure a positive first experience\n",
        "\n",
        "#### Retention Strategies for Regular Customers:\n",
        "- Implement a \"win-back\" campaign for customers who have not purchased recently\n",
        "- Offer promotions on products in their preferred categories\n",
        "- Send targeted emails highlighting new products or features\n",
        "\n",
        "#### Retention Strategies for Lost Customers:\n",
        "- Conduct surveys to understand reasons for churn\n",
        "- Offer a substantial \"come back\" discount\n",
        "- Re-engage through retargeting ads on social media"
      ]
    },
    {
      "cell_type": "markdown",
      "metadata": {},
      "source": [
        "After reviewing the proposed strategies, consider:\n",
        "- How do these strategies align with the characteristics of each segment?\n",
        "- What additional data might be useful for refining these strategies?\n",
        "- How could we measure the effectiveness of these strategies once implemented?\n",
        "\n",
        "### Explanation:\n",
        "These proposed retention strategies are tailored to the characteristics and behaviours of each customer segment. By addressing the specific needs and preferences of each group, we can improve customer retention and potentially increase customer lifetime value."
      ]
    },
    {
      "cell_type": "markdown",
      "metadata": {},
      "source": [
        "## Conclusion and Key Takeaways\n",
        "\n",
        "In this tutorial, we've walked through the process of customer segmentation and developing retention strategies using e-commerce data. Here are the key takeaways:\n",
        "\n",
        "1. We used RFM analysis to segment customers based on their purchasing behaviour.\n",
        "2. We identified five distinct customer segments: Best Customers, Loyal Customers, New Customers, Regular Customers, and Lost Customers.\n",
        "3. We analysed the characteristics of each segment, including average total spend and product category preferences.\n",
        "4. Based on these insights, we proposed targeted retention strategies for each segment.\n",
        "\n",
        "This analysis demonstrates how data-driven insights can inform customer retention efforts. By understanding the unique characteristics and needs of different customer segments, businesses can develop more effective, personalised strategies to improve customer loyalty and increase revenue.\n",
        "\n",
        "Next steps could include:\n",
        "- Implementing A/B testing to measure the effectiveness of different retention strategies\n",
        "- Incorporating additional data sources, such as customer service interactions or website behaviour\n",
        "- Developing a dashboard to track key metrics for each customer segment over time\n",
        "\n",
        "Remember, customer segmentation and retention strategies should be regularly reviewed and updated as customer behaviours and market conditions change."
      ]
    }
  ],
  "metadata": {
    "kernelspec": {
      "display_name": "Python 3",
      "language": "python",
      "name": "python3"
    },
    "language_info": {
      "codemirror_mode": {
        "name": "ipython",
        "version": 3
      },
      "file_extension": ".py",
      "mimetype": "text/x-python",
      "name": "python",
      "nbconvert_exporter": "python",
      "pygments_lexer": "ipython3",
      "version": "3.8.8"
    }
  },
  "nbformat": 4,
  "nbformat_minor": 4
}
