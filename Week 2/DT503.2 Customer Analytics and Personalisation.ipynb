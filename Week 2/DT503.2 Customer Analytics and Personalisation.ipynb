{
  "cells": [
    {
      "cell_type": "markdown",
      "metadata": {},
      "source": [
        "# Customer Segmentation and Retention Strategy Tutorial\n",
        "\n",
        "## Step 1: Data Loading and Initial Exploration\n",
        "\n",
        "### What we're doing:\n",
        "In this step, we'll load the e-commerce dataset and perform an initial exploration to understand its structure and contents.\n",
        "\n",
        "### Why we're doing it:\n",
        "Understanding our data is crucial for identifying potential insights and determining the appropriate analysis methods for our customer segmentation project."
      ]
    },
    {
      "cell_type": "code",
      "execution_count": 23,
      "metadata": {},
      "outputs": [
        {
          "name": "stdout",
          "output_type": "stream",
          "text": [
            "   customer_id  order_id  order_date  product_id product_category  \\\n",
            "0           52      1001  2023-01-01         134           Sports   \n",
            "1           93      1002  2023-01-02         108      Electronics   \n",
            "2           15      1003  2023-01-03         140           Sports   \n",
            "3           72      1004  2023-01-04         183           Sports   \n",
            "4           61      1005  2023-01-05         142       Home Decor   \n",
            "\n",
            "   product_price  quantity     revenue  discount web_traffic_source  \\\n",
            "0            392         3  132.491483        45             Google   \n",
            "1             77         4  179.868736        43             Google   \n",
            "2            375         1  350.985646        43           Facebook   \n",
            "3            381         3  360.287920        30             Direct   \n",
            "4            223         3  336.964856        32           Facebook   \n",
            "\n",
            "  customer_age_group customer_region  customer_lifetime_value  \n",
            "0              26-35          London                     1123  \n",
            "1              26-35      South East                      322  \n",
            "2                56+      North West                     1362  \n",
            "3                56+        Midlands                     1452  \n",
            "4                NaN      South West                     1497  \n",
            "<class 'pandas.core.frame.DataFrame'>\n",
            "RangeIndex: 1000 entries, 0 to 999\n",
            "Data columns (total 13 columns):\n",
            " #   Column                   Non-Null Count  Dtype  \n",
            "---  ------                   --------------  -----  \n",
            " 0   customer_id              1000 non-null   int64  \n",
            " 1   order_id                 1000 non-null   int64  \n",
            " 2   order_date               1000 non-null   object \n",
            " 3   product_id               1000 non-null   int64  \n",
            " 4   product_category         1000 non-null   object \n",
            " 5   product_price            1000 non-null   int64  \n",
            " 6   quantity                 1000 non-null   int64  \n",
            " 7   revenue                  1000 non-null   float64\n",
            " 8   discount                 1000 non-null   int64  \n",
            " 9   web_traffic_source       1000 non-null   object \n",
            " 10  customer_age_group       878 non-null    object \n",
            " 11  customer_region          900 non-null    object \n",
            " 12  customer_lifetime_value  1000 non-null   int64  \n",
            "dtypes: float64(1), int64(7), object(5)\n",
            "memory usage: 101.7+ KB\n",
            "None\n"
          ]
        }
      ],
      "source": [
        "# Import necessary libraries\n",
        "import pandas as pd\n",
        "import matplotlib.pyplot as plt\n",
        "import seaborn as sns\n",
        "\n",
        "# Load the dataset\n",
        "df = pd.read_csv('ecommerce_data_week2.csv')\n",
        "\n",
        "# Display the first few rows and basic information about the dataset\n",
        "print(df.head())\n",
        "print(df.info())"
      ]
    },
    {
      "cell_type": "markdown",
      "metadata": {},
      "source": [
        "After executing the code above, examine the output and reflect on the following:\n",
        "- What columns are available in the dataset?\n",
        "- Are there any missing values?\n",
        "- What data types are present?\n",
        "\n",
        "### Explanation:\n",
        "The dataset contains information about customer orders, including customer demographics, order details, and revenue. We can see columns such as 'customer_id', 'order_date', 'product_category', 'revenue', and 'customer_age_group'. This information will be valuable for our segmentation analysis."
      ]
    },
    {
      "cell_type": "markdown",
      "metadata": {},
      "source": [
        "## Step 2: Data Preprocessing\n",
        "\n",
        "### What we're doing:\n",
        "We'll clean the data and prepare it for analysis by handling missing values, converting data types, and creating derived features.\n",
        "\n",
        "### Why we're doing it:\n",
        "Clean, well-structured data is essential for accurate analysis and insights. By preprocessing our data, we ensure that our subsequent analyses are based on reliable information."
      ]
    },
    {
      "cell_type": "code",
      "execution_count": 24,
      "metadata": {},
      "outputs": [
        {
          "name": "stdout",
          "output_type": "stream",
          "text": [
            "       customer_id     order_id           order_date  product_id  \\\n",
            "count  1000.000000  1000.000000                 1000  1000.00000   \n",
            "mean     50.128000  1500.500000  2024-05-14 12:00:00   149.94800   \n",
            "min       1.000000  1001.000000  2023-01-01 00:00:00   101.00000   \n",
            "25%      24.000000  1250.750000  2023-09-07 18:00:00   125.00000   \n",
            "50%      51.000000  1500.500000  2024-05-14 12:00:00   149.00000   \n",
            "75%      75.000000  1750.250000  2025-01-19 06:00:00   175.00000   \n",
            "max     100.000000  2000.000000  2025-09-26 00:00:00   200.00000   \n",
            "std      29.573505   288.819436                  NaN    29.13304   \n",
            "\n",
            "       product_price     quantity      revenue     discount  \\\n",
            "count    1000.000000  1000.000000  1000.000000  1000.000000   \n",
            "mean      259.177000     2.473000   395.186639    24.684000   \n",
            "min        10.000000     1.000000    91.605571     0.000000   \n",
            "25%       136.000000     1.000000   280.545795    13.000000   \n",
            "50%       267.500000     2.000000   395.893598    25.000000   \n",
            "75%       385.000000     4.000000   510.688603    37.000000   \n",
            "max       498.000000     4.000000   706.519007    50.000000   \n",
            "std       141.725586     1.138669   140.916412    14.352217   \n",
            "\n",
            "       customer_lifetime_value  total_spend  \n",
            "count              1000.000000  1000.000000  \n",
            "mean                863.781000   316.614430  \n",
            "min                 200.000000    49.132902  \n",
            "25%                 548.500000   172.330750  \n",
            "50%                 884.500000   299.166894  \n",
            "75%                1183.750000   442.692190  \n",
            "max                1499.000000   699.244324  \n",
            "std                 369.330229   161.877262  \n"
          ]
        },
        {
          "name": "stderr",
          "output_type": "stream",
          "text": [
            "C:\\Users\\garet\\AppData\\Local\\Temp\\ipykernel_14640\\3411527308.py:8: FutureWarning: A value is trying to be set on a copy of a DataFrame or Series through chained assignment using an inplace method.\n",
            "The behavior will change in pandas 3.0. This inplace method will never work because the intermediate object on which we are setting values always behaves as a copy.\n",
            "\n",
            "For example, when doing 'df[col].method(value, inplace=True)', try using 'df.method({col: value}, inplace=True)' or df[col] = df[col].method(value) instead, to perform the operation inplace on the original object.\n",
            "\n",
            "\n",
            "  df['customer_age_group'].fillna('Unknown', inplace=True)\n",
            "C:\\Users\\garet\\AppData\\Local\\Temp\\ipykernel_14640\\3411527308.py:9: FutureWarning: A value is trying to be set on a copy of a DataFrame or Series through chained assignment using an inplace method.\n",
            "The behavior will change in pandas 3.0. This inplace method will never work because the intermediate object on which we are setting values always behaves as a copy.\n",
            "\n",
            "For example, when doing 'df[col].method(value, inplace=True)', try using 'df.method({col: value}, inplace=True)' or df[col] = df[col].method(value) instead, to perform the operation inplace on the original object.\n",
            "\n",
            "\n",
            "  df['customer_region'].fillna('Unknown', inplace=True)\n"
          ]
        }
      ],
      "source": [
        "# Convert 'order_date' to datetime\n",
        "df['order_date'] = pd.to_datetime(df['order_date'])\n",
        "\n",
        "# Create a 'total_spend' column\n",
        "df['total_spend'] = df['revenue'] * (1 - df['discount'] / 100)\n",
        "\n",
        "# Handle missing values in 'customer_age_group' and 'customer_region'\n",
        "df['customer_age_group'].fillna('Unknown', inplace=True)\n",
        "df['customer_region'].fillna('Unknown', inplace=True)\n",
        "\n",
        "# Display summary statistics\n",
        "print(df.describe())"
      ]
    },
    {
      "cell_type": "markdown",
      "metadata": {},
      "source": [
        "After executing the code above, consider:\n",
        "- How many orders are in the dataset?\n",
        "- What is the average total spend per order?\n",
        "- Are there any unusual values that need further investigation?\n",
        "\n",
        "### Explanation:\n",
        "We've prepared our data for analysis by converting the order date to a datetime format, calculating the total spend after discount, and handling missing values in categorical columns. The summary statistics provide an overview of our numerical variables, helping us identify any potential outliers or unusual patterns."
      ]
    },
    {
      "cell_type": "markdown",
      "metadata": {},
      "source": [
        "## Step 3: Customer Segmentation using RFM Analysis\n",
        "\n",
        "### What we're doing:\n",
        "We'll perform an RFM (Recency, Frequency, Monetary) analysis to segment customers based on their purchasing behaviour.\n",
        "\n",
        "### Why we're doing it:\n",
        "RFM analysis is a powerful method for customer segmentation that takes into account how recently a customer made a purchase, how often they purchase, and how much they spend. This segmentation will help us identify different customer groups for targeted retention strategies."
      ]
    },
    {
      "cell_type": "code",
      "execution_count": 25,
      "metadata": {},
      "outputs": [
        {
          "name": "stdout",
          "output_type": "stream",
          "text": [
            "             recency  frequency     monetary  R  F  M RFM_Score\n",
            "customer_id                                                    \n",
            "1                 46         16  4561.686818  3  4  4       344\n",
            "2                 32         13  4017.174996  3  4  4       344\n",
            "3                 26         12  3332.527600  4  3  3       433\n",
            "4                 91         11  2245.185205  2  3  1       231\n",
            "5                 68         11  3515.332097  2  3  3       233\n"
          ]
        }
      ],
      "source": [
        "# Calculate RFM metrics\n",
        "latest_date = df['order_date'].max()\n",
        "rfm = df.groupby('customer_id').agg({\n",
        "    'order_date': lambda x: (latest_date - x.max()).days,\n",
        "    'order_id': 'count',\n",
        "    'total_spend': 'sum'\n",
        "})\n",
        "rfm.columns = ['recency', 'frequency', 'monetary']\n",
        "\n",
        "# Create RFM score\n",
        "r_labels = range(4, 0, -1)\n",
        "f_labels = range(1, 5)\n",
        "m_labels = range(1, 5)\n",
        "r_quartiles = pd.qcut(rfm['recency'], q=4, labels=r_labels)\n",
        "f_quartiles = pd.qcut(rfm['frequency'], q=4, labels=f_labels)\n",
        "m_quartiles = pd.qcut(rfm['monetary'], q=4, labels=m_labels)\n",
        "rfm['R'] = r_quartiles\n",
        "rfm['F'] = f_quartiles\n",
        "rfm['M'] = m_quartiles\n",
        "rfm['RFM_Score'] = rfm['R'].astype(str) + rfm['F'].astype(str) + rfm['M'].astype(str)\n",
        "\n",
        "# Display the first few rows of the RFM dataframe\n",
        "print(rfm.head())"
      ]
    },
    {
      "cell_type": "markdown",
      "metadata": {},
      "source": [
        "After executing the code above, reflect on:\n",
        "- What does an RFM score of '444' represent?\n",
        "- How might we use these scores to create meaningful customer segments?\n",
        "\n",
        "### Explanation:\n",
        "We've calculated RFM scores for each customer based on their purchase history. The recency, frequency, and monetary values are divided into quartiles and assigned scores from 1 to 4. A higher score indicates better customer behaviour in that category. For example, an RFM score of '444' represents a customer who has purchased recently, frequently, and with high monetary value."
      ]
    },
    {
      "cell_type": "markdown",
      "metadata": {},
      "source": [
        "## Step 4: Defining Customer Segments\n",
        "\n",
        "### What we're doing:\n",
        "Based on the RFM scores, we'll define customer segments and analyse their characteristics.\n",
        "\n",
        "### Why we're doing it:\n",
        "Clearly defined customer segments allow us to tailor our retention strategies to different groups of customers based on their purchasing behaviour."
      ]
    },
    {
      "cell_type": "code",
      "execution_count": 26,
      "metadata": {},
      "outputs": [
        {
          "name": "stdout",
          "output_type": "stream",
          "text": [
            "Customer_Segment\n",
            "Lost Customers       0.42\n",
            "Regular Customers    0.34\n",
            "Loyal Customers      0.16\n",
            "Best Customers       0.08\n",
            "Name: proportion, dtype: float64\n"
          ]
        },
        {
          "data": {
            "image/png": "[encoded data removed]",
            "text/plain": [
              "<Figure size 1000x600 with 1 Axes>"
            ]
          },
          "metadata": {},
          "output_type": "display_data"
        }
      ],
      "source": [
        "# Define customer segments\n",
        "def segment_customers(row):\n",
        "    if row['RFM_Score'] in ['444', '434', '443', '433']:\n",
        "        return 'Best Customers'\n",
        "    elif row['R'] in [3, 4]:\n",
        "        return 'Lost Customers'\n",
        "    elif row['F'] in [3, 4] and row['M'] in [3, 4]:\n",
        "        return 'Loyal Customers'\n",
        "    elif row['R'] in [3, 4] and row['F'] in [1, 2] and row['M'] in [1, 2]:\n",
        "        return 'New Customers'\n",
        "    else:\n",
        "        return 'Regular Customers'\n",
        "\n",
        "rfm['Customer_Segment'] = rfm.apply(segment_customers, axis=1)\n",
        "\n",
        "# Analyse segment distribution\n",
        "segment_distribution = rfm['Customer_Segment'].value_counts(normalize=True)\n",
        "print(segment_distribution)\n",
        "\n",
        "# Visualise segment distribution\n",
        "plt.figure(figsize=(10, 6))\n",
        "segment_distribution.plot(kind='bar')\n",
        "plt.title('Customer Segment Distribution')\n",
        "plt.xlabel('Segment')\n",
        "plt.ylabel('Proportion of Customers')\n",
        "plt.show()"
      ]
    },
    {
      "cell_type": "markdown",
      "metadata": {},
      "source": [
        "After executing the code above, consider:\n",
        "- Which customer segment is the largest?\n",
        "- What might be some characteristics of each segment?\n",
        "- How could these segments inform our retention strategies?\n",
        "\n",
        "### Explanation:\n",
        "We've defined five customer segments based on RFM scores: Best Customers, Loyal Customers, New Customers, Regular Customers, and Lost Customers. The distribution shows the proportion of customers in each segment. This segmentation provides a foundation for developing targeted retention strategies."
      ]
    },
    {
      "cell_type": "markdown",
      "metadata": {},
      "source": [
        "## Step 5: Analysing Segment Characteristics\n",
        "\n",
        "### What we're doing:\n",
        "We'll analyse the characteristics of each customer segment to gain deeper insights into their behaviour.\n",
        "\n",
        "### Why we're doing it:\n",
        "Understanding the unique characteristics of each segment will help us develop more effective, targeted retention strategies."
      ]
    },
    {
      "cell_type": "code",
      "execution_count": 27,
      "metadata": {},
      "outputs": [
        {
          "name": "stdout",
          "output_type": "stream",
          "text": [
            "Average Total Spend by Segment:\n",
            "Customer_Segment\n",
            "Loyal Customers      321.699486\n",
            "Lost Customers       320.569278\n",
            "Regular Customers    313.502140\n",
            "Best Customers       300.339780\n",
            "Name: total_spend, dtype: float64\n",
            "\n",
            "Product Category Preferences by Segment:\n",
            "product_category      Books  Clothing  Electronics  Home Decor    Sports\n",
            "Customer_Segment                                                        \n",
            "Best Customers     0.218487  0.235294     0.159664    0.176471  0.210084\n",
            "Lost Customers     0.213235  0.215686     0.196078    0.178922  0.196078\n",
            "Loyal Customers    0.242009  0.205479     0.196347    0.155251  0.200913\n",
            "Regular Customers  0.185039  0.224409     0.188976    0.161417  0.240157\n"
          ]
        },
        {
          "data": {
            "image/png": "[encoded data removed]",
            "text/plain": [
              "<Figure size 1000x600 with 1 Axes>"
            ]
          },
          "metadata": {},
          "output_type": "display_data"
        }
      ],
      "source": [
        "# Merge RFM data with original dataset\n",
        "df_with_segments = df.merge(rfm[['Customer_Segment']], left_on='customer_id', right_index=True)\n",
        "\n",
        "# Analyse average total spend by segment\n",
        "avg_spend_by_segment = df_with_segments.groupby('Customer_Segment')['total_spend'].mean().sort_values(ascending=False)\n",
        "print(\"Average Total Spend by Segment:\")\n",
        "print(avg_spend_by_segment)\n",
        "\n",
        "# Analyse preferred product categories by segment\n",
        "category_preferences = df_with_segments.groupby(['Customer_Segment', 'product_category']).size().unstack(fill_value=0)\n",
        "category_preferences_pct = category_preferences.div(category_preferences.sum(axis=1), axis=0)\n",
        "print(\"\\nProduct Category Preferences by Segment:\")\n",
        "print(category_preferences_pct)\n",
        "\n",
        "# Visualise average total spend by segment\n",
        "plt.figure(figsize=(10, 6))\n",
        "avg_spend_by_segment.plot(kind='bar')\n",
        "plt.title('Average Total Spend by Customer Segment')\n",
        "plt.xlabel('Segment')\n",
        "plt.ylabel('Average Total Spend')\n",
        "plt.show()"
      ]
    },
    {
      "cell_type": "markdown",
      "metadata": {},
      "source": [
        "After executing the code above, reflect on:\n",
        "- Which segment has the highest average total spend?\n",
        "- Are there notable differences in product category preferences between segments?\n",
        "- How might these insights inform our retention strategies for each segment?\n",
        "\n",
        "### Explanation:\n",
        "By analysing the average total spend and product category preferences for each segment, we gain valuable insights into their behaviour. This information can be used to tailor retention strategies, such as personalised promotions or product recommendations, for each segment."
      ]
    },
    {
      "cell_type": "markdown",
      "metadata": {},
      "source": [
        "## Step 6: Developing Retention Strategies\n",
        "\n",
        "### What we're doing:\n",
        "Based on our analysis, we'll propose targeted retention strategies for each customer segment.\n",
        "\n",
        "### Why we're doing it:\n",
        "Tailored retention strategies are more likely to be effective in maintaining and improving customer loyalty across different segments."
      ]
    },
    {
      "cell_type": "code",
      "execution_count": 29,
      "metadata": {},
      "outputs": [
        {
          "name": "stdout",
          "output_type": "stream",
          "text": [
            "\n",
            "Retention Strategies for Best Customers:\n",
            "- Implement a VIP programme with exclusive benefits\n",
            "- Offer early access to new products or sales\n",
            "- Provide personalised customer service\n",
            "\n",
            "Retention Strategies for Loyal Customers:\n",
            "- Create a loyalty rewards programme\n",
            "- Send personalised product recommendations based on past purchases\n",
            "- Offer bundle deals on frequently purchased product categories\n",
            "\n",
            "Retention Strategies for New Customers:\n",
            "- Send welcome series emails with product education\n",
            "- Offer a discount on the second purchase\n",
            "- Provide excellent customer support to ensure a positive first experience\n",
            "\n",
            "Retention Strategies for Regular Customers:\n",
            "- Implement a \"win-back\" campaign for customers who have not purchased recently\n",
            "- Offer promotions on products in their preferred categories\n",
            "- Send targeted emails highlighting new products or features\n",
            "\n",
            "Retention Strategies for Lost Customers:\n",
            "- Conduct surveys to understand reasons for churn\n",
            "- Offer a substantial \"come back\" discount\n",
            "- Re-engage through retargeting ads on social media\n"
          ]
        }
      ],
      "source": [
        "# Example retention strategies based on our analysis\n",
        "retention_strategies = {\n",
        "    'Best Customers': [\n",
        "        'Implement a VIP programme with exclusive benefits',\n",
        "        'Offer early access to new products or sales',\n",
        "        'Provide personalised customer service'\n",
        "    ],\n",
        "    'Loyal Customers': [\n",
        "        'Create a loyalty rewards programme',\n",
        "        'Send personalised product recommendations based on past purchases',\n",
        "        'Offer bundle deals on frequently purchased product categories'\n",
        "    ],\n",
        "    'New Customers': [\n",
        "        'Send welcome series emails with product education',\n",
        "        'Offer a discount on the second purchase',\n",
        "        'Provide excellent customer support to ensure a positive first experience'\n",
        "    ],\n",
        "    'Regular Customers': [\n",
        "        'Implement a \"win-back\" campaign for customers who have not purchased recently',\n",
        "        'Offer promotions on products in their preferred categories',\n",
        "        'Send targeted emails highlighting new products or features'\n",
        "    ],\n",
        "    'Lost Customers': [\n",
        "        'Conduct surveys to understand reasons for churn',\n",
        "        'Offer a substantial \"come back\" discount',\n",
        "        'Re-engage through retargeting ads on social media'\n",
        "    ]\n",
        "}\n",
        "\n",
        "# Print retention strategies for each segment\n",
        "for segment, strategies in retention_strategies.items():\n",
        "    print(f\"\\nRetention Strategies for {segment}:\")\n",
        "    for strategy in strategies:\n",
        "        print(f\"- {strategy}\")"
      ]
    },
    {
      "cell_type": "markdown",
      "metadata": {},
      "source": [
        "After reviewing the proposed strategies, consider:\n",
        "- How do these strategies align with the characteristics of each segment?\n",
        "- What additional data might be useful for refining these strategies?\n",
        "- How could we measure the effectiveness of these strategies once implemented?\n",
        "\n",
        "### Explanation:\n",
        "These proposed retention strategies are tailored to the characteristics and behaviours of each customer segment. By addressing the specific needs and preferences of each group, we can improve customer retention and potentially increase customer lifetime value."
      ]
    },
    {
      "cell_type": "markdown",
      "metadata": {},
      "source": [
        "## Conclusion and Key Takeaways\n",
        "\n",
        "In this tutorial, we've walked through the process of customer segmentation and developing retention strategies using e-commerce data. Here are the key takeaways:\n",
        "\n",
        "1. We used RFM analysis to segment customers based on their purchasing behaviour.\n",
        "2. We identified five distinct customer segments: Best Customers, Loyal Customers, New Customers, Regular Customers, and Lost Customers.\n",
        "3. We analysed the characteristics of each segment, including average total spend and product category preferences.\n",
        "4. Based on these insights, we proposed targeted retention strategies for each segment.\n",
        "\n",
        "This analysis demonstrates how data-driven insights can inform customer retention efforts. By understanding the unique characteristics and needs of different customer segments, businesses can develop more effective, personalised strategies to improve customer loyalty and increase revenue.\n",
        "\n",
        "Next steps could include:\n",
        "- Implementing A/B testing to measure the effectiveness of different retention strategies\n",
        "- Incorporating additional data sources, such as customer service interactions or website behaviour\n",
        "- Developing a dashboard to track key metrics for each customer segment over time\n",
        "\n",
        "Remember, customer segmentation and retention strategies should be regularly reviewed and updated as customer behaviours and market conditions change."
      ]
    }
  ],
  "metadata": {
    "kernelspec": {
      "display_name": "Python 3",
      "language": "python",
      "name": "python3"
    },
    "language_info": {
      "codemirror_mode": {
        "name": "ipython",
        "version": 3
      },
      "file_extension": ".py",
      "mimetype": "text/x-python",
      "name": "python",
      "nbconvert_exporter": "python",
      "pygments_lexer": "ipython3",
      "version": "3.8.8"
    }
  },
  "nbformat": 4,
  "nbformat_minor": 4
}
